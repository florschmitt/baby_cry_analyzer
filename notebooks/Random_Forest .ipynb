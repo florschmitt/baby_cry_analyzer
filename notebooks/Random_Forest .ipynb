{
 "cells": [
  {
   "cell_type": "code",
   "execution_count": 5,
   "id": "9c1705c3",
   "metadata": {},
   "outputs": [],
   "source": [
    "import os\n",
    "import numpy as np\n",
    "import librosa\n",
    "from sklearn.ensemble import RandomForestClassifier\n",
    "from sklearn.model_selection import train_test_split\n",
    "from sklearn.metrics import classification_report, confusion_matrix, accuracy_score\n",
    "import seaborn as sns\n",
    "import matplotlib.pyplot as plt\n",
    "from tqdm import tqdm\n",
    "from imblearn.over_sampling import RandomOverSampler"
   ]
  },
  {
   "cell_type": "code",
   "execution_count": 2,
   "id": "e423e69a",
   "metadata": {},
   "outputs": [],
   "source": [
    "def extract_features(audio_file):\n",
    "    # Load the audio file using librosa\n",
    "    y, sr = librosa.load(audio_file)\n",
    "\n",
    "    # Apply pre-emphasis to the audio signal\n",
    "    pre_emphasis = 0.97\n",
    "    y = np.append(y[0], y[1:] - pre_emphasis * y[:-1])\n",
    "\n",
    "    # Extract MFCC (Mel-Frequency Cepstral Coefficients) features\n",
    "    mfccs = librosa.feature.mfcc(y=y, sr=sr, n_mfcc=13)\n",
    "\n",
    "    return np.mean(mfccs.T, axis=0)"
   ]
  },
  {
   "cell_type": "code",
   "execution_count": 3,
   "id": "711807ce",
   "metadata": {
    "scrolled": true
   },
   "outputs": [
    {
     "name": "stderr",
     "output_type": "stream",
     "text": [
      "Processing awake: 100%|██████████| 156/156 [00:06<00:00, 22.44it/s]\n",
      "Processing belly_pain: 100%|██████████| 20/20 [00:00<00:00, 61.16it/s]\n",
      "Processing burping: 100%|██████████| 22/22 [00:00<00:00, 64.71it/s]\n",
      "Processing discomfort: 100%|██████████| 325/325 [00:09<00:00, 34.06it/s]\n",
      "Processing hug: 100%|██████████| 157/157 [00:05<00:00, 26.71it/s]\n",
      "Processing hungry: 100%|██████████| 537/537 [00:11<00:00, 47.49it/s]\n",
      "Processing tired: 100%|██████████| 184/184 [00:05<00:00, 34.96it/s]\n"
     ]
    }
   ],
   "source": [
    "# Initialize empty lists to store features and corresponding labels\n",
    "features = []\n",
    "labels = []\n",
    "\n",
    "# Define the path to the main data folder and subfolders for each class\n",
    "data_folder = 'data_set'\n",
    "subfolders = ['awake', 'belly_pain', 'burping', 'discomfort', 'hug', 'hungry', 'tired']\n",
    "\n",
    "# Loop through each subfolder and its corresponding label\n",
    "for label, subfolder in enumerate(subfolders):\n",
    "    # Create the full path to the current subfolder\n",
    "    path = os.path.join(data_folder, subfolder)\n",
    "    \n",
    "    # Check if the subfolder exists\n",
    "    if not os.path.isdir(path):\n",
    "        print(f\"Subfolder {path} not found.\")\n",
    "        continue\n",
    "\n",
    "    # Iterate over audio files in the current subfolder\n",
    "    for file_name in tqdm(os.listdir(path), desc=f\"Processing {subfolder}\"):\n",
    "        # Check if the file is a WAV audio file\n",
    "        if file_name.endswith('.wav'):\n",
    "            # Create the full path to the audio file\n",
    "            audio_file = os.path.join(path, file_name)\n",
    "            \n",
    "            # Extract MFCC features from the audio file\n",
    "            mfccs = extract_features(audio_file)\n",
    "            \n",
    "            # Append the extracted features and corresponding label to lists\n",
    "            features.append(mfccs)\n",
    "            labels.append(label)"
   ]
  },
  {
   "cell_type": "code",
   "execution_count": 6,
   "id": "8ee42ea8",
   "metadata": {},
   "outputs": [],
   "source": [
    "# Convert the lists of features and labels into NumPy arrays\n",
    "features = np.array(features)\n",
    "labels = np.array(labels)\n",
    "\n",
    "# Initialize a RandomOverSampler with a fixed random state for reproducibility\n",
    "ros = RandomOverSampler(random_state=42)\n",
    "\n",
    "# Resample the data to balance the class distribution\n",
    "X_res, y_res = ros.fit_resample(features, labels)\n",
    "\n",
    "# Split the resampled data into training and testing sets\n",
    "X_train, X_test, y_train, y_test = train_test_split(X_res, y_res, test_size=0.2, random_state=42)"
   ]
  },
  {
   "cell_type": "code",
   "execution_count": 8,
   "id": "b6cd6e18",
   "metadata": {},
   "outputs": [
    {
     "data": {
      "text/html": [
       "<style>#sk-container-id-1 {color: black;}#sk-container-id-1 pre{padding: 0;}#sk-container-id-1 div.sk-toggleable {background-color: white;}#sk-container-id-1 label.sk-toggleable__label {cursor: pointer;display: block;width: 100%;margin-bottom: 0;padding: 0.3em;box-sizing: border-box;text-align: center;}#sk-container-id-1 label.sk-toggleable__label-arrow:before {content: \"▸\";float: left;margin-right: 0.25em;color: #696969;}#sk-container-id-1 label.sk-toggleable__label-arrow:hover:before {color: black;}#sk-container-id-1 div.sk-estimator:hover label.sk-toggleable__label-arrow:before {color: black;}#sk-container-id-1 div.sk-toggleable__content {max-height: 0;max-width: 0;overflow: hidden;text-align: left;background-color: #f0f8ff;}#sk-container-id-1 div.sk-toggleable__content pre {margin: 0.2em;color: black;border-radius: 0.25em;background-color: #f0f8ff;}#sk-container-id-1 input.sk-toggleable__control:checked~div.sk-toggleable__content {max-height: 200px;max-width: 100%;overflow: auto;}#sk-container-id-1 input.sk-toggleable__control:checked~label.sk-toggleable__label-arrow:before {content: \"▾\";}#sk-container-id-1 div.sk-estimator input.sk-toggleable__control:checked~label.sk-toggleable__label {background-color: #d4ebff;}#sk-container-id-1 div.sk-label input.sk-toggleable__control:checked~label.sk-toggleable__label {background-color: #d4ebff;}#sk-container-id-1 input.sk-hidden--visually {border: 0;clip: rect(1px 1px 1px 1px);clip: rect(1px, 1px, 1px, 1px);height: 1px;margin: -1px;overflow: hidden;padding: 0;position: absolute;width: 1px;}#sk-container-id-1 div.sk-estimator {font-family: monospace;background-color: #f0f8ff;border: 1px dotted black;border-radius: 0.25em;box-sizing: border-box;margin-bottom: 0.5em;}#sk-container-id-1 div.sk-estimator:hover {background-color: #d4ebff;}#sk-container-id-1 div.sk-parallel-item::after {content: \"\";width: 100%;border-bottom: 1px solid gray;flex-grow: 1;}#sk-container-id-1 div.sk-label:hover label.sk-toggleable__label {background-color: #d4ebff;}#sk-container-id-1 div.sk-serial::before {content: \"\";position: absolute;border-left: 1px solid gray;box-sizing: border-box;top: 0;bottom: 0;left: 50%;z-index: 0;}#sk-container-id-1 div.sk-serial {display: flex;flex-direction: column;align-items: center;background-color: white;padding-right: 0.2em;padding-left: 0.2em;position: relative;}#sk-container-id-1 div.sk-item {position: relative;z-index: 1;}#sk-container-id-1 div.sk-parallel {display: flex;align-items: stretch;justify-content: center;background-color: white;position: relative;}#sk-container-id-1 div.sk-item::before, #sk-container-id-1 div.sk-parallel-item::before {content: \"\";position: absolute;border-left: 1px solid gray;box-sizing: border-box;top: 0;bottom: 0;left: 50%;z-index: -1;}#sk-container-id-1 div.sk-parallel-item {display: flex;flex-direction: column;z-index: 1;position: relative;background-color: white;}#sk-container-id-1 div.sk-parallel-item:first-child::after {align-self: flex-end;width: 50%;}#sk-container-id-1 div.sk-parallel-item:last-child::after {align-self: flex-start;width: 50%;}#sk-container-id-1 div.sk-parallel-item:only-child::after {width: 0;}#sk-container-id-1 div.sk-dashed-wrapped {border: 1px dashed gray;margin: 0 0.4em 0.5em 0.4em;box-sizing: border-box;padding-bottom: 0.4em;background-color: white;}#sk-container-id-1 div.sk-label label {font-family: monospace;font-weight: bold;display: inline-block;line-height: 1.2em;}#sk-container-id-1 div.sk-label-container {text-align: center;}#sk-container-id-1 div.sk-container {/* jupyter's `normalize.less` sets `[hidden] { display: none; }` but bootstrap.min.css set `[hidden] { display: none !important; }` so we also need the `!important` here to be able to override the default hidden behavior on the sphinx rendered scikit-learn.org. See: https://github.com/scikit-learn/scikit-learn/issues/21755 */display: inline-block !important;position: relative;}#sk-container-id-1 div.sk-text-repr-fallback {display: none;}</style><div id=\"sk-container-id-1\" class=\"sk-top-container\"><div class=\"sk-text-repr-fallback\"><pre>RandomForestClassifier(random_state=42)</pre><b>In a Jupyter environment, please rerun this cell to show the HTML representation or trust the notebook. <br />On GitHub, the HTML representation is unable to render, please try loading this page with nbviewer.org.</b></div><div class=\"sk-container\" hidden><div class=\"sk-item\"><div class=\"sk-estimator sk-toggleable\"><input class=\"sk-toggleable__control sk-hidden--visually\" id=\"sk-estimator-id-1\" type=\"checkbox\" checked><label for=\"sk-estimator-id-1\" class=\"sk-toggleable__label sk-toggleable__label-arrow\">RandomForestClassifier</label><div class=\"sk-toggleable__content\"><pre>RandomForestClassifier(random_state=42)</pre></div></div></div></div></div>"
      ],
      "text/plain": [
       "RandomForestClassifier(random_state=42)"
      ]
     },
     "execution_count": 8,
     "metadata": {},
     "output_type": "execute_result"
    }
   ],
   "source": [
    "forest = RandomForestClassifier(n_estimators=100, random_state=42)\n",
    "forest.fit(X_train, y_train)"
   ]
  },
  {
   "cell_type": "code",
   "execution_count": 9,
   "id": "c02f0e4b",
   "metadata": {},
   "outputs": [
    {
     "name": "stdout",
     "output_type": "stream",
     "text": [
      "Accuracy: 0.9454787234042553\n",
      "\n",
      "Classification Report:\n",
      "               precision    recall  f1-score   support\n",
      "\n",
      "       awake       0.89      0.98      0.94       110\n",
      "  belly_pain       1.00      1.00      1.00        99\n",
      "     burping       0.99      1.00      1.00       114\n",
      "  discomfort       0.95      0.90      0.92       119\n",
      "         hug       0.91      1.00      0.96       107\n",
      "      hungry       0.95      0.75      0.84       105\n",
      "       tired       0.93      0.99      0.96        98\n",
      "\n",
      "    accuracy                           0.95       752\n",
      "   macro avg       0.95      0.95      0.94       752\n",
      "weighted avg       0.95      0.95      0.94       752\n",
      "\n"
     ]
    }
   ],
   "source": [
    "y_pred = forest.predict(X_test)"
   ]
  },
  {
   "cell_type": "code",
   "execution_count": 10,
   "id": "b2b9a4c4",
   "metadata": {},
   "outputs": [
    {
     "name": "stdout",
     "output_type": "stream",
     "text": [
      "Classification Report:\n",
      "              precision    recall  f1-score   support\n",
      "\n",
      "           0       0.89      0.98      0.94       110\n",
      "           1       1.00      1.00      1.00        99\n",
      "           2       0.99      1.00      1.00       114\n",
      "           3       0.95      0.90      0.92       119\n",
      "           4       0.91      1.00      0.96       107\n",
      "           5       0.95      0.75      0.84       105\n",
      "           6       0.93      0.99      0.96        98\n",
      "\n",
      "    accuracy                           0.95       752\n",
      "   macro avg       0.95      0.95      0.94       752\n",
      "weighted avg       0.95      0.95      0.94       752\n",
      "\n",
      "Accuracy Score:\n",
      "0.9454787234042553\n",
      "\n",
      "Confusion Matrix:\n",
      " [[108   0   0   0   0   1   1]\n",
      " [  0  99   0   0   0   0   0]\n",
      " [  0   0 114   0   0   0   0]\n",
      " [  4   0   1 107   2   2   3]\n",
      " [  0   0   0   0 107   0   0]\n",
      " [  9   0   0   6   8  79   3]\n",
      " [  0   0   0   0   0   1  97]]\n"
     ]
    }
   ],
   "source": [
    "print(\"Classification Report:\")\n",
    "print(classification_report(y_test, y_pred))\n",
    "\n",
    "print(\"Accuracy Score:\")\n",
    "print(accuracy_score(y_test, y_pred))\n",
    "\n",
    "conf_matrix = confusion_matrix(y_test, y_pred)\n",
    "print(\"\\nConfusion Matrix:\\n\", conf_matrix)"
   ]
  },
  {
   "cell_type": "code",
   "execution_count": 11,
   "id": "49906bf1",
   "metadata": {},
   "outputs": [
    {
     "data": {
      "image/png": "[encoded data removed]",
      "text/plain": [
       "<Figure size 800x600 with 2 Axes>"
      ]
     },
     "metadata": {},
     "output_type": "display_data"
    }
   ],
   "source": [
    "plt.figure(figsize=(8, 6))\n",
    "yellow = (255 / 255, 223 / 255, 0 / 255)\n",
    "blue = (0 / 255, 56 / 255, 168 / 255)\n",
    "custom_cmap = sns.color_palette([blue, yellow])\n",
    "sns.heatmap(conf_matrix, annot=True, fmt='g', cmap=custom_cmap, xticklabels=subfolders, yticklabels=subfolders)\n",
    "plt.xlabel('Predicted')\n",
    "plt.ylabel('Actual')\n",
    "plt.title('Confusion Matrix')\n",
    "plt.show()"
   ]
  },
  {
   "cell_type": "code",
   "execution_count": 13,
   "id": "a3e549e6",
   "metadata": {},
   "outputs": [
    {
     "name": "stdout",
     "output_type": "stream",
     "text": [
      "Processing subfolder: awake\n",
      "File: a_p\\awake\\awake_0.wav | Predicted category: hungry\n",
      "File: a_p\\awake\\awake_130.wav | Predicted category: hug\n",
      "File: a_p\\awake\\awake_16.wav | Predicted category: awake\n",
      "File: a_p\\awake\\awake_83.wav | Predicted category: awake\n",
      "Processing subfolder: belly_pain\n",
      "File: a_p\\belly_pain\\549a46d8-9c84-430e-ade8-97eae2bef787-1430130772174-1.7-m-48-bp.wav | Predicted category: hungry\n",
      "File: a_p\\belly_pain\\BellyPain02.wav | Predicted category: belly_pain\n",
      "Processing subfolder: burping\n",
      "File: a_p\\burping\\7E4B9C14-F955-4BED-9B03-7F3096A6CBFF-1430540826-1.0-f-26-bu.wav | Predicted category: hungry\n",
      "File: a_p\\burping\\Burping-10.wav | Predicted category: burping\n",
      "Processing subfolder: discomfort\n",
      "File: a_p\\discomfort\\2294E2B2-8E36-4DA6-A898-B947CB9446AB-1436462707-1.1-m-26-dc.wav | Predicted category: hungry\n",
      "File: a_p\\discomfort\\Cold_Hot09.wav | Predicted category: discomfort\n",
      "File: a_p\\discomfort\\diaper_6.wav | Predicted category: discomfort\n",
      "File: a_p\\discomfort\\diaper_91.wav | Predicted category: discomfort\n",
      "File: a_p\\discomfort\\uncomfortable_151.wav | Predicted category: discomfort\n",
      "File: a_p\\discomfort\\uncomfortable_16.wav | Predicted category: discomfort\n",
      "Processing subfolder: hug\n",
      "File: a_p\\hug\\hug_128.wav | Predicted category: awake\n",
      "File: a_p\\hug\\hug_156.wav | Predicted category: hug\n",
      "File: a_p\\hug\\hug_90.wav | Predicted category: hug\n",
      "Processing subfolder: hungry\n",
      "File: a_p\\hungry\\0c8f14a9-6999-485b-97a2-913c1cbf099c-1430760394426-1.7-m-26-hu.wav | Predicted category: hungry\n",
      "File: a_p\\hungry\\4cefc13c-e7c0-4b5a-bddb-c40c103e640a-1431583459308-1.7-f-26-hu.wav | Predicted category: hungry\n",
      "File: a_p\\hungry\\ae5a462b-5424-4b5b-82d5-07ccb61654ab-1430405436291-1.7-f-04-hu.wav | Predicted category: hungry\n",
      "File: a_p\\hungry\\hungry_18.wav | Predicted category: hungry\n",
      "File: a_p\\hungry\\hungry_39.wav | Predicted category: tired\n",
      "Processing subfolder: tired\n",
      "File: a_p\\tired\\06c4cfa2-7fa6-4fda-91a1-ea186a4acc64-1430029237378-1.7-f-26-ti.wav | Predicted category: hungry\n",
      "File: a_p\\tired\\d6cda191-4962-4308-9a36-46d5648a95ed-1431587899682-1.7-m-04-ti.wav | Predicted category: tired\n",
      "File: a_p\\tired\\sleepy_63.wav | Predicted category: tired\n"
     ]
    }
   ],
   "source": [
    "# Define a function to predict the category of an audio file using the model\n",
    "def predict_audio_file(file_path, model):\n",
    "    try:\n",
    "        # Extract MFCC features from the audio file\n",
    "        mfccs = extract_features(file_path)\n",
    "        \n",
    "        # Reshape the MFCC features for prediction\n",
    "        mfccs = mfccs.reshape(1, -1)\n",
    "        \n",
    "        # Make a prediction using the provided model\n",
    "        prediction = model.predict(mfccs)\n",
    "        \n",
    "        # Print the predicted category\n",
    "        print(f\"File: {file_path} | Predicted category: {subfolders[prediction[0]]}\")\n",
    "    except Exception as e:\n",
    "        print(f\"Can't load file {file_path}: {e}\")\n",
    "\n",
    "# Define the path to the folder containing subfolders with audio files\n",
    "folder_path = \"a_p\"\n",
    "\n",
    "# Iterate through each subfolder in the main folder\n",
    "for subfolder in subfolders:\n",
    "    subfolder_path = os.path.join(folder_path, subfolder)\n",
    "    \n",
    "    # Check if the subfolder exists\n",
    "    if not os.path.exists(subfolder_path):\n",
    "        print(f\"Subfolder {subfolder_path} not found.\")\n",
    "        continue\n",
    "\n",
    "    # Print the name of the subfolder being processed\n",
    "    print(f\"Processing subfolder: {subfolder}\")\n",
    "    \n",
    "    # Iterate through each audio file in the subfolder and make predictions\n",
    "    for new_file in os.listdir(subfolder_path):\n",
    "        file_path = os.path.join(subfolder_path, new_file)\n",
    "        predict_audio_file(file_path, forest)  # Pass the model 'knn' for prediction"
   ]
  },
  {
   "cell_type": "code",
   "execution_count": 14,
   "id": "178e2206",
   "metadata": {},
   "outputs": [],
   "source": [
    "import pickle\n",
    "with open(\"Forest_94.pkl\", \"wb\") as file:\n",
    "    pickle.dump(forest, file)"
   ]
  },
  {
   "cell_type": "code",
   "execution_count": null,
   "id": "e5771d3b",
   "metadata": {},
   "outputs": [],
   "source": []
  }
 ],
 "metadata": {
  "kernelspec": {
   "display_name": "Python 3 (ipykernel)",
   "language": "python",
   "name": "python3"
  },
  "language_info": {
   "codemirror_mode": {
    "name": "ipython",
    "version": 3
   },
   "file_extension": ".py",
   "mimetype": "text/x-python",
   "name": "python",
   "nbconvert_exporter": "python",
   "pygments_lexer": "ipython3",
   "version": "3.10.8"
  },
  "toc": {
   "base_numbering": 1,
   "nav_menu": {},
   "number_sections": true,
   "sideBar": true,
   "skip_h1_title": false,
   "title_cell": "Table of Contents",
   "title_sidebar": "Contents",
   "toc_cell": false,
   "toc_position": {},
   "toc_section_display": true,
   "toc_window_display": false
  }
 },
 "nbformat": 4,
 "nbformat_minor": 5
}
