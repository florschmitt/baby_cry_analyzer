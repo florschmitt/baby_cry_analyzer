{
  "nbformat": 4,
  "nbformat_minor": 0,
  "metadata": {
    "colab": {
      "provenance": [],
      "gpuType": "T4"
    },
    "kernelspec": {
      "name": "python3",
      "display_name": "Python 3"
    },
    "language_info": {
      "name": "python"
    },
    "accelerator": "GPU"
  },
  "cells": [
    {
      "cell_type": "code",
      "source": [
        "from google.colab import drive\n",
        "drive.mount('/content/drive')"
      ],
      "metadata": {
        "colab": {
          "base_uri": "https://localhost:8080/"
        },
        "id": "tarYv-ASomi7",
        "outputId": "e2608095-68eb-4c43-d037-4e0d807cadff"
      },
      "execution_count": 38,
      "outputs": [
        {
          "output_type": "stream",
          "name": "stdout",
          "text": [
            "Drive already mounted at /content/drive; to attempt to forcibly remount, call drive.mount(\"/content/drive\", force_remount=True).\n"
          ]
        }
      ]
    },
    {
      "cell_type": "code",
      "source": [
        "import os\n",
        "from tensorflow.keras.utils import to_categorical\n",
        "from tqdm import tqdm\n",
        "from PIL import Image\n",
        "import numpy as np\n",
        "\n",
        "def load_spectos():\n",
        "  data_path = '/content/drive/MyDrive/Baby_cry_data/Spectograms'\n",
        "  classes = {'belly_pain':0,\n",
        "             'burping':1,\n",
        "             'discomfort':2,\n",
        "             'hungry':3,\n",
        "             'tired':4}\n",
        "  imgs = []\n",
        "  labels = []\n",
        "  for (cl, i) in classes.items():\n",
        "    #images_path = ''\n",
        "    images_path = [elt for elt in os.listdir(os.path.join(data_path, cl)) if elt.find('.png')>0]\n",
        "    print('images_path:  ', images_path)\n",
        "    for img in tqdm(images_path[:300]):\n",
        "      #path = ''\n",
        "      path = os.path.join(data_path, cl, img)\n",
        "      #print('second for loop', path)\n",
        "      if os.path.exists(path):\n",
        "        image = Image.open(path)\n",
        "        image = image.convert('RGB')\n",
        "        image = image.resize((224, 224))\n",
        "        imgs.append(np.array(image))\n",
        "        labels.append(i)\n",
        "\n",
        "  X = np.array(imgs)\n",
        "  num_classes = len(set(labels))\n",
        "  y = to_categorical(labels, num_classes)\n",
        "\n",
        "\n",
        "  first_split = int(len(imgs) /6.)\n",
        "  second_split = first_split + int(len(imgs) * 0.2)\n",
        "  X_test, X_val, X_train = X[:first_split], X[first_split:second_split], X[second_split:]\n",
        "  y_test, y_val, y_train = y[:first_split], y[first_split:second_split], y[second_split:]\n",
        "\n",
        "  return X_train, y_train, X_val, y_val, X_test, y_test, num_classes"
      ],
      "metadata": {
        "id": "s4AYJZY4yoe-"
      },
      "execution_count": 39,
      "outputs": []
    },
    {
      "cell_type": "code",
      "source": [
        "#load data\n",
        "X_train, y_train, X_val, y_val, X_test, y_test, num_classes = load_spectos()"
      ],
      "metadata": {
        "colab": {
          "base_uri": "https://localhost:8080/"
        },
        "id": "rqb3D7vNOkNa",
        "outputId": "c0b08915-47a5-495b-f72d-a9585f0c67eb"
      },
      "execution_count": 40,
      "outputs": [
        {
          "output_type": "stream",
          "name": "stdout",
          "text": [
            "images_path:   ['gen-belly_pain-0-0-549a46d8-9c84-430e-ade8-97eae2bef787-1430130772174-1.png', 'gen-belly_pain-0-0-643D64AD-B711-469A-AF69-55C0D5D3E30F-1430138495-1.png', 'gen-belly_pain-0-0-643D64AD-B711-469A-AF69-55C0D5D3E30F-1430138506-1.png', 'gen-belly_pain-0-0-643D64AD-B711-469A-AF69-55C0D5D3E30F-1430138524-1.png', 'gen-belly_pain-0-0-643D64AD-B711-469A-AF69-55C0D5D3E30F-1430138514-1.png', 'gen-belly_pain-0-0-643D64AD-B711-469A-AF69-55C0D5D3E30F-1430138536-1.png', 'gen-belly_pain-0-0-643D64AD-B711-469A-AF69-55C0D5D3E30F-1430138591-1.png', 'gen-belly_pain-0-0-643D64AD-B711-469A-AF69-55C0D5D3E30F-1430138545-1.png', 'gen-belly_pain-0-0-ae5f103b-5fee-442f-bb1b-d9d0570c46ab-1431533857965-1.png', 'gen-belly_pain-0-0-999bf14b-e417-4b44-b746-9253f81efe38-1430974001343-1.png', 'gen-belly_pain-0-0-643D64AD-B711-469A-AF69-55C0D5D3E30F-1430138647-1.png', 'gen-belly_pain-0-0-69BDA5D6-0276-4462-9BF7-951799563728-1436936185-1.png', 'gen-belly_pain-0-0-d6cda191-4962-4308-9a36-46d5648a95ed-1431159262344-1.png', 'gen-belly_pain-0-0-d6cda191-4962-4308-9a36-46d5648a95ed-1431700390946-1.png', 'gen-belly_pain-0-0-d6cda191-4962-4308-9a36-46d5648a95ed-1431159272600-1.png', 'gen-belly_pain-0-0-C421C6FE-DFEE-4080-8AEA-848E7CE4756B-1430548333-1.png', 'gen-belly_pain-1-0-643D64AD-B711-469A-AF69-55C0D5D3E30F-1430138514-1.png', 'gen-belly_pain-1-0-549a46d8-9c84-430e-ade8-97eae2bef787-1430130772174-1.png', 'gen-belly_pain-1-0-643D64AD-B711-469A-AF69-55C0D5D3E30F-1430138495-1.png', 'gen-belly_pain-1-0-643D64AD-B711-469A-AF69-55C0D5D3E30F-1430138506-1.png', 'gen-belly_pain-1-0-643D64AD-B711-469A-AF69-55C0D5D3E30F-1430138545-1.png', 'gen-belly_pain-1-0-643D64AD-B711-469A-AF69-55C0D5D3E30F-1430138536-1.png', 'gen-belly_pain-1-0-643D64AD-B711-469A-AF69-55C0D5D3E30F-1430138524-1.png', 'gen-belly_pain-1-0-69BDA5D6-0276-4462-9BF7-951799563728-1436936185-1.png', 'gen-belly_pain-1-0-643D64AD-B711-469A-AF69-55C0D5D3E30F-1430138647-1.png', 'gen-belly_pain-1-0-643D64AD-B711-469A-AF69-55C0D5D3E30F-1430138591-1.png', 'gen-belly_pain-1-0-999bf14b-e417-4b44-b746-9253f81efe38-1430974001343-1.png', 'gen-belly_pain-1-0-C421C6FE-DFEE-4080-8AEA-848E7CE4756B-1430548333-1.png', 'gen-belly_pain-1-0-ae5f103b-5fee-442f-bb1b-d9d0570c46ab-1431533857965-1.png', 'gen-belly_pain-1-0-d6cda191-4962-4308-9a36-46d5648a95ed-1431159262344-1.png', 'gen-belly_pain-2-0-643D64AD-B711-469A-AF69-55C0D5D3E30F-1430138495-1.png', 'gen-belly_pain-1-0-d6cda191-4962-4308-9a36-46d5648a95ed-1431159272600-1.png', 'gen-belly_pain-2-0-549a46d8-9c84-430e-ade8-97eae2bef787-1430130772174-1.png', 'gen-belly_pain-1-0-d6cda191-4962-4308-9a36-46d5648a95ed-1431700390946-1.png', 'gen-belly_pain-2-0-643D64AD-B711-469A-AF69-55C0D5D3E30F-1430138524-1.png', 'gen-belly_pain-2-0-643D64AD-B711-469A-AF69-55C0D5D3E30F-1430138514-1.png', 'gen-belly_pain-2-0-643D64AD-B711-469A-AF69-55C0D5D3E30F-1430138506-1.png', 'gen-belly_pain-2-0-643D64AD-B711-469A-AF69-55C0D5D3E30F-1430138545-1.png', 'gen-belly_pain-2-0-643D64AD-B711-469A-AF69-55C0D5D3E30F-1430138536-1.png', 'gen-belly_pain-2-0-643D64AD-B711-469A-AF69-55C0D5D3E30F-1430138591-1.png', 'gen-belly_pain-2-0-643D64AD-B711-469A-AF69-55C0D5D3E30F-1430138647-1.png', 'gen-belly_pain-2-0-ae5f103b-5fee-442f-bb1b-d9d0570c46ab-1431533857965-1.png', 'gen-belly_pain-2-0-999bf14b-e417-4b44-b746-9253f81efe38-1430974001343-1.png', 'gen-belly_pain-2-0-69BDA5D6-0276-4462-9BF7-951799563728-1436936185-1.png', 'gen-belly_pain-2-0-d6cda191-4962-4308-9a36-46d5648a95ed-1431159262344-1.png', 'gen-belly_pain-2-0-C421C6FE-DFEE-4080-8AEA-848E7CE4756B-1430548333-1.png', 'gen-belly_pain-2-0-d6cda191-4962-4308-9a36-46d5648a95ed-1431159272600-1.png', 'gen-belly_pain-2-0-d6cda191-4962-4308-9a36-46d5648a95ed-1431700390946-1.png', 'gen-belly_pain-3-0-643D64AD-B711-469A-AF69-55C0D5D3E30F-1430138495-1.png', 'gen-belly_pain-3-0-643D64AD-B711-469A-AF69-55C0D5D3E30F-1430138506-1.png', 'gen-belly_pain-3-0-643D64AD-B711-469A-AF69-55C0D5D3E30F-1430138514-1.png', 'gen-belly_pain-3-0-549a46d8-9c84-430e-ade8-97eae2bef787-1430130772174-1.png', 'gen-belly_pain-3-0-643D64AD-B711-469A-AF69-55C0D5D3E30F-1430138591-1.png', 'gen-belly_pain-3-0-643D64AD-B711-469A-AF69-55C0D5D3E30F-1430138524-1.png', 'gen-belly_pain-3-0-643D64AD-B711-469A-AF69-55C0D5D3E30F-1430138536-1.png', 'gen-belly_pain-3-0-643D64AD-B711-469A-AF69-55C0D5D3E30F-1430138545-1.png', 'gen-belly_pain-3-0-999bf14b-e417-4b44-b746-9253f81efe38-1430974001343-1.png', 'gen-belly_pain-3-0-643D64AD-B711-469A-AF69-55C0D5D3E30F-1430138647-1.png', 'gen-belly_pain-3-0-69BDA5D6-0276-4462-9BF7-951799563728-1436936185-1.png', 'gen-belly_pain-3-0-C421C6FE-DFEE-4080-8AEA-848E7CE4756B-1430548333-1.png', 'gen-belly_pain-3-0-ae5f103b-5fee-442f-bb1b-d9d0570c46ab-1431533857965-1.png', 'gen-belly_pain-3-0-d6cda191-4962-4308-9a36-46d5648a95ed-1431159272600-1.png', 'gen-belly_pain-3-0-d6cda191-4962-4308-9a36-46d5648a95ed-1431159262344-1.png', 'gen-belly_pain-4-0-549a46d8-9c84-430e-ade8-97eae2bef787-1430130772174-1.png', 'gen-belly_pain-4-0-643D64AD-B711-469A-AF69-55C0D5D3E30F-1430138495-1.png', 'gen-belly_pain-3-0-d6cda191-4962-4308-9a36-46d5648a95ed-1431700390946-1.png', 'gen-belly_pain-4-0-643D64AD-B711-469A-AF69-55C0D5D3E30F-1430138506-1.png', 'gen-belly_pain-4-0-643D64AD-B711-469A-AF69-55C0D5D3E30F-1430138524-1.png', 'gen-belly_pain-4-0-643D64AD-B711-469A-AF69-55C0D5D3E30F-1430138514-1.png', 'gen-belly_pain-4-0-643D64AD-B711-469A-AF69-55C0D5D3E30F-1430138647-1.png', 'gen-belly_pain-4-0-643D64AD-B711-469A-AF69-55C0D5D3E30F-1430138591-1.png', 'gen-belly_pain-4-0-643D64AD-B711-469A-AF69-55C0D5D3E30F-1430138545-1.png', 'gen-belly_pain-4-0-643D64AD-B711-469A-AF69-55C0D5D3E30F-1430138536-1.png', 'gen-belly_pain-4-0-999bf14b-e417-4b44-b746-9253f81efe38-1430974001343-1.png', 'gen-belly_pain-4-0-C421C6FE-DFEE-4080-8AEA-848E7CE4756B-1430548333-1.png', 'gen-belly_pain-4-0-ae5f103b-5fee-442f-bb1b-d9d0570c46ab-1431533857965-1.png', 'gen-belly_pain-4-0-69BDA5D6-0276-4462-9BF7-951799563728-1436936185-1.png', 'gen-belly_pain-4-0-d6cda191-4962-4308-9a36-46d5648a95ed-1431159272600-1.png', 'gen-belly_pain-4-0-d6cda191-4962-4308-9a36-46d5648a95ed-1431700390946-1.png', 'gen-belly_pain-4-0-d6cda191-4962-4308-9a36-46d5648a95ed-1431159262344-1.png', 'gen-belly_pain-5-0-643D64AD-B711-469A-AF69-55C0D5D3E30F-1430138506-1.png', 'gen-belly_pain-5-0-549a46d8-9c84-430e-ade8-97eae2bef787-1430130772174-1.png', 'gen-belly_pain-5-0-643D64AD-B711-469A-AF69-55C0D5D3E30F-1430138514-1.png', 'gen-belly_pain-5-0-643D64AD-B711-469A-AF69-55C0D5D3E30F-1430138495-1.png', 'gen-belly_pain-5-0-643D64AD-B711-469A-AF69-55C0D5D3E30F-1430138545-1.png', 'gen-belly_pain-5-0-643D64AD-B711-469A-AF69-55C0D5D3E30F-1430138591-1.png', 'gen-belly_pain-5-0-643D64AD-B711-469A-AF69-55C0D5D3E30F-1430138536-1.png', 'gen-belly_pain-5-0-643D64AD-B711-469A-AF69-55C0D5D3E30F-1430138524-1.png', 'gen-belly_pain-5-0-69BDA5D6-0276-4462-9BF7-951799563728-1436936185-1.png', 'gen-belly_pain-5-0-999bf14b-e417-4b44-b746-9253f81efe38-1430974001343-1.png', 'gen-belly_pain-5-0-643D64AD-B711-469A-AF69-55C0D5D3E30F-1430138647-1.png', 'gen-belly_pain-5-0-d6cda191-4962-4308-9a36-46d5648a95ed-1431159262344-1.png', 'gen-belly_pain-5-0-ae5f103b-5fee-442f-bb1b-d9d0570c46ab-1431533857965-1.png', 'gen-belly_pain-5-0-C421C6FE-DFEE-4080-8AEA-848E7CE4756B-1430548333-1.png', 'gen-belly_pain-6-0-549a46d8-9c84-430e-ade8-97eae2bef787-1430130772174-1.png', 'gen-belly_pain-6-0-643D64AD-B711-469A-AF69-55C0D5D3E30F-1430138495-1.png', 'gen-belly_pain-5-0-d6cda191-4962-4308-9a36-46d5648a95ed-1431700390946-1.png', 'gen-belly_pain-5-0-d6cda191-4962-4308-9a36-46d5648a95ed-1431159272600-1.png', 'gen-belly_pain-6-0-643D64AD-B711-469A-AF69-55C0D5D3E30F-1430138514-1.png', 'gen-belly_pain-6-0-643D64AD-B711-469A-AF69-55C0D5D3E30F-1430138524-1.png', 'gen-belly_pain-6-0-643D64AD-B711-469A-AF69-55C0D5D3E30F-1430138506-1.png', 'gen-belly_pain-6-0-643D64AD-B711-469A-AF69-55C0D5D3E30F-1430138536-1.png', 'gen-belly_pain-6-0-643D64AD-B711-469A-AF69-55C0D5D3E30F-1430138591-1.png', 'gen-belly_pain-6-0-643D64AD-B711-469A-AF69-55C0D5D3E30F-1430138545-1.png', 'gen-belly_pain-6-0-643D64AD-B711-469A-AF69-55C0D5D3E30F-1430138647-1.png', 'gen-belly_pain-6-0-69BDA5D6-0276-4462-9BF7-951799563728-1436936185-1.png', 'gen-belly_pain-6-0-999bf14b-e417-4b44-b746-9253f81efe38-1430974001343-1.png', 'gen-belly_pain-6-0-d6cda191-4962-4308-9a36-46d5648a95ed-1431159262344-1.png', 'gen-belly_pain-6-0-C421C6FE-DFEE-4080-8AEA-848E7CE4756B-1430548333-1.png', 'gen-belly_pain-6-0-ae5f103b-5fee-442f-bb1b-d9d0570c46ab-1431533857965-1.png', 'gen-belly_pain-7-0-549a46d8-9c84-430e-ade8-97eae2bef787-1430130772174-1.png', 'gen-belly_pain-7-0-643D64AD-B711-469A-AF69-55C0D5D3E30F-1430138495-1.png', 'gen-belly_pain-6-0-d6cda191-4962-4308-9a36-46d5648a95ed-1431159272600-1.png', 'gen-belly_pain-6-0-d6cda191-4962-4308-9a36-46d5648a95ed-1431700390946-1.png', 'gen-belly_pain-7-0-643D64AD-B711-469A-AF69-55C0D5D3E30F-1430138506-1.png', 'gen-belly_pain-7-0-643D64AD-B711-469A-AF69-55C0D5D3E30F-1430138514-1.png', 'gen-belly_pain-7-0-643D64AD-B711-469A-AF69-55C0D5D3E30F-1430138524-1.png', 'gen-belly_pain-7-0-643D64AD-B711-469A-AF69-55C0D5D3E30F-1430138536-1.png', 'gen-belly_pain-7-0-643D64AD-B711-469A-AF69-55C0D5D3E30F-1430138591-1.png', 'gen-belly_pain-7-0-643D64AD-B711-469A-AF69-55C0D5D3E30F-1430138545-1.png', 'gen-belly_pain-7-0-643D64AD-B711-469A-AF69-55C0D5D3E30F-1430138647-1.png', 'gen-belly_pain-7-0-999bf14b-e417-4b44-b746-9253f81efe38-1430974001343-1.png', 'gen-belly_pain-7-0-69BDA5D6-0276-4462-9BF7-951799563728-1436936185-1.png', 'gen-belly_pain-7-0-ae5f103b-5fee-442f-bb1b-d9d0570c46ab-1431533857965-1.png', 'gen-belly_pain-7-0-d6cda191-4962-4308-9a36-46d5648a95ed-1431159262344-1.png', 'gen-belly_pain-7-0-d6cda191-4962-4308-9a36-46d5648a95ed-1431159272600-1.png', 'gen-belly_pain-7-0-C421C6FE-DFEE-4080-8AEA-848E7CE4756B-1430548333-1.png', 'gen-belly_pain-7-0-d6cda191-4962-4308-9a36-46d5648a95ed-1431700390946-1.png', 'gen-belly_pain-8-0-549a46d8-9c84-430e-ade8-97eae2bef787-1430130772174-1.png', 'gen-belly_pain-8-0-643D64AD-B711-469A-AF69-55C0D5D3E30F-1430138495-1.png', 'gen-belly_pain-8-0-643D64AD-B711-469A-AF69-55C0D5D3E30F-1430138506-1.png', 'gen-belly_pain-8-0-643D64AD-B711-469A-AF69-55C0D5D3E30F-1430138514-1.png', 'gen-belly_pain-8-0-643D64AD-B711-469A-AF69-55C0D5D3E30F-1430138536-1.png', 'gen-belly_pain-8-0-643D64AD-B711-469A-AF69-55C0D5D3E30F-1430138524-1.png', 'gen-belly_pain-8-0-643D64AD-B711-469A-AF69-55C0D5D3E30F-1430138545-1.png', 'gen-belly_pain-8-0-643D64AD-B711-469A-AF69-55C0D5D3E30F-1430138591-1.png', 'gen-belly_pain-8-0-643D64AD-B711-469A-AF69-55C0D5D3E30F-1430138647-1.png', 'gen-belly_pain-8-0-69BDA5D6-0276-4462-9BF7-951799563728-1436936185-1.png', 'gen-belly_pain-8-0-999bf14b-e417-4b44-b746-9253f81efe38-1430974001343-1.png', 'gen-belly_pain-8-0-ae5f103b-5fee-442f-bb1b-d9d0570c46ab-1431533857965-1.png', 'gen-belly_pain-8-0-C421C6FE-DFEE-4080-8AEA-848E7CE4756B-1430548333-1.png', 'gen-belly_pain-8-0-d6cda191-4962-4308-9a36-46d5648a95ed-1431159262344-1.png', 'gen-belly_pain-8-0-d6cda191-4962-4308-9a36-46d5648a95ed-1431159272600-1.png', 'gen-belly_pain-8-0-d6cda191-4962-4308-9a36-46d5648a95ed-1431700390946-1.png']\n"
          ]
        },
        {
          "output_type": "stream",
          "name": "stderr",
          "text": [
            "100%|██████████| 144/144 [00:01<00:00, 78.48it/s]\n"
          ]
        },
        {
          "output_type": "stream",
          "name": "stdout",
          "text": [
            "images_path:   ['gen-burping-0-0-79FF400A-97E2-4701-987D-C7C850D5523C-1430089648-1.png', 'gen-burping-0-0-7A864194-4B6B-4850-ABBF-0C2A8170107B-1436846915-1.png', 'gen-burping-0-0-5afc6a14-a9d8-45f8-b31d-c79dd87cc8c6-1430757039803-1.png', 'gen-burping-0-0-AEA8AE04-D00E-48A7-8A0B-6D87E2175121-1430563241-1.png', 'gen-burping-0-0-af30880e-5f98-4dc0-b37a-be6b21fa0ba3-1431240072536-1.png', 'gen-burping-0-0-7E4B9C14-F955-4BED-9B03-7F3096A6CBFF-1430232208-1.png', 'gen-burping-0-0-7E4B9C14-F955-4BED-9B03-7F3096A6CBFF-1430540826-1.png', 'gen-burping-0-0-F24DE44B-762C-4149-AC92-96A5E57ED118-1430816949-1.png', 'gen-burping-1-0-5afc6a14-a9d8-45f8-b31d-c79dd87cc8c6-1430757039803-1.png', 'gen-burping-1-0-7A864194-4B6B-4850-ABBF-0C2A8170107B-1436846915-1.png', 'gen-burping-1-0-7E4B9C14-F955-4BED-9B03-7F3096A6CBFF-1430232208-1.png', 'gen-burping-1-0-79FF400A-97E2-4701-987D-C7C850D5523C-1430089648-1.png', 'gen-burping-1-0-7E4B9C14-F955-4BED-9B03-7F3096A6CBFF-1430540826-1.png', 'gen-burping-1-0-AEA8AE04-D00E-48A7-8A0B-6D87E2175121-1430563241-1.png', 'gen-burping-10-0-5afc6a14-a9d8-45f8-b31d-c79dd87cc8c6-1430757039803-1.png', 'gen-burping-1-0-af30880e-5f98-4dc0-b37a-be6b21fa0ba3-1431240072536-1.png', 'gen-burping-1-0-F24DE44B-762C-4149-AC92-96A5E57ED118-1430816949-1.png', 'gen-burping-10-0-79FF400A-97E2-4701-987D-C7C850D5523C-1430089648-1.png', 'gen-burping-10-0-7E4B9C14-F955-4BED-9B03-7F3096A6CBFF-1430232208-1.png', 'gen-burping-10-0-7A864194-4B6B-4850-ABBF-0C2A8170107B-1436846915-1.png', 'gen-burping-10-0-7E4B9C14-F955-4BED-9B03-7F3096A6CBFF-1430540826-1.png', 'gen-burping-10-0-AEA8AE04-D00E-48A7-8A0B-6D87E2175121-1430563241-1.png', 'gen-burping-10-0-af30880e-5f98-4dc0-b37a-be6b21fa0ba3-1431240072536-1.png', 'gen-burping-11-0-79FF400A-97E2-4701-987D-C7C850D5523C-1430089648-1.png', 'gen-burping-10-0-F24DE44B-762C-4149-AC92-96A5E57ED118-1430816949-1.png', 'gen-burping-11-0-5afc6a14-a9d8-45f8-b31d-c79dd87cc8c6-1430757039803-1.png', 'gen-burping-11-0-7A864194-4B6B-4850-ABBF-0C2A8170107B-1436846915-1.png', 'gen-burping-11-0-AEA8AE04-D00E-48A7-8A0B-6D87E2175121-1430563241-1.png', 'gen-burping-11-0-af30880e-5f98-4dc0-b37a-be6b21fa0ba3-1431240072536-1.png', 'gen-burping-11-0-7E4B9C14-F955-4BED-9B03-7F3096A6CBFF-1430232208-1.png', 'gen-burping-11-0-7E4B9C14-F955-4BED-9B03-7F3096A6CBFF-1430540826-1.png', 'gen-burping-11-0-F24DE44B-762C-4149-AC92-96A5E57ED118-1430816949-1.png', 'gen-burping-12-0-7A864194-4B6B-4850-ABBF-0C2A8170107B-1436846915-1.png', 'gen-burping-12-0-79FF400A-97E2-4701-987D-C7C850D5523C-1430089648-1.png', 'gen-burping-12-0-5afc6a14-a9d8-45f8-b31d-c79dd87cc8c6-1430757039803-1.png', 'gen-burping-12-0-7E4B9C14-F955-4BED-9B03-7F3096A6CBFF-1430540826-1.png', 'gen-burping-12-0-7E4B9C14-F955-4BED-9B03-7F3096A6CBFF-1430232208-1.png', 'gen-burping-12-0-AEA8AE04-D00E-48A7-8A0B-6D87E2175121-1430563241-1.png', 'gen-burping-12-0-F24DE44B-762C-4149-AC92-96A5E57ED118-1430816949-1.png', 'gen-burping-13-0-5afc6a14-a9d8-45f8-b31d-c79dd87cc8c6-1430757039803-1.png', 'gen-burping-12-0-af30880e-5f98-4dc0-b37a-be6b21fa0ba3-1431240072536-1.png', 'gen-burping-13-0-79FF400A-97E2-4701-987D-C7C850D5523C-1430089648-1.png', 'gen-burping-13-0-7A864194-4B6B-4850-ABBF-0C2A8170107B-1436846915-1.png', 'gen-burping-13-0-AEA8AE04-D00E-48A7-8A0B-6D87E2175121-1430563241-1.png', 'gen-burping-13-0-7E4B9C14-F955-4BED-9B03-7F3096A6CBFF-1430232208-1.png', 'gen-burping-13-0-7E4B9C14-F955-4BED-9B03-7F3096A6CBFF-1430540826-1.png', 'gen-burping-14-0-5afc6a14-a9d8-45f8-b31d-c79dd87cc8c6-1430757039803-1.png', 'gen-burping-14-0-79FF400A-97E2-4701-987D-C7C850D5523C-1430089648-1.png', 'gen-burping-13-0-af30880e-5f98-4dc0-b37a-be6b21fa0ba3-1431240072536-1.png', 'gen-burping-13-0-F24DE44B-762C-4149-AC92-96A5E57ED118-1430816949-1.png', 'gen-burping-14-0-7A864194-4B6B-4850-ABBF-0C2A8170107B-1436846915-1.png', 'gen-burping-14-0-7E4B9C14-F955-4BED-9B03-7F3096A6CBFF-1430540826-1.png', 'gen-burping-14-0-7E4B9C14-F955-4BED-9B03-7F3096A6CBFF-1430232208-1.png', 'gen-burping-14-0-af30880e-5f98-4dc0-b37a-be6b21fa0ba3-1431240072536-1.png', 'gen-burping-14-0-F24DE44B-762C-4149-AC92-96A5E57ED118-1430816949-1.png', 'gen-burping-15-0-5afc6a14-a9d8-45f8-b31d-c79dd87cc8c6-1430757039803-1.png', 'gen-burping-14-0-AEA8AE04-D00E-48A7-8A0B-6D87E2175121-1430563241-1.png', 'gen-burping-15-0-7E4B9C14-F955-4BED-9B03-7F3096A6CBFF-1430232208-1.png', 'gen-burping-15-0-79FF400A-97E2-4701-987D-C7C850D5523C-1430089648-1.png', 'gen-burping-15-0-7A864194-4B6B-4850-ABBF-0C2A8170107B-1436846915-1.png', 'gen-burping-15-0-af30880e-5f98-4dc0-b37a-be6b21fa0ba3-1431240072536-1.png', 'gen-burping-15-0-7E4B9C14-F955-4BED-9B03-7F3096A6CBFF-1430540826-1.png', 'gen-burping-15-0-AEA8AE04-D00E-48A7-8A0B-6D87E2175121-1430563241-1.png', 'gen-burping-15-0-F24DE44B-762C-4149-AC92-96A5E57ED118-1430816949-1.png', 'gen-burping-2-0-79FF400A-97E2-4701-987D-C7C850D5523C-1430089648-1.png', 'gen-burping-2-0-5afc6a14-a9d8-45f8-b31d-c79dd87cc8c6-1430757039803-1.png', 'gen-burping-2-0-7A864194-4B6B-4850-ABBF-0C2A8170107B-1436846915-1.png', 'gen-burping-2-0-af30880e-5f98-4dc0-b37a-be6b21fa0ba3-1431240072536-1.png', 'gen-burping-2-0-7E4B9C14-F955-4BED-9B03-7F3096A6CBFF-1430232208-1.png', 'gen-burping-2-0-AEA8AE04-D00E-48A7-8A0B-6D87E2175121-1430563241-1.png', 'gen-burping-2-0-7E4B9C14-F955-4BED-9B03-7F3096A6CBFF-1430540826-1.png', 'gen-burping-3-0-79FF400A-97E2-4701-987D-C7C850D5523C-1430089648-1.png', 'gen-burping-3-0-5afc6a14-a9d8-45f8-b31d-c79dd87cc8c6-1430757039803-1.png', 'gen-burping-2-0-F24DE44B-762C-4149-AC92-96A5E57ED118-1430816949-1.png', 'gen-burping-3-0-7A864194-4B6B-4850-ABBF-0C2A8170107B-1436846915-1.png', 'gen-burping-3-0-7E4B9C14-F955-4BED-9B03-7F3096A6CBFF-1430232208-1.png', 'gen-burping-3-0-7E4B9C14-F955-4BED-9B03-7F3096A6CBFF-1430540826-1.png', 'gen-burping-3-0-af30880e-5f98-4dc0-b37a-be6b21fa0ba3-1431240072536-1.png', 'gen-burping-3-0-AEA8AE04-D00E-48A7-8A0B-6D87E2175121-1430563241-1.png', 'gen-burping-4-0-79FF400A-97E2-4701-987D-C7C850D5523C-1430089648-1.png', 'gen-burping-4-0-5afc6a14-a9d8-45f8-b31d-c79dd87cc8c6-1430757039803-1.png', 'gen-burping-3-0-F24DE44B-762C-4149-AC92-96A5E57ED118-1430816949-1.png', 'gen-burping-4-0-AEA8AE04-D00E-48A7-8A0B-6D87E2175121-1430563241-1.png', 'gen-burping-4-0-7E4B9C14-F955-4BED-9B03-7F3096A6CBFF-1430540826-1.png', 'gen-burping-4-0-7A864194-4B6B-4850-ABBF-0C2A8170107B-1436846915-1.png', 'gen-burping-4-0-7E4B9C14-F955-4BED-9B03-7F3096A6CBFF-1430232208-1.png', 'gen-burping-4-0-af30880e-5f98-4dc0-b37a-be6b21fa0ba3-1431240072536-1.png', 'gen-burping-5-0-5afc6a14-a9d8-45f8-b31d-c79dd87cc8c6-1430757039803-1.png', 'gen-burping-4-0-F24DE44B-762C-4149-AC92-96A5E57ED118-1430816949-1.png', 'gen-burping-5-0-79FF400A-97E2-4701-987D-C7C850D5523C-1430089648-1.png', 'gen-burping-5-0-7E4B9C14-F955-4BED-9B03-7F3096A6CBFF-1430540826-1.png', 'gen-burping-5-0-7A864194-4B6B-4850-ABBF-0C2A8170107B-1436846915-1.png', 'gen-burping-5-0-7E4B9C14-F955-4BED-9B03-7F3096A6CBFF-1430232208-1.png', 'gen-burping-5-0-af30880e-5f98-4dc0-b37a-be6b21fa0ba3-1431240072536-1.png', 'gen-burping-5-0-F24DE44B-762C-4149-AC92-96A5E57ED118-1430816949-1.png', 'gen-burping-6-0-5afc6a14-a9d8-45f8-b31d-c79dd87cc8c6-1430757039803-1.png', 'gen-burping-5-0-AEA8AE04-D00E-48A7-8A0B-6D87E2175121-1430563241-1.png', 'gen-burping-6-0-7A864194-4B6B-4850-ABBF-0C2A8170107B-1436846915-1.png', 'gen-burping-6-0-79FF400A-97E2-4701-987D-C7C850D5523C-1430089648-1.png', 'gen-burping-6-0-7E4B9C14-F955-4BED-9B03-7F3096A6CBFF-1430232208-1.png', 'gen-burping-6-0-AEA8AE04-D00E-48A7-8A0B-6D87E2175121-1430563241-1.png', 'gen-burping-6-0-7E4B9C14-F955-4BED-9B03-7F3096A6CBFF-1430540826-1.png', 'gen-burping-6-0-F24DE44B-762C-4149-AC92-96A5E57ED118-1430816949-1.png', 'gen-burping-6-0-af30880e-5f98-4dc0-b37a-be6b21fa0ba3-1431240072536-1.png', 'gen-burping-7-0-7A864194-4B6B-4850-ABBF-0C2A8170107B-1436846915-1.png', 'gen-burping-7-0-7E4B9C14-F955-4BED-9B03-7F3096A6CBFF-1430232208-1.png', 'gen-burping-7-0-79FF400A-97E2-4701-987D-C7C850D5523C-1430089648-1.png', 'gen-burping-7-0-5afc6a14-a9d8-45f8-b31d-c79dd87cc8c6-1430757039803-1.png', 'gen-burping-7-0-7E4B9C14-F955-4BED-9B03-7F3096A6CBFF-1430540826-1.png', 'gen-burping-7-0-af30880e-5f98-4dc0-b37a-be6b21fa0ba3-1431240072536-1.png', 'gen-burping-7-0-AEA8AE04-D00E-48A7-8A0B-6D87E2175121-1430563241-1.png', 'gen-burping-7-0-F24DE44B-762C-4149-AC92-96A5E57ED118-1430816949-1.png', 'gen-burping-8-0-5afc6a14-a9d8-45f8-b31d-c79dd87cc8c6-1430757039803-1.png', 'gen-burping-8-0-79FF400A-97E2-4701-987D-C7C850D5523C-1430089648-1.png', 'gen-burping-8-0-7A864194-4B6B-4850-ABBF-0C2A8170107B-1436846915-1.png', 'gen-burping-8-0-7E4B9C14-F955-4BED-9B03-7F3096A6CBFF-1430540826-1.png', 'gen-burping-8-0-7E4B9C14-F955-4BED-9B03-7F3096A6CBFF-1430232208-1.png', 'gen-burping-8-0-AEA8AE04-D00E-48A7-8A0B-6D87E2175121-1430563241-1.png', 'gen-burping-8-0-F24DE44B-762C-4149-AC92-96A5E57ED118-1430816949-1.png', 'gen-burping-8-0-af30880e-5f98-4dc0-b37a-be6b21fa0ba3-1431240072536-1.png', 'gen-burping-9-0-79FF400A-97E2-4701-987D-C7C850D5523C-1430089648-1.png', 'gen-burping-9-0-5afc6a14-a9d8-45f8-b31d-c79dd87cc8c6-1430757039803-1.png', 'gen-burping-9-0-7E4B9C14-F955-4BED-9B03-7F3096A6CBFF-1430232208-1.png', 'gen-burping-9-0-7A864194-4B6B-4850-ABBF-0C2A8170107B-1436846915-1.png', 'gen-burping-9-0-7E4B9C14-F955-4BED-9B03-7F3096A6CBFF-1430540826-1.png', 'gen-burping-9-0-F24DE44B-762C-4149-AC92-96A5E57ED118-1430816949-1.png', 'gen-burping-9-0-AEA8AE04-D00E-48A7-8A0B-6D87E2175121-1430563241-1.png', 'gen-burping-9-0-af30880e-5f98-4dc0-b37a-be6b21fa0ba3-1431240072536-1.png']\n"
          ]
        },
        {
          "output_type": "stream",
          "name": "stderr",
          "text": [
            "100%|██████████| 128/128 [00:02<00:00, 47.51it/s]\n"
          ]
        },
        {
          "output_type": "stream",
          "name": "stdout",
          "text": [
            "images_path:   ['gen-discomfort-0-0-10A40438-09AA-4A21-83B4-8119F03F7A11-1430925142-1.png', 'gen-discomfort-0-0-1309B82C-F146-46F0-A723-45345AFA6EA8-1430704008-1.png', 'gen-discomfort-0-0-11417AC2-DCC9-48CD-8177-CA8665E51B2F-1436881512-1.png', 'gen-discomfort-0-0-1309B82C-F146-46F0-A723-45345AFA6EA8-1430703937-1.png', 'gen-discomfort-0-0-1309B82C-F146-46F0-A723-45345AFA6EA8-1432801703-1.png', 'gen-discomfort-0-0-1309B82C-F146-46F0-A723-45345AFA6EA8-1432801693-1.png', 'gen-discomfort-0-0-2294E2B2-8E36-4DA6-A898-B947CB9446AB-1436462707-1.png', 'gen-discomfort-0-0-665BDF6D-2897-49F9-8AD0-978B3B2A0468-1430530218-1.png', 'gen-discomfort-0-0-64acb345-a61e-4ef3-a5a6-cf83c04b83f1-1430058990597-1.png', 'gen-discomfort-0-0-64acb345-a61e-4ef3-a5a6-cf83c04b83f1-1430059012473-1.png', 'gen-discomfort-0-0-79FF400A-97E2-4701-987D-C7C850D5523C-1430089621-1.png', 'gen-discomfort-0-0-79FF400A-97E2-4701-987D-C7C850D5523C-1430089688-1.png', 'gen-discomfort-0-0-7b0e160e-0505-459e-8ecb-304d7afae9d2-1437486974312-1.png', 'gen-discomfort-0-0-999bf14b-e417-4b44-b746-9253f81efe38-1430844994519-1.png', 'gen-discomfort-0-0-999bf14b-e417-4b44-b746-9253f81efe38-1430844958178-1.png', 'gen-discomfort-0-0-999bf14b-e417-4b44-b746-9253f81efe38-1430844979531-1.png', 'gen-discomfort-0-0-837fd072-8704-4196-9ff1-1d2c07886e55-1432429478471-1.png', 'gen-discomfort-0-0-999bf14b-e417-4b44-b746-9253f81efe38-1430845035663-1.png', 'gen-discomfort-0-0-999bf14b-e417-4b44-b746-9253f81efe38-1430845018393-1.png', 'gen-discomfort-0-0-D1CB71F9-EF76-49B3-A703-41D557444D21-1436863419-1.png', 'gen-discomfort-0-0-ae5a462b-5424-4b5b-82d5-07ccb61654ab-1431064345173-1.png', 'gen-discomfort-0-0-a40b9b8d-e4bc-457a-badf-f38bdbc0c358-1430016981469-1.png', 'gen-discomfort-0-0-d6cda191-4962-4308-9a36-46d5648a95ed-1431161889263-1.png', 'gen-discomfort-0-0-d6cda191-4962-4308-9a36-46d5648a95ed-1431086262776-1.png', 'gen-discomfort-0-0-f258a8e2-92cd-4843-9da4-80ed26ec8e10-1436944996156-1.png', 'gen-discomfort-0-0-d6cda191-4962-4308-9a36-46d5648a95ed-1426942891562-1.png', 'gen-discomfort-0-0-f5b29377-7cd6-4688-942c-5a07add39dc5-1437480263225-1.png', 'gen-discomfort-1-0-10A40438-09AA-4A21-83B4-8119F03F7A11-1430925142-1.png', 'gen-discomfort-1-0-11417AC2-DCC9-48CD-8177-CA8665E51B2F-1436881512-1.png', 'gen-discomfort-1-0-1309B82C-F146-46F0-A723-45345AFA6EA8-1430704008-1.png', 'gen-discomfort-1-0-1309B82C-F146-46F0-A723-45345AFA6EA8-1430703937-1.png', 'gen-discomfort-1-0-2294E2B2-8E36-4DA6-A898-B947CB9446AB-1436462707-1.png', 'gen-discomfort-1-0-1309B82C-F146-46F0-A723-45345AFA6EA8-1432801693-1.png', 'gen-discomfort-1-0-1309B82C-F146-46F0-A723-45345AFA6EA8-1432801703-1.png', 'gen-discomfort-1-0-64acb345-a61e-4ef3-a5a6-cf83c04b83f1-1430059012473-1.png', 'gen-discomfort-1-0-665BDF6D-2897-49F9-8AD0-978B3B2A0468-1430530218-1.png', 'gen-discomfort-1-0-79FF400A-97E2-4701-987D-C7C850D5523C-1430089621-1.png', 'gen-discomfort-1-0-64acb345-a61e-4ef3-a5a6-cf83c04b83f1-1430058990597-1.png', 'gen-discomfort-1-0-7b0e160e-0505-459e-8ecb-304d7afae9d2-1437486974312-1.png', 'gen-discomfort-1-0-79FF400A-97E2-4701-987D-C7C850D5523C-1430089688-1.png', 'gen-discomfort-1-0-837fd072-8704-4196-9ff1-1d2c07886e55-1432429478471-1.png', 'gen-discomfort-1-0-999bf14b-e417-4b44-b746-9253f81efe38-1430844958178-1.png', 'gen-discomfort-1-0-999bf14b-e417-4b44-b746-9253f81efe38-1430844979531-1.png', 'gen-discomfort-1-0-999bf14b-e417-4b44-b746-9253f81efe38-1430844994519-1.png', 'gen-discomfort-1-0-999bf14b-e417-4b44-b746-9253f81efe38-1430845035663-1.png', 'gen-discomfort-1-0-999bf14b-e417-4b44-b746-9253f81efe38-1430845018393-1.png', 'gen-discomfort-1-0-a40b9b8d-e4bc-457a-badf-f38bdbc0c358-1430016981469-1.png', 'gen-discomfort-1-0-ae5a462b-5424-4b5b-82d5-07ccb61654ab-1431064345173-1.png', 'gen-discomfort-1-0-d6cda191-4962-4308-9a36-46d5648a95ed-1426942891562-1.png', 'gen-discomfort-1-0-D1CB71F9-EF76-49B3-A703-41D557444D21-1436863419-1.png', 'gen-discomfort-1-0-d6cda191-4962-4308-9a36-46d5648a95ed-1431161889263-1.png', 'gen-discomfort-1-0-d6cda191-4962-4308-9a36-46d5648a95ed-1431086262776-1.png', 'gen-discomfort-1-0-f258a8e2-92cd-4843-9da4-80ed26ec8e10-1436944996156-1.png', 'gen-discomfort-1-0-f5b29377-7cd6-4688-942c-5a07add39dc5-1437480263225-1.png', 'gen-discomfort-2-0-11417AC2-DCC9-48CD-8177-CA8665E51B2F-1436881512-1.png', 'gen-discomfort-2-0-10A40438-09AA-4A21-83B4-8119F03F7A11-1430925142-1.png', 'gen-discomfort-2-0-1309B82C-F146-46F0-A723-45345AFA6EA8-1430703937-1.png', 'gen-discomfort-2-0-1309B82C-F146-46F0-A723-45345AFA6EA8-1432801693-1.png', 'gen-discomfort-2-0-1309B82C-F146-46F0-A723-45345AFA6EA8-1430704008-1.png', 'gen-discomfort-2-0-64acb345-a61e-4ef3-a5a6-cf83c04b83f1-1430058990597-1.png', 'gen-discomfort-2-0-2294E2B2-8E36-4DA6-A898-B947CB9446AB-1436462707-1.png', 'gen-discomfort-2-0-1309B82C-F146-46F0-A723-45345AFA6EA8-1432801703-1.png', 'gen-discomfort-2-0-64acb345-a61e-4ef3-a5a6-cf83c04b83f1-1430059012473-1.png', 'gen-discomfort-2-0-79FF400A-97E2-4701-987D-C7C850D5523C-1430089621-1.png', 'gen-discomfort-2-0-665BDF6D-2897-49F9-8AD0-978B3B2A0468-1430530218-1.png', 'gen-discomfort-2-0-79FF400A-97E2-4701-987D-C7C850D5523C-1430089688-1.png', 'gen-discomfort-2-0-7b0e160e-0505-459e-8ecb-304d7afae9d2-1437486974312-1.png', 'gen-discomfort-2-0-999bf14b-e417-4b44-b746-9253f81efe38-1430844958178-1.png', 'gen-discomfort-2-0-837fd072-8704-4196-9ff1-1d2c07886e55-1432429478471-1.png', 'gen-discomfort-2-0-999bf14b-e417-4b44-b746-9253f81efe38-1430844979531-1.png', 'gen-discomfort-2-0-999bf14b-e417-4b44-b746-9253f81efe38-1430845018393-1.png', 'gen-discomfort-2-0-999bf14b-e417-4b44-b746-9253f81efe38-1430844994519-1.png', 'gen-discomfort-2-0-999bf14b-e417-4b44-b746-9253f81efe38-1430845035663-1.png', 'gen-discomfort-2-0-a40b9b8d-e4bc-457a-badf-f38bdbc0c358-1430016981469-1.png', 'gen-discomfort-2-0-D1CB71F9-EF76-49B3-A703-41D557444D21-1436863419-1.png', 'gen-discomfort-2-0-ae5a462b-5424-4b5b-82d5-07ccb61654ab-1431064345173-1.png', 'gen-discomfort-2-0-f258a8e2-92cd-4843-9da4-80ed26ec8e10-1436944996156-1.png', 'gen-discomfort-2-0-d6cda191-4962-4308-9a36-46d5648a95ed-1431086262776-1.png', 'gen-discomfort-2-0-d6cda191-4962-4308-9a36-46d5648a95ed-1426942891562-1.png', 'gen-discomfort-2-0-d6cda191-4962-4308-9a36-46d5648a95ed-1431161889263-1.png', 'gen-discomfort-3-0-11417AC2-DCC9-48CD-8177-CA8665E51B2F-1436881512-1.png', 'gen-discomfort-3-0-10A40438-09AA-4A21-83B4-8119F03F7A11-1430925142-1.png', 'gen-discomfort-2-0-f5b29377-7cd6-4688-942c-5a07add39dc5-1437480263225-1.png', 'gen-discomfort-3-0-1309B82C-F146-46F0-A723-45345AFA6EA8-1430704008-1.png', 'gen-discomfort-3-0-1309B82C-F146-46F0-A723-45345AFA6EA8-1432801693-1.png', 'gen-discomfort-3-0-1309B82C-F146-46F0-A723-45345AFA6EA8-1432801703-1.png', 'gen-discomfort-3-0-1309B82C-F146-46F0-A723-45345AFA6EA8-1430703937-1.png', 'gen-discomfort-3-0-64acb345-a61e-4ef3-a5a6-cf83c04b83f1-1430059012473-1.png', 'gen-discomfort-3-0-2294E2B2-8E36-4DA6-A898-B947CB9446AB-1436462707-1.png', 'gen-discomfort-3-0-64acb345-a61e-4ef3-a5a6-cf83c04b83f1-1430058990597-1.png', 'gen-discomfort-3-0-79FF400A-97E2-4701-987D-C7C850D5523C-1430089621-1.png', 'gen-discomfort-3-0-79FF400A-97E2-4701-987D-C7C850D5523C-1430089688-1.png', 'gen-discomfort-3-0-665BDF6D-2897-49F9-8AD0-978B3B2A0468-1430530218-1.png', 'gen-discomfort-3-0-7b0e160e-0505-459e-8ecb-304d7afae9d2-1437486974312-1.png', 'gen-discomfort-3-0-999bf14b-e417-4b44-b746-9253f81efe38-1430844979531-1.png', 'gen-discomfort-3-0-837fd072-8704-4196-9ff1-1d2c07886e55-1432429478471-1.png', 'gen-discomfort-3-0-999bf14b-e417-4b44-b746-9253f81efe38-1430844958178-1.png', 'gen-discomfort-3-0-999bf14b-e417-4b44-b746-9253f81efe38-1430845018393-1.png', 'gen-discomfort-3-0-999bf14b-e417-4b44-b746-9253f81efe38-1430845035663-1.png', 'gen-discomfort-3-0-a40b9b8d-e4bc-457a-badf-f38bdbc0c358-1430016981469-1.png', 'gen-discomfort-3-0-999bf14b-e417-4b44-b746-9253f81efe38-1430844994519-1.png', 'gen-discomfort-3-0-D1CB71F9-EF76-49B3-A703-41D557444D21-1436863419-1.png', 'gen-discomfort-3-0-ae5a462b-5424-4b5b-82d5-07ccb61654ab-1431064345173-1.png', 'gen-discomfort-3-0-d6cda191-4962-4308-9a36-46d5648a95ed-1426942891562-1.png', 'gen-discomfort-3-0-d6cda191-4962-4308-9a36-46d5648a95ed-1431161889263-1.png', 'gen-discomfort-3-0-f5b29377-7cd6-4688-942c-5a07add39dc5-1437480263225-1.png', 'gen-discomfort-3-0-d6cda191-4962-4308-9a36-46d5648a95ed-1431086262776-1.png', 'gen-discomfort-3-0-f258a8e2-92cd-4843-9da4-80ed26ec8e10-1436944996156-1.png', 'gen-discomfort-4-0-10A40438-09AA-4A21-83B4-8119F03F7A11-1430925142-1.png', 'gen-discomfort-4-0-11417AC2-DCC9-48CD-8177-CA8665E51B2F-1436881512-1.png', 'gen-discomfort-4-0-1309B82C-F146-46F0-A723-45345AFA6EA8-1430703937-1.png', 'gen-discomfort-4-0-1309B82C-F146-46F0-A723-45345AFA6EA8-1430704008-1.png', 'gen-discomfort-4-0-1309B82C-F146-46F0-A723-45345AFA6EA8-1432801693-1.png', 'gen-discomfort-4-0-2294E2B2-8E36-4DA6-A898-B947CB9446AB-1436462707-1.png', 'gen-discomfort-4-0-64acb345-a61e-4ef3-a5a6-cf83c04b83f1-1430058990597-1.png', 'gen-discomfort-4-0-1309B82C-F146-46F0-A723-45345AFA6EA8-1432801703-1.png', 'gen-discomfort-4-0-665BDF6D-2897-49F9-8AD0-978B3B2A0468-1430530218-1.png', 'gen-discomfort-4-0-79FF400A-97E2-4701-987D-C7C850D5523C-1430089621-1.png', 'gen-discomfort-4-0-64acb345-a61e-4ef3-a5a6-cf83c04b83f1-1430059012473-1.png', 'gen-discomfort-4-0-7b0e160e-0505-459e-8ecb-304d7afae9d2-1437486974312-1.png', 'gen-discomfort-4-0-999bf14b-e417-4b44-b746-9253f81efe38-1430844958178-1.png', 'gen-discomfort-4-0-79FF400A-97E2-4701-987D-C7C850D5523C-1430089688-1.png', 'gen-discomfort-4-0-837fd072-8704-4196-9ff1-1d2c07886e55-1432429478471-1.png', 'gen-discomfort-4-0-999bf14b-e417-4b44-b746-9253f81efe38-1430844994519-1.png', 'gen-discomfort-4-0-999bf14b-e417-4b44-b746-9253f81efe38-1430845018393-1.png', 'gen-discomfort-4-0-999bf14b-e417-4b44-b746-9253f81efe38-1430844979531-1.png', 'gen-discomfort-4-0-999bf14b-e417-4b44-b746-9253f81efe38-1430845035663-1.png', 'gen-discomfort-4-0-d6cda191-4962-4308-9a36-46d5648a95ed-1426942891562-1.png', 'gen-discomfort-4-0-ae5a462b-5424-4b5b-82d5-07ccb61654ab-1431064345173-1.png', 'gen-discomfort-4-0-D1CB71F9-EF76-49B3-A703-41D557444D21-1436863419-1.png', 'gen-discomfort-4-0-a40b9b8d-e4bc-457a-badf-f38bdbc0c358-1430016981469-1.png', 'gen-discomfort-4-0-d6cda191-4962-4308-9a36-46d5648a95ed-1431161889263-1.png', 'gen-discomfort-4-0-d6cda191-4962-4308-9a36-46d5648a95ed-1431086262776-1.png', 'gen-discomfort-4-0-f258a8e2-92cd-4843-9da4-80ed26ec8e10-1436944996156-1.png', 'gen-discomfort-5-0-10A40438-09AA-4A21-83B4-8119F03F7A11-1430925142-1.png', 'gen-discomfort-5-0-1309B82C-F146-46F0-A723-45345AFA6EA8-1430703937-1.png', 'gen-discomfort-5-0-11417AC2-DCC9-48CD-8177-CA8665E51B2F-1436881512-1.png', 'gen-discomfort-4-0-f5b29377-7cd6-4688-942c-5a07add39dc5-1437480263225-1.png', 'gen-discomfort-5-0-2294E2B2-8E36-4DA6-A898-B947CB9446AB-1436462707-1.png', 'gen-discomfort-5-0-1309B82C-F146-46F0-A723-45345AFA6EA8-1432801703-1.png', 'gen-discomfort-5-0-1309B82C-F146-46F0-A723-45345AFA6EA8-1432801693-1.png', 'gen-discomfort-5-0-1309B82C-F146-46F0-A723-45345AFA6EA8-1430704008-1.png', 'gen-discomfort-5-0-64acb345-a61e-4ef3-a5a6-cf83c04b83f1-1430059012473-1.png', 'gen-discomfort-5-0-64acb345-a61e-4ef3-a5a6-cf83c04b83f1-1430058990597-1.png', 'gen-discomfort-5-0-79FF400A-97E2-4701-987D-C7C850D5523C-1430089621-1.png', 'gen-discomfort-5-0-665BDF6D-2897-49F9-8AD0-978B3B2A0468-1430530218-1.png', 'gen-discomfort-5-0-7b0e160e-0505-459e-8ecb-304d7afae9d2-1437486974312-1.png', 'gen-discomfort-5-0-837fd072-8704-4196-9ff1-1d2c07886e55-1432429478471-1.png', 'gen-discomfort-5-0-79FF400A-97E2-4701-987D-C7C850D5523C-1430089688-1.png', 'gen-discomfort-5-0-999bf14b-e417-4b44-b746-9253f81efe38-1430844979531-1.png', 'gen-discomfort-5-0-999bf14b-e417-4b44-b746-9253f81efe38-1430844994519-1.png', 'gen-discomfort-5-0-999bf14b-e417-4b44-b746-9253f81efe38-1430844958178-1.png', 'gen-discomfort-5-0-999bf14b-e417-4b44-b746-9253f81efe38-1430845018393-1.png', 'gen-discomfort-5-0-999bf14b-e417-4b44-b746-9253f81efe38-1430845035663-1.png', 'gen-discomfort-5-0-ae5a462b-5424-4b5b-82d5-07ccb61654ab-1431064345173-1.png', 'gen-discomfort-5-0-a40b9b8d-e4bc-457a-badf-f38bdbc0c358-1430016981469-1.png', 'gen-discomfort-5-0-D1CB71F9-EF76-49B3-A703-41D557444D21-1436863419-1.png', 'gen-discomfort-5-0-d6cda191-4962-4308-9a36-46d5648a95ed-1431086262776-1.png', 'gen-discomfort-5-0-d6cda191-4962-4308-9a36-46d5648a95ed-1426942891562-1.png', 'gen-discomfort-5-0-d6cda191-4962-4308-9a36-46d5648a95ed-1431161889263-1.png', 'gen-discomfort-5-0-f5b29377-7cd6-4688-942c-5a07add39dc5-1437480263225-1.png', 'gen-discomfort-5-0-f258a8e2-92cd-4843-9da4-80ed26ec8e10-1436944996156-1.png', 'gen-discomfort-6-0-11417AC2-DCC9-48CD-8177-CA8665E51B2F-1436881512-1.png', 'gen-discomfort-6-0-10A40438-09AA-4A21-83B4-8119F03F7A11-1430925142-1.png', 'gen-discomfort-6-0-1309B82C-F146-46F0-A723-45345AFA6EA8-1430703937-1.png', 'gen-discomfort-6-0-1309B82C-F146-46F0-A723-45345AFA6EA8-1430704008-1.png', 'gen-discomfort-6-0-1309B82C-F146-46F0-A723-45345AFA6EA8-1432801693-1.png', 'gen-discomfort-6-0-1309B82C-F146-46F0-A723-45345AFA6EA8-1432801703-1.png', 'gen-discomfort-6-0-2294E2B2-8E36-4DA6-A898-B947CB9446AB-1436462707-1.png', 'gen-discomfort-6-0-64acb345-a61e-4ef3-a5a6-cf83c04b83f1-1430058990597-1.png', 'gen-discomfort-6-0-665BDF6D-2897-49F9-8AD0-978B3B2A0468-1430530218-1.png', 'gen-discomfort-6-0-64acb345-a61e-4ef3-a5a6-cf83c04b83f1-1430059012473-1.png', 'gen-discomfort-6-0-79FF400A-97E2-4701-987D-C7C850D5523C-1430089621-1.png', 'gen-discomfort-6-0-79FF400A-97E2-4701-987D-C7C850D5523C-1430089688-1.png', 'gen-discomfort-6-0-837fd072-8704-4196-9ff1-1d2c07886e55-1432429478471-1.png', 'gen-discomfort-6-0-999bf14b-e417-4b44-b746-9253f81efe38-1430844958178-1.png', 'gen-discomfort-6-0-7b0e160e-0505-459e-8ecb-304d7afae9d2-1437486974312-1.png', 'gen-discomfort-6-0-999bf14b-e417-4b44-b746-9253f81efe38-1430844979531-1.png', 'gen-discomfort-6-0-999bf14b-e417-4b44-b746-9253f81efe38-1430845018393-1.png', 'gen-discomfort-6-0-999bf14b-e417-4b44-b746-9253f81efe38-1430844994519-1.png', 'gen-discomfort-6-0-999bf14b-e417-4b44-b746-9253f81efe38-1430845035663-1.png', 'gen-discomfort-6-0-D1CB71F9-EF76-49B3-A703-41D557444D21-1436863419-1.png', 'gen-discomfort-6-0-a40b9b8d-e4bc-457a-badf-f38bdbc0c358-1430016981469-1.png', 'gen-discomfort-6-0-ae5a462b-5424-4b5b-82d5-07ccb61654ab-1431064345173-1.png', 'gen-discomfort-6-0-d6cda191-4962-4308-9a36-46d5648a95ed-1431086262776-1.png', 'gen-discomfort-6-0-d6cda191-4962-4308-9a36-46d5648a95ed-1426942891562-1.png', 'gen-discomfort-6-0-f258a8e2-92cd-4843-9da4-80ed26ec8e10-1436944996156-1.png', 'gen-discomfort-6-0-d6cda191-4962-4308-9a36-46d5648a95ed-1431161889263-1.png', 'gen-discomfort-6-0-f5b29377-7cd6-4688-942c-5a07add39dc5-1437480263225-1.png']\n"
          ]
        },
        {
          "output_type": "stream",
          "name": "stderr",
          "text": [
            "100%|██████████| 189/189 [00:03<00:00, 52.81it/s]\n"
          ]
        },
        {
          "output_type": "stream",
          "name": "stdout",
          "text": [
            "images_path:   ['02c3b725-26e4-4a2c-9336-04ddc58836d9-1430726196216-1.7-m-04-hu.png', '035c6b30-a145-42b9-8d0f-445cd9003d2c-1435948197257-1.7-m-04-hu.png', '02ead89b-aa02-453e-8b83-6ebde9fe7551-1430233132879-1.7-m-26-hu.png', '03abcb8f-400a-47d8-ad82-7e4586cc06be-1431864192133-1.7-f-48-hu.png', '045C5483-69E1-4BEC-B1D8-9286D174B9B2-1430102996-1.0-m-04-hu.png', '04c3386b-e6bc-4bd0-8456-d46ae21a73fc-1435305829013-1.7-f-26-hu.png', '08E9485B-2772-444B-A636-77E14DD14A8C-1431493441-1.0-m-04-hu.png', '0776b33b-c41a-4a2e-8b9c-f1c184be00c8-1437123838264-1.7-f-26-hu.png', '08E9485B-2772-444B-A636-77E14DD14A8C-1431493453-1.0-m-04-hu.png', '090C15A8-5406-4EA5-97A3-81F6527227C0-1430147515-1.0-m-72-hu.png', '090C15A8-5406-4EA5-97A3-81F6527227C0-1430147525-1.0-m-72-hu.png', '0a983cd2-0078-4698-a048-99ac01eb167a-1433917038889-1.7-f-04-hu.png', '090C15A8-5406-4EA5-97A3-81F6527227C0-1430147582-1.0-m-72-hu.png', '090C15A8-5406-4EA5-97A3-81F6527227C0-1430147533-1.0-m-72-hu.png', '0c8f14a9-6999-485b-97a2-913c1cbf099c-1430760394426-1.7-m-26-hu.png', '0D1AD73E-4C5E-45F3-85C4-9A3CB71E8856-1430742197-1.0-m-04-hu.png', '0c8f14a9-6999-485b-97a2-913c1cbf099c-1430760379259-1.7-m-26-hu.png', '0f257dac-7d6f-4575-9192-e3b4dcd3d4ef-1430185441581-1.7-f-26-hu.png', '0F4B1065-4012-47C8-88B7-ACE11B1A536E-1430038775-1.0-m-04-hu.png', '10A40438-09AA-4A21-83B4-8119F03F7A11-1430848034-1.0-f-26-hu.png', '101c6709-39fb-44dc-b905-7cbeed5714a2-1434361963544-1.7-f-04-hu.png', '10A40438-09AA-4A21-83B4-8119F03F7A11-1430848060-1.0-f-26-hu.png', '10A40438-09AA-4A21-83B4-8119F03F7A11-1430848070-1.0-f-26-hu.png', '10A40438-09AA-4A21-83B4-8119F03F7A11-1430925172-1.0-f-26-hu.png', '11417AC2-DCC9-48CD-8177-CA8665E51B2F-1436881489-1.1-m-48-hu.png', '10A40438-09AA-4A21-83B4-8119F03F7A11-1430848101-1.0-f-26-hu.png', '1259bcad-2308-46fa-9a36-b5d8f359886a-1430143617162-1.7-m-04-hu.png', '1259bcad-2308-46fa-9a36-b5d8f359886a-1430143668806-1.7-f-04-hu.png', '1259bcad-2308-46fa-9a36-b5d8f359886a-1430143644843-1.7-f-04-hu.png', '1445575b-80ad-477b-8e48-36194cac728e-1430244987914-1.7-f-48-hu.png', '177dc72e-d0f8-47ef-a5a7-3b46878e11a0-1430736358754-1.7-f-26-hu.png', '1309B82C-F146-46F0-A723-45345AFA6EA8-1430059849-1.0-f-04-hu.png', '177dc72e-d0f8-47ef-a5a7-3b46878e11a0-1430736533767-1 (1).7-f-26-hu.png', '177dc72e-d0f8-47ef-a5a7-3b46878e11a0-1430736533767-1.7-f-26-hu.png', '177dc72e-d0f8-47ef-a5a7-3b46878e11a0-1430736549614-1.7-f-26-hu.png', '189b78c6-9e78-43f2-bcb8-6cc8a462f4dc-1430807938301-1.7-m-22-hu.png', '19aae3d1-51c6-4ffb-aeb8-efb6ae7ba83e-1436861395462-1.7-m-48-hu.png', '1b381a1e-88a6-4a48-b889-a5ccdf0aacaf-1430299568333-1.7-f-72-hu.png', '1abb2260-a652-4ba7-bd98-7d463312730f-1430041727150-1.7-m-04-hu.png', '1f40790f-68f2-4e7e-845e-715bd97c82d0-1429979603276-1.7-m-72-hu.png', '20E2B5A0-40A4-4FD8-8935-AFD1DB833510-1430127670-1.0-m-26-hu.png', '1f40790f-68f2-4e7e-845e-715bd97c82d0-1429979568422-1.7-m-04-hu.png', '218e6fd7-f9c5-4490-afd7-c4fba174e7d2-1430209174300-1.7-m-72-hu.png', '21c07aff-0a8d-4e74-ad5e-e3c7f7bcb11b-1430031235662-1.7-m-04-hu.png', '218e6fd7-f9c5-4490-afd7-c4fba174e7d2-1430209252819-1.7-m-72-hu.png', '2439388A-9CF2-4D3B-9534-E6951FC9EAD4-1436877933-1.1-m-26-hu.png', '22b43570-d440-475b-b2f1-e528c81081f7-1430663490095-1.7-m-04-hu.png', '21c07aff-0a8d-4e74-ad5e-e3c7f7bcb11b-1430105653796-1.7-m-04-hu.png', '2439388A-9CF2-4D3B-9534-E6951FC9EAD4-1436877953-1.1-m-26-hu.png', '2439388A-9CF2-4D3B-9534-E6951FC9EAD4-1436877944-1.1-m-26-hu.png', '24f2a4e1-7161-42a3-a2a2-a29a2422c0b8-1430814730789-1.7-f-26-hu.png', '24f94b49-c8bc-4ed2-b43a-80b099f12936-1430534429690-1.7-m-04-hu.png', '24f2a4e1-7161-42a3-a2a2-a29a2422c0b8-1430814741368-1.7-f-26-hu.png', '24f94b49-c8bc-4ed2-b43a-80b099f12936-1430534715095-1.7-m-04-hu.png', '2602b7c2-e96d-42f6-9767-f1ae74925ef8-1431376228657-1.7-f-22-hu.png', '2562ad82-485a-44c2-ad25-f70fce71480b-1430045593479-1.7-m-72-hu.png', '2ad6d558-32f2-4bfd-99c5-cbd31ee3bb11-1430064396119-1.7-m-72-hu.png', '2a0e6a88-b049-4f46-a3d6-d73ffae470d5-1430770161530-1.7-m-04-hu.png', '2a0e6a88-b049-4f46-a3d6-d73ffae470d5-1430770144865-1.7-m-04-hu.png', '2e25d0a5-0b2b-44ef-8491-e445b16ea75c-1430056332640-1.7-f-26-hu.png', '2e25d0a5-0b2b-44ef-8491-e445b16ea75c-1430056314272-1.7-f-26-hu.png', '2EE636FB-BD76-4118-A0EF-82FAFC32301F-1436586600-1.1-f-04-hu.png', '3030d0e9-0c9b-4616-9b83-f10dc2dedbfd-1430053447333-1.7-m-26-hu.png', '2F1C0515-EC8E-44C1-ABEA-E04EB475543A-1432143888-1.1-m-22-hu.png', '3030d0e9-0c9b-4616-9b83-f10dc2dedbfd-1430053594259-1.7-m-26-hu.png', '3030d0e9-0c9b-4616-9b83-f10dc2dedbfd-1430053456045-1.7-m-26-hu.png', '3030d0e9-0c9b-4616-9b83-f10dc2dedbfd-1430053464739-1.7-m-26-hu.png', '3030d0e9-0c9b-4616-9b83-f10dc2dedbfd-1430326171876-1.7-m-26-hu.png', '30c2cee4-b682-4dcb-86b9-7fa6f36f1b66-1430728411287-1.7-f-72-hu.png', '323cab80-2551-4a46-8c3d-62c7a5264afa-1430382588301-1 (1).7-m-22-hu.png', '35D58153-7AB7-443D-BED0-2D7ABF73743F-1431855847-1.1-m-04-hu.png', '323cab80-2551-4a46-8c3d-62c7a5264afa-1430382588301-1.7-m-22-hu.png', '31e785de-b0c9-464f-88e2-bd8f1dd5cda4-1433403682898-1.7-m-04-hu.png', '37105492-58b1-432e-a1ce-ea154425abab-1430744728397-1.7-f-26-hu.png', '375308C6-F894-49A5-B246-8C2819E9C6ED-1430416651-1.0-m-04-hu.png', '36f1b3ec-3d2a-470e-af6f-0a8cc11b2723-1430237012976-1.7-m-04-hu.png', '376C006E-3664-4056-80D0-7661F631A062-1436930593-1.1-m-26-hu.png', '39180491-e076-4300-b5de-24e812dca6fe-1435708371348-1.7-f-04-hu.png', '3941D08C-5A97-48A4-8830-091D878137F6-1430099813-1.0-m-72-hu.png', '3941D08C-5A97-48A4-8830-091D878137F6-1430099826-1.0-m-72-hu.png', '3bb2445a-9ae9-4dc8-9a2e-86c696ffa405-1430122005544-1.7-m-26-hu.png', '3bb2445a-9ae9-4dc8-9a2e-86c696ffa405-1430122479873-1.7-m-26-hu.png', '3bb2445a-9ae9-4dc8-9a2e-86c696ffa405-1430122381138-1 (1).7-m-26-hu.png', '3bb2445a-9ae9-4dc8-9a2e-86c696ffa405-1430122381138-1.7-m-26-hu.png', '3bb2445a-9ae9-4dc8-9a2e-86c696ffa405-1430142760958-1.7-m-26-hu.png', '3bb2445a-9ae9-4dc8-9a2e-86c696ffa405-1430123758633-1.7-m-26-hu.png', '3bb2445a-9ae9-4dc8-9a2e-86c696ffa405-1430124221551-1.7-m-26-hu.png', '3bb2445a-9ae9-4dc8-9a2e-86c696ffa405-1430142784308-1.7-m-26-hu.png', '3BF71DAF-2A9E-4355-89D3-41AC37E94083-1437281306-1.1-f-26-hu.png', '3bb2445a-9ae9-4dc8-9a2e-86c696ffa405-1430146536552-1.7-m-26-hu.png', '3c0b4e07-33ec-4d68-a6b2-5f5dcb8cff8e-1430070829977-1.7-m-26-hu.png', '3c51dedc-6e4c-47dd-a179-86a25e95f1ef-1430651019625-1.7-m-04-hu.png', '3c51dedc-6e4c-47dd-a179-86a25e95f1ef-1430651049104-1.7-m-72-hu.png', '3d3e244d-20b1-4ec3-9732-92dcd14ff35a-1436961241219-1.7-m-72-hu.png', '3DF341FA-E90B-4335-A51A-A9B0769150CE-1436859277-1.1-m-04-hu.png', '3DF341FA-E90B-4335-A51A-A9B0769150CE-1436859328-1.1-m-04-hu.png', '40a4c760-facf-4911-b0a6-22eccc3ab18d-1430466164038-1.7-f-26-hu.png', '40a4c760-facf-4911-b0a6-22eccc3ab18d-1430466176951-1.7-f-26-hu.png', '40a4c760-facf-4911-b0a6-22eccc3ab18d-1430477691332-1.7-f-26-hu.png', '40a4c760-facf-4911-b0a6-22eccc3ab18d-1430466393384-1.7-f-26-hu.png', '40a4c760-facf-4911-b0a6-22eccc3ab18d-1430477726097-1.7-f-26-hu.png', '40a4c760-facf-4911-b0a6-22eccc3ab18d-1430477717469-1.7-f-26-hu.png', '40a4c760-facf-4911-b0a6-22eccc3ab18d-1430477756469-1.7-f-26-hu.png', '415d69b4-6d84-4bf8-97b0-10f8f108dc1d-1430739498797-1.7-m-04-hu.png', '40a4c760-facf-4911-b0a6-22eccc3ab18d-1430477780076-1.7-f-26-hu.png', '415d69b4-6d84-4bf8-97b0-10f8f108dc1d-1430739528719-1.7-m-04-hu.png', '42ec6f14-6ba6-457f-8a80-101ee201195c-1431345009828-1.7-m-22-hu.png', '459c3f85-5710-4efa-bcc9-8012aa1af55e-1430034880215-1 (1).7-f-48-hu.png', '46002244-7304-45DC-BF69-B6EC2BB25009-1436902364-1.1-f-48-hu.png', '459c3f85-5710-4efa-bcc9-8012aa1af55e-1430034880215-1.7-f-48-hu.png', '459c3f85-5710-4efa-bcc9-8012aa1af55e-1430034895673-1.7-f-48-hu.png', '4be720ce-a5e5-4a48-930f-a212f8a239f6-1434737694572-1.7-f-48-hu.png', '4be720ce-a5e5-4a48-930f-a212f8a239f6-1434737668804-1.7-f-48-hu.png', '4CD5903D-E2CE-401E-B898-D873C763F44B-1430727644-1.0-m-26-hu.png', '4be720ce-a5e5-4a48-930f-a212f8a239f6-1434774932733-1.7-f-48-hu.png', '4be720ce-a5e5-4a48-930f-a212f8a239f6-1434774947458-1.7-f-48-hu.png', '4CD5903D-E2CE-401E-B898-D873C763F44B-1430727653-1.0-m-26-hu.png', '4cefc13c-e7c0-4b5a-bddb-c40c103e640a-1431583459308-1.7-f-26-hu.png', '4cefc13c-e7c0-4b5a-bddb-c40c103e640a-1431583470764-1.7-f-26-hu.png', '4D43D6CD-C084-4081-ABF3-8B25951B2D75-1430146631-1.0-m-04-hu.png', '50DC5FBC-AC95-44F2-B55F-E4E5FB03AC96-1430007656-1 (1).0-m-26-hu.png', '50DC5FBC-AC95-44F2-B55F-E4E5FB03AC96-1430007656-1.0-m-26-hu.png', '50DC5FBC-AC95-44F2-B55F-E4E5FB03AC96-1430007668-1.0-m-26-hu.png', '50DC5FBC-AC95-44F2-B55F-E4E5FB03AC96-1430007691-1.0-m-26-hu.png', '52dfc27a-fbc4-4d9f-bbcf-6406c919324a-1430041644396-1.7-m-26-hu.png', '50DC5FBC-AC95-44F2-B55F-E4E5FB03AC96-1430108024-1.0-m-26-hu.png', '52dfc27a-fbc4-4d9f-bbcf-6406c919324a-1430041657947-1.7-m-26-hu.png', '539FDD32-6326-422E-A707-FCF063D3426C-1437073544-1.1-f-26-hu.png', '539FDD32-6326-422E-A707-FCF063D3426C-1437073534-1.1-f-26-hu.png', '549a46d8-9c84-430e-ade8-97eae2bef787-1430130686288-1.7-m-48-hu.png', '549a46d8-9c84-430e-ade8-97eae2bef787-1430130669340-1.7-m-48-hu.png', '549a46d8-9c84-430e-ade8-97eae2bef787-1430130702316-1.7-m-48-hu.png', '549a46d8-9c84-430e-ade8-97eae2bef787-1430130714659-1.7-m-48-hu.png', '5728DDD6-149B-412F-A14B-C29B9B5E415F-1432635035-1.0-m-26-hu.png', '549a46d8-9c84-430e-ade8-97eae2bef787-1430130760929-1.7-m-48-hu.png', '5afc6a14-a9d8-45f8-b31d-c79dd87cc8c6-1430757081034-1.7-m-48-hu.png', '5728DDD6-149B-412F-A14B-C29B9B5E415F-1432635047-1.0-m-26-hu.png', '5728DDD6-149B-412F-A14B-C29B9B5E415F-1432635069-1.0-m-26-hu.png', '5b49f19f-a3a7-411e-bb32-755da3cbd6f0-1430029991480-1.7-m-48-hu.png', '5C2F730C-9721-40B7-A2D8-C257DB518978-1429966327-1 (1).0-m-04-hu.png', '5C2F730C-9721-40B7-A2D8-C257DB518978-1429966327-1.0-m-04-hu.png', '5C2F730C-9721-40B7-A2D8-C257DB518978-1429966336-1.0-m-04-hu.png', '5E01DC60-1DE3-4AF9-A661-7F649EAE457D-1430141106-1.0-m-26-hu.png', '5f651112-d2a3-4911-b3a5-f37bfc092494-1430734658837-1.7-m-72-hu.png', '602b06a7-31f0-4370-b35a-9cc81d205958-1430739585531-1.7-m-04-hu.png', '5f0a1ed4-ee2c-493c-bc00-6b56aad78a72-1430933240505-1.7-m-72-hu.png', '602b06a7-31f0-4370-b35a-9cc81d205958-1430739609286-1.7-f-72-hu.png', '63CA92F7-973A-4DCA-A410-7B19811A2478-1430041884-1.0-f-26-hu.png', '602b06a7-31f0-4370-b35a-9cc81d205958-1430907796431-1.7-f-72-hu.png', '63CA92F7-973A-4DCA-A410-7B19811A2478-1430041902-1.0-f-26-hu.png', '64acb345-a61e-4ef3-a5a6-cf83c04b83f1-1430045478300-1.7-m-72-hu.png', '64acb345-a61e-4ef3-a5a6-cf83c04b83f1-1430058973897-1.7-m-72-hu.png', '653bf718-94bd-40d0-af7c-8fe44e07640c-1430759214066-1.7-m-04-hu.png', '6639C63C-F634-489C-91B3-E3DB5930EFD5-1431370257-1.1-m-04-hu.png', '653bf718-94bd-40d0-af7c-8fe44e07640c-1430759231913-1.7-m-04-hu.png', '6639C63C-F634-489C-91B3-E3DB5930EFD5-1431370278-1.1-m-04-hu.png', '67414C5E-0EB2-48FD-8391-FCF085FDB6D9-1430050964-1.0-m-04-hu.png', '69374818-7b73-48ac-8200-e6a225e293fb-1430746080630-1.7-m-04-hu.png', '6bd76f21-f279-4c46-9453-58c95e7b2475-1430767927715-1.7-m-72-hu.png', '69374818-7b73-48ac-8200-e6a225e293fb-1430746091424-1.7-m-04-hu.png', '7060a4f6-4c0c-494b-912c-ae60158b185a-1436931995150-1.7-f-04-hu.png', '6d922623-8424-4625-be4c-4964e0c9e25c-1434898452774-1.7-m-04-hu.png', '70d30513-0ec3-49e4-9976-e85785e85c2d-1431033372810-1.7-m-04-hu.png', '719bb382-a592-46b7-82d2-8b4a625263b7-1430376267895-1.7-m-48-hu.png', '70d30513-0ec3-49e4-9976-e85785e85c2d-1431033405793-1.7-m-04-hu.png', '70d30513-0ec3-49e4-9976-e85785e85c2d-1431033390358-1.7-m-04-hu.png', '719bb382-a592-46b7-82d2-8b4a625263b7-1430376483385-1.7-m-48-hu.png', '719bb382-a592-46b7-82d2-8b4a625263b7-1430376501744-1.7-m-48-hu.png', '719bb382-a592-46b7-82d2-8b4a625263b7-1430376562788-1.7-m-48-hu.png', '743E7CCA-D32B-40B6-9541-9808122D3F6B-1436860011-1.1-f-26-hu.png', '743E7CCA-D32B-40B6-9541-9808122D3F6B-1436860161-1.1-f-26-hu.png', '743E7CCA-D32B-40B6-9541-9808122D3F6B-1436860028-1.1-f-26-hu.png', '743E7CCA-D32B-40B6-9541-9808122D3F6B-1436860053-1.1-f-26-hu.png', '7616E8F4-B1A7-45A6-9A0C-C9BB2DE64FC3-1436868751-1.1-m-72-hu.png', '771fa0cc-4535-471b-9cec-d26deff8d567-1429803644891-1.7-m-04-hu.png', '7A864194-4B6B-4850-ABBF-0C2A8170107B-1436846797-1.1-f-26-hu.png', '789d2553-cbf2-4911-91e4-fb228d231238-1430818517787-1.7-m-26-hu.png', '7A22229D-06C2-4AAA-9674-DE5DF1906B3A-1436891933-1.1-m-72-hu.png', '7A864194-4B6B-4850-ABBF-0C2A8170107B-1436846870-1 (1).1-f-26-hu.png', '7b0e160e-0505-459e-8ecb-304d7afae9d2-1437486941311-1.7-m-04-hu.png', '7A864194-4B6B-4850-ABBF-0C2A8170107B-1436846824-1.1-f-26-hu.png', '7A864194-4B6B-4850-ABBF-0C2A8170107B-1436846870-1.1-f-26-hu.png', '7b23d26e-6f97-4e8b-b520-a9fdde21ee91-1432275312750-1.7-m-48-hu.png', '7B924575-21FC-462A-969E-BABB46D1CBF5-1430055167-1.0-f-72-hu.png', '7b23d26e-6f97-4e8b-b520-a9fdde21ee91-1432261716253-1.7-m-48-hu.png', '7B924575-21FC-462A-969E-BABB46D1CBF5-1430055220-1.0-f-72-hu.png', '7B924575-21FC-462A-969E-BABB46D1CBF5-1430055234-1.0-f-72-hu.png', '7B924575-21FC-462A-969E-BABB46D1CBF5-1430055243-1.0-f-72-hu.png', '7CF37029-1040-40B8-ACC9-7E6E5C03AF9B-1429808939-1.0-m-72-hu.png', '7d1c2cd2-6fa1-499f-8ca8-a298198be4e7-1436850081753-1.7-m-04-hu.png', '7e3de9b8-2be5-473f-b8c3-c2657f1317bb-1430006339251-1.7-f-04-hu.png', '7E4B9C14-F955-4BED-9B03-7F3096A6CBFF-1430232180-1.0-f-26-hu.png', '7E4B9C14-F955-4BED-9B03-7F3096A6CBFF-1430232166-1.0-f-26-hu.png', '7E4B9C14-F955-4BED-9B03-7F3096A6CBFF-1430232157-1.0-f-26-hu.png', '80130d3a-ceb9-4460-8464-e956bac5c40d-1436850034856-1.7-m-72-hu.png', '7E4B9C14-F955-4BED-9B03-7F3096A6CBFF-1430232195-1.0-f-26-hu.png', '7fd72d70-07c4-40a0-85e9-c91df9bdefb2-1430994916704-1.7-f-04-hu.png', '80f5ab0a-16c1-4738-9209-fbdae52ff769-1430140636917-1.7-f-04-hu.png', '8057932d-a6af-4d63-903b-37049686e176-1430919675907-1.7-f-72-hu.png', '815af07e-4c31-4032-8bd1-dab6e60c879e-1433156423585-1.7-m-04-hu.png', '81724071-bc5e-4e38-8f35-85a691af5721-1430737552979-1.7-m-04-hu.png', '815af07e-4c31-4032-8bd1-dab6e60c879e-1433156413683-1.7-m-04-hu.png', '818A32F4-D5D8-426C-B88C-81A8154AC81A-1430093571-1.0-m-26-hu.png', '85FAB169-4DCC-406D-AC93-2F6A8D797DAB-1437632141-1.1-m-04-hu.png', '86c2b87a-ae7c-46a3-b6fb-7ebe748812cf-1430036562389-1.7-m-04-hu.png', '86c2b87a-ae7c-46a3-b6fb-7ebe748812cf-1430036547966-1.7-m-04-hu.png', '89964233-cbdb-4f34-a819-5f4b5ce3f5f5-1430049852345-1.7-f-04-hu.png', '88da3fbd-926b-4ee7-ae8f-85f92f2783b0-1430114329442-1.7-m-04-hu.png', '86c2b87a-ae7c-46a3-b6fb-7ebe748812cf-1430036593222-1.7-f-26-hu.png', '89964233-cbdb-4f34-a819-5f4b5ce3f5f5-1430049868816-1.7-f-04-hu.png', '8b1faa77-e3ac-48af-bf2a-58aadebefcba-1436798541805-1.7-m-04-hu.png', '8C13A1F9-62CC-46AA-9192-BECE5CDD5CB0-1430249362-1.0-f-72-hu.png', '8c66887c-8251-49fa-903b-c02d56405f58-1436856137837-1.7-m-26-hu.png', '8c2a1f03-07f4-4aee-a73f-bc57beb2b600-1430761324670-1.7-f-26-hu.png', '8c66887c-8251-49fa-903b-c02d56405f58-1436856065644-1.7-m-26-hu.png', '8c920fd0-fa9f-4926-bcac-074767dcbfcd-1436850948195-1.7-m-04-hu.png', '8c920fd0-fa9f-4926-bcac-074767dcbfcd-1436856363348-1.7-f-04-hu.png', '8f4dbf5a-b504-4452-b6ac-94e646a6a052-1430727792958-1.7-f-72-hu.png', '8c920fd0-fa9f-4926-bcac-074767dcbfcd-1436856382717-1.7-m-04-hu.png', '8f4dbf5a-b504-4452-b6ac-94e646a6a052-1430727806162-1.7-f-72-hu.png', '8f4dbf5a-b504-4452-b6ac-94e646a6a052-1430734962301-1.7-f-72-hu.png', '8f4dbf5a-b504-4452-b6ac-94e646a6a052-1430735028906-1.7-f-72-hu.png', '8f4dbf5a-b504-4452-b6ac-94e646a6a052-1430729451597-1.7-f-72-hu.png', '8f4dbf5a-b504-4452-b6ac-94e646a6a052-1430735040980-1.7-f-72-hu.png', '8f4dbf5a-b504-4452-b6ac-94e646a6a052-1430735157938-1.7-f-72-hu.png', '8f4dbf5a-b504-4452-b6ac-94e646a6a052-1430735057816-1.7-f-72-hu.png', '8FDA58A7-FDC6-4421-855F-738E6E853E43-1429895751-1.0-m-26-hu.png', '8FDA58A7-FDC6-4421-855F-738E6E853E43-1429895742-1.0-m-26-hu.png', '8f5c01dc-6826-4076-a831-027ad61afdaf-1435873509176-1.7-f-26-hu.png', '9090c7a3-bebc-4485-aafc-64e4298da3ac-1430109146143-1.7-f-26-hu.png', '9090c7a3-bebc-4485-aafc-64e4298da3ac-1430088396663-1.7-f-26-hu.png', '8FDA58A7-FDC6-4421-855F-738E6E853E43-1429895780-1.0-m-26-hu.png', '92d08bbe-553f-4844-85b1-15d572f06ea2-1436873183951-1.7-m-04-hu.png', '9641D2D5-7D9F-41B2-8345-229AE9555FEC-1430022546-1.0-m-72-hu.png', '92d08bbe-553f-4844-85b1-15d572f06ea2-1436873211119-1.7-m-04-hu.png', '990DE219-FCD1-4634-91CE-19AB93E5D2B0-1430214575-1.0-m-04-hu.png', '999bf14b-e417-4b44-b746-9253f81efe38-1430844940177-1.7-m-04-hu.png', '999bf14b-e417-4b44-b746-9253f81efe38-1430972705879-1.7-m-26-hu.png', '96986c8b-9988-4c37-a0f8-e7c4269cc3ac-1431719845836-1.7-m-26-hu.png', '9aa8bac5-eeb9-4f19-a4bf-7c439e87364b-1430745312460-1.7-m-04-hu.png', '999bf14b-e417-4b44-b746-9253f81efe38-1431013054417-1.7-m-26-hu.png', '999bf14b-e417-4b44-b746-9253f81efe38-1431013068243-1.7-m-26-hu.png', '9CFD61B9-BF13-406D-8B2F-F73CFAAF25CB-1430927704-1.0-f-04-hu.png', '9aa8bac5-eeb9-4f19-a4bf-7c439e87364b-1430745385374-1.7-m-04-hu.png', '9CFD61B9-BF13-406D-8B2F-F73CFAAF25CB-1430927693-1.0-f-04-hu.png', '9CFD61B9-BF13-406D-8B2F-F73CFAAF25CB-1430927716-1.0-f-04-hu.png', '9CFD61B9-BF13-406D-8B2F-F73CFAAF25CB-1430927728-1.0-f-04-hu.png', '9CFD61B9-BF13-406D-8B2F-F73CFAAF25CB-1430927741-1.0-f-04-hu.png', '9fe37482-6a64-401d-b8b9-3e47d6ed9ac0-1430047362195-1.7-f-26-hu.png', '9fe37482-6a64-401d-b8b9-3e47d6ed9ac0-1430047373513-1.7-f-26-hu.png', '9fe37482-6a64-401d-b8b9-3e47d6ed9ac0-1430047399844-1.7-f-26-hu.png', 'A123AD65-38D3-4A65-AB37-330034765840-1430093699-1.0-m-04-hu.png', 'A123AD65-38D3-4A65-AB37-330034765840-1430093687-1.0-m-04-hu.png', '9fe37482-6a64-401d-b8b9-3e47d6ed9ac0-1430047590938-1 (1).7-f-26-hu.png', '9fe37482-6a64-401d-b8b9-3e47d6ed9ac0-1430047590938-1.7-f-26-hu.png', 'A123AD65-38D3-4A65-AB37-330034765840-1430093710-1.0-m-04-hu.png', 'A123AD65-38D3-4A65-AB37-330034765840-1430093726-1.0-m-04-hu.png', 'a40b9b8d-e4bc-457a-badf-f38bdbc0c358-1430016745385-1.7-m-04-hu.png', 'a40b9b8d-e4bc-457a-badf-f38bdbc0c358-1430016779981-1.7-m-26-hu.png', 'a40b9b8d-e4bc-457a-badf-f38bdbc0c358-1430017191818-1.7-m-26-hu.png', 'a56e2494-d2b2-480e-af0b-de9ea8f33572-1436897427825-1.7-f-26-hu.png', 'AA2CA7F6-4547-4CC0-AA4C-5D7B64727FB5-1437123487-1.1-f-26-hu.png', 'a7b13b65-da2c-48ec-8aed-46adcaba705f-1430823489236-1.7-f-26-hu.png', 'aaa57dbd-7b88-454a-963e-6faa2f4ed4e7-1436910225455-1.7-f-04-hu.png', 'aaa57dbd-7b88-454a-963e-6faa2f4ed4e7-1436982075169-1.7-f-04-hu.png', 'aaa57dbd-7b88-454a-963e-6faa2f4ed4e7-1436910235521-1.7-f-04-hu.png', 'aaa57dbd-7b88-454a-963e-6faa2f4ed4e7-1436982066128-1.7-f-04-hu.png', 'aaa57dbd-7b88-454a-963e-6faa2f4ed4e7-1437166513710-1.7-f-04-hu.png', 'aaa57dbd-7b88-454a-963e-6faa2f4ed4e7-1436982098411-1.7-f-04-hu.png', 'aaa57dbd-7b88-454a-963e-6faa2f4ed4e7-1436988612387-1.7-f-04-hu.png', 'ad7fd28b-3e85-4e9b-9e18-af4bda64c60f-1430756389867-1.7-m-72-hu.png', 'adb53808-8b13-4c08-b055-6653c75298be-1430133962749-1.7-m-72-hu.png', 'adb53808-8b13-4c08-b055-6653c75298be-1430133982281-1.7-m-72-hu.png', 'adcefe56-90b1-4120-83b1-93008cb6f7f0-1430731683554-1.7-m-04-hu.png', 'AE02C934-F4E5-4C73-818D-56AA6887EC18-1430279441-1.0-m-26-hu.png', 'AE02C934-F4E5-4C73-818D-56AA6887EC18-1430279454-1.0-m-26-hu.png', 'ae5f103b-5fee-442f-bb1b-d9d0570c46ab-1431533809819-1.7-m-26-hu.png', 'ae5a462b-5424-4b5b-82d5-07ccb61654ab-1430405436291-1.7-f-04-hu.png', 'ae5a462b-5424-4b5b-82d5-07ccb61654ab-1431155960186-1.7-f-48-hu.png', 'afa44e7f-4187-4f1c-9437-b49ba75f542e-1430629785235-1.7-f-04-hu.png', 'af30880e-5f98-4dc0-b37a-be6b21fa0ba3-1431240037389-1.7-m-26-hu.png', 'B0D9116D-8FA4-41AF-B626-BE508FD5CA04-1430832542-1.0-m-04-hu.png', 'B2A105BB-347B-4878-A735-AA4ECF32CD16-1436864116-1.1-m-26-hu.png', 'B327333E-2DE2-4833-A75A-4C576208BED3-1430087429-1.0-f-48-hu.png', 'B327333E-2DE2-4833-A75A-4C576208BED3-1430087456-1.0-f-48-hu.png', 'B400D2D0-9FCE-472E-A152-1FF349B9B407-1436845915-1.1-m-04-hu.png', 'B327333E-2DE2-4833-A75A-4C576208BED3-1430087443-1.0-f-48-hu.png', 'b4c460d8-bd6b-4017-9bb8-2ae4ff0c5af1-1432751065608-1.7-f-26-hu.png', 'b5044f9a-6f2e-44fc-8e04-9076a988acf2-1435544527174-1.7-m-04-hu.png', 'B456CE9D-CBD4-43E5-899B-8B8B0483F17D-1431015486-1.0-m-72-hu.png', 'b9d0daab-43c8-41f1-86af-3bcdea9af63c-1429979961789-1.7-f-22-hu.png', 'b8fe4527-5e46-437f-897d-be32112bc1c8-1430166086647-1.7-f-48-hu.png', 'bb2bdafb-0477-4be4-8c41-1a6192e8c6d4-1430637736064-1.7-m-72-hu.png', 'bb2bdafb-0477-4be4-8c41-1a6192e8c6d4-1430637663087-1.7-m-72-hu.png', 'bb2bdafb-0477-4be4-8c41-1a6192e8c6d4-1430637640279-1.7-m-72-hu.png', 'be21ef2a-a415-4e8b-bfe6-731bf9956e2c-1431320909516-1.7-f-26-hu.png', 'c10e2b0f-0cb8-4485-b82f-d453edf97db7-1430738986076-1.7-f-26-hu.png', 'bfbc4d23-39b2-4b33-b686-2f048f062b60-1430077722675-1.7-f-72-hu.png', 'c10e2b0f-0cb8-4485-b82f-d453edf97db7-1430739179429-1.7-f-26-hu.png', 'C249BCDD-0F65-4D6A-82BE-43C4006E3DDB-1436891733-1.1-m-72-hu.png', 'c10e2b0f-0cb8-4485-b82f-d453edf97db7-1430739158854-1.7-f-26-hu.png', 'C249BCDD-0F65-4D6A-82BE-43C4006E3DDB-1436891742-1.1-m-72-hu.png', 'C421C6FE-DFEE-4080-8AEA-848E7CE4756B-1430548277-1.0-f-26-hu.png', 'C421C6FE-DFEE-4080-8AEA-848E7CE4756B-1430548250-1.0-f-48-hu.png', 'c6fd9d60-0fa7-44c0-b3ce-0192527d7b81-1429978271017-1.7-m-04-hu.png', 'c6fd9d60-0fa7-44c0-b3ce-0192527d7b81-1430038968282-1.7-m-04-hu.png', 'c42e76b9-a4c1-48f6-a91d-27ab83015874-1430737177322-1.7-f-72-hu.png', 'c6fd9d60-0fa7-44c0-b3ce-0192527d7b81-1430068155237-1.7-m-72-hu.png', 'c6fd9d60-0fa7-44c0-b3ce-0192527d7b81-1430068167526-1.7-m-72-hu.png', 'c6fd9d60-0fa7-44c0-b3ce-0192527d7b81-1430066825817-1.7-m-72-hu.png', 'c7fef089-4a65-4b75-bfd4-bae0e3518adf-1430754388848-1.7-m-04-hu.png', 'CC8771B1-C84E-4223-A010-029A7629A975-1434107299-1.1-f-04-hu.png', 'ca7d8d54-13cb-4060-8db4-90651b60c078-1434674769219-1.7-f-26-hu.png', 'cda99fcf-d010-47b4-8987-f54be313ddbd-1429973787766-1.7-f-26-hu.png', 'cde108d0-62c3-47f8-82c4-233c9fba5cdd-1436884406827-1.7-m-48-hu.png', 'cecd525b-18fd-49e3-b2b9-dfb08b93ad95-1430109958636-1.7-m-26-hu.png', 'cde108d0-62c3-47f8-82c4-233c9fba5cdd-1436884444242-1.7-m-48-hu.png', 'D18A30C6-4370-4BE0-83F8-031892F96603-1432989796-1.1-f-04-hu.png', 'D1CB71F9-EF76-49B3-A703-41D557444D21-1436863375-1.1-m-04-hu.png', 'D1CB71F9-EF76-49B3-A703-41D557444D21-1436863366-1.1-m-04-hu.png', 'd1e236a0-e030-4137-9030-5625026cd098-1430477951092-1.2-m-04-hu.png', 'D54D9C2A-56ED-4338-9D1F-2ADB4E081DAD-1429807587-1.0-m-48-hu.png', 'd1e236a0-e030-4137-9030-5625026cd098-1430477960643-1.2-m-04-hu.png', 'D54D9C2A-56ED-4338-9D1F-2ADB4E081DAD-1430036283-1.0-m-48-hu.png', 'D54D9C2A-56ED-4338-9D1F-2ADB4E081DAD-1429807598-1.0-m-48-hu.png', 'd6cda191-4962-4308-9a36-46d5648a95ed-1430640304482-1.7-m-04-hu.png', 'D54D9C2A-56ED-4338-9D1F-2ADB4E081DAD-1430036301-1.0-m-48-hu.png', 'd6cda191-4962-4308-9a36-46d5648a95ed-1428333797380-1.5-f-26-hu.png', 'd6cda191-4962-4308-9a36-46d5648a95ed-1431882043380-1 (1).7-m-04-hu.png', 'd79affbc-f7b4-4ef0-ae57-be5da4b827bf-1430761514476-1.7-m-72-hu.png', 'd6cda191-4962-4308-9a36-46d5648a95ed-1431882032820-1.7-m-04-hu.png', 'd6cda191-4962-4308-9a36-46d5648a95ed-1431882043380-1.7-m-04-hu.png', 'D833237F-1F7C-4338-BEDE-84C0CF5F4145-1430084007-1.0-f-26-hu.png', 'd79affbc-f7b4-4ef0-ae57-be5da4b827bf-1430761528998-1.7-m-72-hu.png', 'D833237F-1F7C-4338-BEDE-84C0CF5F4145-1430083995-1.0-f-26-hu.png', 'DB95BF4A-E3E5-4429-A660-DBBCF486E6DF-1430664633-1.0-f-72-hu.png', 'DB95BF4A-E3E5-4429-A660-DBBCF486E6DF-1430664611-1.0-f-72-hu.png', 'dc5429de-26b4-48e2-bc47-bc607b9bba06-1430741828918-1.7-f-72-hu.png', 'DBA77EDC-D457-4B3A-83B8-B7AFBF272D4E-1436860486-1.1-m-72-hu.png', 'DCB33551-F9BA-4B4A-8DA1-A3107E1AD859-1430406483-1.0-m-04-hu.png', 'e0717ce2-da25-417c-89a5-58d7175f4a6d-1436966513203-1.7-m-26-hu.png', 'DCB33551-F9BA-4B4A-8DA1-A3107E1AD859-1430406495-1.0-m-04-hu.png', 'e0cc5beb-50e5-46ef-852e-c92106216e62-1430143334661-1.7-m-04-hu.png', 'e1e640e2-78cb-4cb7-9ccc-93813bfc251c-1430738652322-1.7-m-72-hu.png', 'e1e640e2-78cb-4cb7-9ccc-93813bfc251c-1430738640598-1.7-m-72-hu.png', 'e37c323c-0edb-4942-be47-3cc0b2de00a1-1434392919844-1.7-f-26-hu.png', 'E2C4BCE0-99FD-49EC-8AB1-5EA5DF7DD8C5-1430042952-1.0-m-04-hu.png', 'e36730a9-d62b-4752-856f-b42feb1585df-1429975817524-1.7-m-04-hu.png', 'e37c323c-0edb-4942-be47-3cc0b2de00a1-1434392936735-1.7-f-26-hu.png', 'e4051e62-d21d-4bb8-a235-fd7e859ad787-1430740613780-1 (1).7-f-72-hu.png', 'e4051e62-d21d-4bb8-a235-fd7e859ad787-1430740613780-1.7-f-72-hu.png', 'e4051e62-d21d-4bb8-a235-fd7e859ad787-1430739655763-1.7-m-04-hu.png', 'ed31b187-34af-4ff1-979c-3b8a5905fb7b-1430044808480-1.7-m-04-hu.png', 'eccb4617-8373-4c4f-b49e-bb2d72bce8d8-1430035348191-1.7-m-26-hu.png', 'EC2E1160-BC33-450A-A62D-DE2A4C0D42BB-1430039051-1.0-f-48-hu.png', 'ed31b187-34af-4ff1-979c-3b8a5905fb7b-1430045366784-1.7-f-04-hu.png', 'ed31b187-34af-4ff1-979c-3b8a5905fb7b-1430044853892-1.7-f-04-hu.png', 'ed31b187-34af-4ff1-979c-3b8a5905fb7b-1430044897699-1.7-f-48-hu.png', 'efd13da0-d40e-48bc-b14e-dee28af4d3c6-1430728179252-1.7-m-22-hu.png', 'edb5924c-07ba-4eaa-838b-aaf9511a219b-1431894189631-1.7-m-48-hu.png', 'edb5924c-07ba-4eaa-838b-aaf9511a219b-1431899400326-1.7-m-48-hu.png', 'F24DE44B-762C-4149-AC92-96A5E57ED118-1430816918-1.0-m-04-hu.png', 'F1AF5794-AD3B-4181-B010-AB835E5BDA64-1430441342-1.0-m-72-hu.png', 'F24DE44B-762C-4149-AC92-96A5E57ED118-1430816936-1.0-m-04-hu.png', 'F3BAEDDA-CDC0-4A65-90EE-5C372CEE4F3B-1437012044-1.1-m-26-hu.png', 'F2F97740-D638-4B6F-9E09-3AC65F06B448-1436849313-1.1-f-48-hu.png', 'F2F97740-D638-4B6F-9E09-3AC65F06B448-1436849335-1.1-f-48-hu.png', 'F3BAEDDA-CDC0-4A65-90EE-5C372CEE4F3B-1437012076-1.1-f-26-hu.png', 'F3BAEDDA-CDC0-4A65-90EE-5C372CEE4F3B-1437012059-1.1-m-26-hu.png', 'F4A0C710-AC2D-42E0-8EA9-3E4CAC31EE20-1430318400-1.0-m-04-hu.png', 'F4A0C710-AC2D-42E0-8EA9-3E4CAC31EE20-1430318390-1.0-m-04-hu.png', 'F4A0C710-AC2D-42E0-8EA9-3E4CAC31EE20-1430318416-1.0-m-04-hu.png', 'f5b29377-7cd6-4688-942c-5a07add39dc5-1437178455960-1.7-f-26-hu.png', 'F4A65A98-ADEE-49C4-9B45-65A8429DF170-1430232330-1.0-m-72-hu.png', 'F6C6D3EE-F139-48A4-9EAC-0A50EB011CDC-1430103957-1.0-m-04-hu.png', 'f896b69d-6241-4b51-9c45-0d628bc827c1-1430090255303-1.7-m-04-hu.png', 'F6C6D3EE-F139-48A4-9EAC-0A50EB011CDC-1430103974-1.0-m-04-hu.png', 'F950E7E3-A1A5-4A01-99F4-9B155C3C6606-1430305696-1.0-m-72-hu.png', 'f896b69d-6241-4b51-9c45-0d628bc827c1-1430090274181-1.7-m-04-hu.png', 'f896b69d-6241-4b51-9c45-0d628bc827c1-1430090400166-1.7-m-72-hu.png', 'F95D4BCE-2FB0-4A0C-A058-BFB0674539AF-1430055809-1.0-m-26-hu.png', 'F95D4BCE-2FB0-4A0C-A058-BFB0674539AF-1430055950-1.0-m-26-hu.png', 'F95D4BCE-2FB0-4A0C-A058-BFB0674539AF-1430055800-1.0-m-26-hu.png', 'fa8620d3-e7db-4101-aff0-28dbf0d96a5f-1434296505682-1.7-f-04-hu.png', 'fa8620d3-e7db-4101-aff0-28dbf0d96a5f-1434465485354-1.7-f-04-hu.png', 'FAE74A94-9968-43ED-958C-50D7C4C1F13C-1430770871-1.0-f-22-hu.png', 'FAE74A94-9968-43ED-958C-50D7C4C1F13C-1430770858-1.0-f-22-hu.png', 'FF2CD2F6-404D-4626-8718-6E6C751F63B8-1431104337-1.0-m-04-hu.png', 'FF2CD2F6-404D-4626-8718-6E6C751F63B8-1431104396-1.0-m-04-hu.png', 'FF2CD2F6-404D-4626-8718-6E6C751F63B8-1431104346-1.0-m-04-hu.png', 'FF482278-24C9-4FB0-A7BE-FD92D1FE17B4-1430028319-1.0-m-26-hu.png', 'FF2CD2F6-404D-4626-8718-6E6C751F63B8-1431104360-1.0-m-04-hu.png']\n"
          ]
        },
        {
          "output_type": "stream",
          "name": "stderr",
          "text": [
            "100%|██████████| 300/300 [00:03<00:00, 88.11it/s]\n"
          ]
        },
        {
          "output_type": "stream",
          "name": "stdout",
          "text": [
            "images_path:   ['gen-tired-0-0-03ADDCFB-354E-416D-BF32-260CF47F7060-1433658024-1.png', 'gen-tired-0-0-06c4cfa2-7fa6-4fda-91a1-ea186a4acc64-1430029221058-1.png', 'gen-tired-0-0-06c4cfa2-7fa6-4fda-91a1-ea186a4acc64-1430029237378-1.png', 'gen-tired-0-0-1309B82C-F146-46F0-A723-45345AFA6EA8-1430059864-1.png', 'gen-tired-0-0-06c4cfa2-7fa6-4fda-91a1-ea186a4acc64-1430029246453-1.png', 'gen-tired-0-0-79FF400A-97E2-4701-987D-C7C850D5523C-1430089487-1.png', 'gen-tired-0-0-1309B82C-F146-46F0-A723-45345AFA6EA8-1431172241-1.png', 'gen-tired-0-0-7A22229D-06C2-4AAA-9674-DE5DF1906B3A-1436891944-1.png', 'gen-tired-0-0-5B416CE8-2591-4531-9ADC-86D085B5D48B-1430144827-1.png', 'gen-tired-0-0-B2AABCE0-1F62-4B57-B58A-308959ABDFE7-1437188751-1.png', 'gen-tired-0-0-7A22229D-06C2-4AAA-9674-DE5DF1906B3A-1436891957-1.png', 'gen-tired-0-0-B2AABCE0-1F62-4B57-B58A-308959ABDFE7-1437188766-1.png', 'gen-tired-0-0-C421C6FE-DFEE-4080-8AEA-848E7CE4756B-1430548393-1.png', 'gen-tired-0-0-C5127741-5897-468C-A543-7F1B72569F0E-1428333964-1.png', 'gen-tired-0-0-b4c460d8-bd6b-4017-9bb8-2ae4ff0c5af1-1430418266487-1.png', 'gen-tired-0-0-C421C6FE-DFEE-4080-8AEA-848E7CE4756B-1430548384-1.png', 'gen-tired-0-0-ca7d8d54-13cb-4060-8db4-90651b60c078-1434674792223-1.png', 'gen-tired-0-0-d5abedab-9ed5-48d0-a83b-fc00c33d6d6b-1430079192907-1.png', 'gen-tired-0-0-cecd525b-18fd-49e3-b2b9-dfb08b93ad95-1430110029205-1.png', 'gen-tired-0-0-D4665929-8695-4655-927F-63F09B2D4CB8-1430726940-1.png', 'gen-tired-0-0-d6cda191-4962-4308-9a36-46d5648a95ed-1431587899682-1.png', 'gen-tired-0-0-d6cda191-4962-4308-9a36-46d5648a95ed-1431616581736-1.png', 'gen-tired-0-0-d6cda191-4962-4308-9a36-46d5648a95ed-1431587887997-1.png', 'gen-tired-1-0-03ADDCFB-354E-416D-BF32-260CF47F7060-1433658024-1.png', 'gen-tired-0-0-eea17285-4ab9-4d34-a2f5-55fc8c866ac6-1431887695278-1.png', 'gen-tired-1-0-06c4cfa2-7fa6-4fda-91a1-ea186a4acc64-1430029221058-1.png', 'gen-tired-1-0-06c4cfa2-7fa6-4fda-91a1-ea186a4acc64-1430029237378-1.png', 'gen-tired-1-0-1309B82C-F146-46F0-A723-45345AFA6EA8-1431172241-1.png', 'gen-tired-1-0-1309B82C-F146-46F0-A723-45345AFA6EA8-1430059864-1.png', 'gen-tired-1-0-5B416CE8-2591-4531-9ADC-86D085B5D48B-1430144827-1.png', 'gen-tired-1-0-06c4cfa2-7fa6-4fda-91a1-ea186a4acc64-1430029246453-1.png', 'gen-tired-1-0-7A22229D-06C2-4AAA-9674-DE5DF1906B3A-1436891944-1.png', 'gen-tired-1-0-79FF400A-97E2-4701-987D-C7C850D5523C-1430089487-1.png', 'gen-tired-1-0-B2AABCE0-1F62-4B57-B58A-308959ABDFE7-1437188751-1.png', 'gen-tired-1-0-7A22229D-06C2-4AAA-9674-DE5DF1906B3A-1436891957-1.png', 'gen-tired-1-0-C421C6FE-DFEE-4080-8AEA-848E7CE4756B-1430548393-1.png', 'gen-tired-1-0-b4c460d8-bd6b-4017-9bb8-2ae4ff0c5af1-1430418266487-1.png', 'gen-tired-1-0-C421C6FE-DFEE-4080-8AEA-848E7CE4756B-1430548384-1.png', 'gen-tired-1-0-B2AABCE0-1F62-4B57-B58A-308959ABDFE7-1437188766-1.png', 'gen-tired-1-0-C5127741-5897-468C-A543-7F1B72569F0E-1428333964-1.png', 'gen-tired-1-0-cecd525b-18fd-49e3-b2b9-dfb08b93ad95-1430110029205-1.png', 'gen-tired-1-0-ca7d8d54-13cb-4060-8db4-90651b60c078-1434674792223-1.png', 'gen-tired-1-0-d5abedab-9ed5-48d0-a83b-fc00c33d6d6b-1430079192907-1.png', 'gen-tired-1-0-d6cda191-4962-4308-9a36-46d5648a95ed-1431587887997-1.png', 'gen-tired-1-0-D4665929-8695-4655-927F-63F09B2D4CB8-1430726940-1.png', 'gen-tired-1-0-d6cda191-4962-4308-9a36-46d5648a95ed-1431616581736-1.png', 'gen-tired-1-0-eea17285-4ab9-4d34-a2f5-55fc8c866ac6-1431887695278-1.png', 'gen-tired-1-0-d6cda191-4962-4308-9a36-46d5648a95ed-1431587899682-1.png', 'gen-tired-2-0-03ADDCFB-354E-416D-BF32-260CF47F7060-1433658024-1.png', 'gen-tired-2-0-06c4cfa2-7fa6-4fda-91a1-ea186a4acc64-1430029221058-1.png', 'gen-tired-2-0-06c4cfa2-7fa6-4fda-91a1-ea186a4acc64-1430029246453-1.png', 'gen-tired-2-0-06c4cfa2-7fa6-4fda-91a1-ea186a4acc64-1430029237378-1.png', 'gen-tired-2-0-5B416CE8-2591-4531-9ADC-86D085B5D48B-1430144827-1.png', 'gen-tired-2-0-1309B82C-F146-46F0-A723-45345AFA6EA8-1431172241-1.png', 'gen-tired-2-0-1309B82C-F146-46F0-A723-45345AFA6EA8-1430059864-1.png', 'gen-tired-2-0-7A22229D-06C2-4AAA-9674-DE5DF1906B3A-1436891944-1.png', 'gen-tired-2-0-7A22229D-06C2-4AAA-9674-DE5DF1906B3A-1436891957-1.png', 'gen-tired-2-0-B2AABCE0-1F62-4B57-B58A-308959ABDFE7-1437188751-1.png', 'gen-tired-2-0-79FF400A-97E2-4701-987D-C7C850D5523C-1430089487-1.png', 'gen-tired-2-0-B2AABCE0-1F62-4B57-B58A-308959ABDFE7-1437188766-1.png', 'gen-tired-2-0-b4c460d8-bd6b-4017-9bb8-2ae4ff0c5af1-1430418266487-1.png', 'gen-tired-2-0-C421C6FE-DFEE-4080-8AEA-848E7CE4756B-1430548384-1.png', 'gen-tired-2-0-C421C6FE-DFEE-4080-8AEA-848E7CE4756B-1430548393-1.png', 'gen-tired-2-0-ca7d8d54-13cb-4060-8db4-90651b60c078-1434674792223-1.png', 'gen-tired-2-0-D4665929-8695-4655-927F-63F09B2D4CB8-1430726940-1.png', 'gen-tired-2-0-cecd525b-18fd-49e3-b2b9-dfb08b93ad95-1430110029205-1.png', 'gen-tired-2-0-C5127741-5897-468C-A543-7F1B72569F0E-1428333964-1.png', 'gen-tired-2-0-d6cda191-4962-4308-9a36-46d5648a95ed-1431587887997-1.png', 'gen-tired-2-0-d5abedab-9ed5-48d0-a83b-fc00c33d6d6b-1430079192907-1.png', 'gen-tired-2-0-d6cda191-4962-4308-9a36-46d5648a95ed-1431587899682-1.png', 'gen-tired-2-0-eea17285-4ab9-4d34-a2f5-55fc8c866ac6-1431887695278-1.png', 'gen-tired-3-0-06c4cfa2-7fa6-4fda-91a1-ea186a4acc64-1430029221058-1.png', 'gen-tired-2-0-d6cda191-4962-4308-9a36-46d5648a95ed-1431616581736-1.png', 'gen-tired-3-0-03ADDCFB-354E-416D-BF32-260CF47F7060-1433658024-1.png', 'gen-tired-3-0-06c4cfa2-7fa6-4fda-91a1-ea186a4acc64-1430029237378-1.png', 'gen-tired-3-0-06c4cfa2-7fa6-4fda-91a1-ea186a4acc64-1430029246453-1.png', 'gen-tired-3-0-1309B82C-F146-46F0-A723-45345AFA6EA8-1430059864-1.png', 'gen-tired-3-0-1309B82C-F146-46F0-A723-45345AFA6EA8-1431172241-1.png', 'gen-tired-3-0-5B416CE8-2591-4531-9ADC-86D085B5D48B-1430144827-1.png', 'gen-tired-3-0-79FF400A-97E2-4701-987D-C7C850D5523C-1430089487-1.png', 'gen-tired-3-0-7A22229D-06C2-4AAA-9674-DE5DF1906B3A-1436891944-1.png', 'gen-tired-3-0-7A22229D-06C2-4AAA-9674-DE5DF1906B3A-1436891957-1.png', 'gen-tired-3-0-B2AABCE0-1F62-4B57-B58A-308959ABDFE7-1437188751-1.png', 'gen-tired-3-0-B2AABCE0-1F62-4B57-B58A-308959ABDFE7-1437188766-1.png', 'gen-tired-3-0-b4c460d8-bd6b-4017-9bb8-2ae4ff0c5af1-1430418266487-1.png', 'gen-tired-3-0-C421C6FE-DFEE-4080-8AEA-848E7CE4756B-1430548384-1.png', 'gen-tired-3-0-C421C6FE-DFEE-4080-8AEA-848E7CE4756B-1430548393-1.png', 'gen-tired-3-0-C5127741-5897-468C-A543-7F1B72569F0E-1428333964-1.png', 'gen-tired-3-0-ca7d8d54-13cb-4060-8db4-90651b60c078-1434674792223-1.png', 'gen-tired-3-0-cecd525b-18fd-49e3-b2b9-dfb08b93ad95-1430110029205-1.png', 'gen-tired-3-0-D4665929-8695-4655-927F-63F09B2D4CB8-1430726940-1.png', 'gen-tired-3-0-d6cda191-4962-4308-9a36-46d5648a95ed-1431587899682-1.png', 'gen-tired-3-0-d6cda191-4962-4308-9a36-46d5648a95ed-1431616581736-1.png', 'gen-tired-3-0-d6cda191-4962-4308-9a36-46d5648a95ed-1431587887997-1.png', 'gen-tired-3-0-d5abedab-9ed5-48d0-a83b-fc00c33d6d6b-1430079192907-1.png', 'gen-tired-4-0-03ADDCFB-354E-416D-BF32-260CF47F7060-1433658024-1.png', 'gen-tired-3-0-eea17285-4ab9-4d34-a2f5-55fc8c866ac6-1431887695278-1.png', 'gen-tired-4-0-06c4cfa2-7fa6-4fda-91a1-ea186a4acc64-1430029221058-1.png', 'gen-tired-4-0-06c4cfa2-7fa6-4fda-91a1-ea186a4acc64-1430029237378-1.png', 'gen-tired-4-0-06c4cfa2-7fa6-4fda-91a1-ea186a4acc64-1430029246453-1.png', 'gen-tired-4-0-1309B82C-F146-46F0-A723-45345AFA6EA8-1430059864-1.png', 'gen-tired-4-0-7A22229D-06C2-4AAA-9674-DE5DF1906B3A-1436891944-1.png', 'gen-tired-4-0-1309B82C-F146-46F0-A723-45345AFA6EA8-1431172241-1.png', 'gen-tired-4-0-79FF400A-97E2-4701-987D-C7C850D5523C-1430089487-1.png', 'gen-tired-4-0-5B416CE8-2591-4531-9ADC-86D085B5D48B-1430144827-1.png', 'gen-tired-4-0-B2AABCE0-1F62-4B57-B58A-308959ABDFE7-1437188766-1.png', 'gen-tired-4-0-7A22229D-06C2-4AAA-9674-DE5DF1906B3A-1436891957-1.png', 'gen-tired-4-0-B2AABCE0-1F62-4B57-B58A-308959ABDFE7-1437188751-1.png', 'gen-tired-4-0-C421C6FE-DFEE-4080-8AEA-848E7CE4756B-1430548384-1.png', 'gen-tired-4-0-b4c460d8-bd6b-4017-9bb8-2ae4ff0c5af1-1430418266487-1.png', 'gen-tired-4-0-C421C6FE-DFEE-4080-8AEA-848E7CE4756B-1430548393-1.png', 'gen-tired-4-0-D4665929-8695-4655-927F-63F09B2D4CB8-1430726940-1.png', 'gen-tired-4-0-C5127741-5897-468C-A543-7F1B72569F0E-1428333964-1.png', 'gen-tired-4-0-ca7d8d54-13cb-4060-8db4-90651b60c078-1434674792223-1.png', 'gen-tired-4-0-cecd525b-18fd-49e3-b2b9-dfb08b93ad95-1430110029205-1.png', 'gen-tired-4-0-d6cda191-4962-4308-9a36-46d5648a95ed-1431587899682-1.png', 'gen-tired-4-0-d6cda191-4962-4308-9a36-46d5648a95ed-1431587887997-1.png', 'gen-tired-4-0-d5abedab-9ed5-48d0-a83b-fc00c33d6d6b-1430079192907-1.png', 'gen-tired-5-0-03ADDCFB-354E-416D-BF32-260CF47F7060-1433658024-1.png', 'gen-tired-4-0-d6cda191-4962-4308-9a36-46d5648a95ed-1431616581736-1.png', 'gen-tired-4-0-eea17285-4ab9-4d34-a2f5-55fc8c866ac6-1431887695278-1.png', 'gen-tired-5-0-06c4cfa2-7fa6-4fda-91a1-ea186a4acc64-1430029237378-1.png', 'gen-tired-5-0-06c4cfa2-7fa6-4fda-91a1-ea186a4acc64-1430029221058-1.png', 'gen-tired-5-0-06c4cfa2-7fa6-4fda-91a1-ea186a4acc64-1430029246453-1.png', 'gen-tired-5-0-1309B82C-F146-46F0-A723-45345AFA6EA8-1431172241-1.png', 'gen-tired-5-0-5B416CE8-2591-4531-9ADC-86D085B5D48B-1430144827-1.png', 'gen-tired-5-0-1309B82C-F146-46F0-A723-45345AFA6EA8-1430059864-1.png', 'gen-tired-5-0-7A22229D-06C2-4AAA-9674-DE5DF1906B3A-1436891957-1.png', 'gen-tired-5-0-7A22229D-06C2-4AAA-9674-DE5DF1906B3A-1436891944-1.png', 'gen-tired-5-0-79FF400A-97E2-4701-987D-C7C850D5523C-1430089487-1.png', 'gen-tired-5-0-C421C6FE-DFEE-4080-8AEA-848E7CE4756B-1430548384-1.png', 'gen-tired-5-0-B2AABCE0-1F62-4B57-B58A-308959ABDFE7-1437188766-1.png', 'gen-tired-5-0-B2AABCE0-1F62-4B57-B58A-308959ABDFE7-1437188751-1.png', 'gen-tired-5-0-b4c460d8-bd6b-4017-9bb8-2ae4ff0c5af1-1430418266487-1.png', 'gen-tired-5-0-C5127741-5897-468C-A543-7F1B72569F0E-1428333964-1.png', 'gen-tired-5-0-C421C6FE-DFEE-4080-8AEA-848E7CE4756B-1430548393-1.png', 'gen-tired-5-0-D4665929-8695-4655-927F-63F09B2D4CB8-1430726940-1.png', 'gen-tired-5-0-cecd525b-18fd-49e3-b2b9-dfb08b93ad95-1430110029205-1.png', 'gen-tired-5-0-d5abedab-9ed5-48d0-a83b-fc00c33d6d6b-1430079192907-1.png', 'gen-tired-5-0-ca7d8d54-13cb-4060-8db4-90651b60c078-1434674792223-1.png', 'gen-tired-5-0-d6cda191-4962-4308-9a36-46d5648a95ed-1431587899682-1.png', 'gen-tired-5-0-d6cda191-4962-4308-9a36-46d5648a95ed-1431587887997-1.png', 'gen-tired-5-0-d6cda191-4962-4308-9a36-46d5648a95ed-1431616581736-1.png', 'gen-tired-5-0-eea17285-4ab9-4d34-a2f5-55fc8c866ac6-1431887695278-1.png', 'gen-tired-6-0-03ADDCFB-354E-416D-BF32-260CF47F7060-1433658024-1.png', 'gen-tired-6-0-06c4cfa2-7fa6-4fda-91a1-ea186a4acc64-1430029221058-1.png', 'gen-tired-6-0-06c4cfa2-7fa6-4fda-91a1-ea186a4acc64-1430029246453-1.png', 'gen-tired-6-0-06c4cfa2-7fa6-4fda-91a1-ea186a4acc64-1430029237378-1.png', 'gen-tired-6-0-1309B82C-F146-46F0-A723-45345AFA6EA8-1430059864-1.png', 'gen-tired-6-0-1309B82C-F146-46F0-A723-45345AFA6EA8-1431172241-1.png', 'gen-tired-6-0-79FF400A-97E2-4701-987D-C7C850D5523C-1430089487-1.png', 'gen-tired-6-0-5B416CE8-2591-4531-9ADC-86D085B5D48B-1430144827-1.png', 'gen-tired-6-0-7A22229D-06C2-4AAA-9674-DE5DF1906B3A-1436891944-1.png', 'gen-tired-6-0-B2AABCE0-1F62-4B57-B58A-308959ABDFE7-1437188751-1.png', 'gen-tired-6-0-7A22229D-06C2-4AAA-9674-DE5DF1906B3A-1436891957-1.png', 'gen-tired-6-0-B2AABCE0-1F62-4B57-B58A-308959ABDFE7-1437188766-1.png', 'gen-tired-6-0-b4c460d8-bd6b-4017-9bb8-2ae4ff0c5af1-1430418266487-1.png', 'gen-tired-6-0-C421C6FE-DFEE-4080-8AEA-848E7CE4756B-1430548384-1.png', 'gen-tired-6-0-C421C6FE-DFEE-4080-8AEA-848E7CE4756B-1430548393-1.png', 'gen-tired-6-0-C5127741-5897-468C-A543-7F1B72569F0E-1428333964-1.png', 'gen-tired-6-0-ca7d8d54-13cb-4060-8db4-90651b60c078-1434674792223-1.png', 'gen-tired-6-0-d5abedab-9ed5-48d0-a83b-fc00c33d6d6b-1430079192907-1.png', 'gen-tired-6-0-D4665929-8695-4655-927F-63F09B2D4CB8-1430726940-1.png', 'gen-tired-6-0-cecd525b-18fd-49e3-b2b9-dfb08b93ad95-1430110029205-1.png', 'gen-tired-6-0-d6cda191-4962-4308-9a36-46d5648a95ed-1431587887997-1.png', 'gen-tired-6-0-d6cda191-4962-4308-9a36-46d5648a95ed-1431587899682-1.png', 'gen-tired-6-0-eea17285-4ab9-4d34-a2f5-55fc8c866ac6-1431887695278-1.png', 'gen-tired-6-0-d6cda191-4962-4308-9a36-46d5648a95ed-1431616581736-1.png']\n"
          ]
        },
        {
          "output_type": "stream",
          "name": "stderr",
          "text": [
            "100%|██████████| 168/168 [00:02<00:00, 78.87it/s]\n"
          ]
        }
      ]
    },
    {
      "cell_type": "code",
      "execution_count": 44,
      "metadata": {
        "colab": {
          "base_uri": "https://localhost:8080/"
        },
        "id": "GnBpS6T2ivp9",
        "outputId": "e49e908c-c41a-420e-89e0-e54bdbf7039d"
      },
      "outputs": [
        {
          "output_type": "stream",
          "name": "stdout",
          "text": [
            "Epoch 1/300\n",
            "37/37 [==============================] - 5s 103ms/step - loss: 4.1273 - accuracy: 0.7593 - val_loss: 55.6850 - val_accuracy: 0.2865\n",
            "Epoch 2/300\n",
            "37/37 [==============================] - 4s 96ms/step - loss: 1.4461 - accuracy: 0.8881 - val_loss: 55.3814 - val_accuracy: 0.2919\n",
            "Epoch 3/300\n",
            "37/37 [==============================] - 3s 94ms/step - loss: 0.3472 - accuracy: 0.9542 - val_loss: 51.9248 - val_accuracy: 0.2324\n",
            "Epoch 4/300\n",
            "37/37 [==============================] - 4s 96ms/step - loss: 0.1564 - accuracy: 0.9729 - val_loss: 47.3538 - val_accuracy: 0.3135\n",
            "Epoch 5/300\n",
            "37/37 [==============================] - 4s 107ms/step - loss: 0.0729 - accuracy: 0.9847 - val_loss: 51.1204 - val_accuracy: 0.2162\n",
            "Epoch 6/300\n",
            "37/37 [==============================] - 3s 94ms/step - loss: 0.1473 - accuracy: 0.9746 - val_loss: 47.5927 - val_accuracy: 0.3027\n",
            "Epoch 7/300\n",
            "37/37 [==============================] - 3s 92ms/step - loss: 0.0304 - accuracy: 0.9915 - val_loss: 48.8319 - val_accuracy: 0.2162\n",
            "Epoch 8/300\n",
            "37/37 [==============================] - 4s 105ms/step - loss: 0.0254 - accuracy: 0.9881 - val_loss: 45.5570 - val_accuracy: 0.2973\n",
            "Epoch 9/300\n",
            "37/37 [==============================] - 4s 106ms/step - loss: 0.1043 - accuracy: 0.9847 - val_loss: 41.2596 - val_accuracy: 0.3405\n",
            "Epoch 10/300\n",
            "37/37 [==============================] - 4s 103ms/step - loss: 0.0078 - accuracy: 0.9966 - val_loss: 42.5882 - val_accuracy: 0.3027\n",
            "Epoch 11/300\n",
            "37/37 [==============================] - 3s 90ms/step - loss: 0.0292 - accuracy: 0.9949 - val_loss: 40.6866 - val_accuracy: 0.3081\n",
            "Epoch 12/300\n",
            "37/37 [==============================] - 3s 89ms/step - loss: 0.0171 - accuracy: 0.9966 - val_loss: 40.2697 - val_accuracy: 0.3243\n",
            "Epoch 13/300\n",
            "37/37 [==============================] - 4s 104ms/step - loss: 0.0198 - accuracy: 0.9932 - val_loss: 36.7473 - val_accuracy: 0.3297\n",
            "Epoch 14/300\n",
            "37/37 [==============================] - 3s 87ms/step - loss: 0.0258 - accuracy: 0.9915 - val_loss: 40.3748 - val_accuracy: 0.1514\n",
            "Epoch 15/300\n",
            "37/37 [==============================] - 3s 86ms/step - loss: 0.0276 - accuracy: 0.9915 - val_loss: 41.7172 - val_accuracy: 0.3081\n",
            "Epoch 16/300\n",
            "37/37 [==============================] - 3s 86ms/step - loss: 0.0160 - accuracy: 0.9983 - val_loss: 37.3264 - val_accuracy: 0.2703\n",
            "Epoch 17/300\n",
            "37/37 [==============================] - 4s 104ms/step - loss: 2.3351e-04 - accuracy: 1.0000 - val_loss: 36.4887 - val_accuracy: 0.3189\n",
            "Epoch 18/300\n",
            "37/37 [==============================] - 4s 103ms/step - loss: 5.2446e-06 - accuracy: 1.0000 - val_loss: 36.4617 - val_accuracy: 0.3189\n",
            "Epoch 19/300\n",
            "37/37 [==============================] - 4s 103ms/step - loss: 0.0207 - accuracy: 0.9949 - val_loss: 34.2123 - val_accuracy: 0.3351\n",
            "Epoch 20/300\n",
            "37/37 [==============================] - 4s 101ms/step - loss: 0.0276 - accuracy: 0.9949 - val_loss: 38.5241 - val_accuracy: 0.2216\n",
            "Epoch 21/300\n",
            "37/37 [==============================] - 3s 89ms/step - loss: 0.0353 - accuracy: 0.9932 - val_loss: 40.7786 - val_accuracy: 0.2703\n",
            "Epoch 22/300\n",
            "37/37 [==============================] - 3s 89ms/step - loss: 0.0024 - accuracy: 0.9983 - val_loss: 40.3737 - val_accuracy: 0.3514\n",
            "Epoch 23/300\n",
            "37/37 [==============================] - 4s 102ms/step - loss: 0.0137 - accuracy: 0.9949 - val_loss: 43.6577 - val_accuracy: 0.1946\n",
            "Epoch 24/300\n",
            "37/37 [==============================] - ETA: 0s - loss: 0.0078 - accuracy: 0.9949Restoring model weights from the end of the best epoch: 19.\n",
            "37/37 [==============================] - 3s 90ms/step - loss: 0.0078 - accuracy: 0.9949 - val_loss: 41.6331 - val_accuracy: 0.2378\n",
            "Epoch 24: early stopping\n"
          ]
        }
      ],
      "source": [
        "import tensorflow as tf\n",
        "from tensorflow.keras.applications import VGG16\n",
        "from tensorflow.keras.models import Model\n",
        "from tensorflow.keras.layers import Flatten, Dense, Dropout\n",
        "from tensorflow.keras.optimizers import Adam\n",
        "from tensorflow.keras.preprocessing.image import ImageDataGenerator\n",
        "from tensorflow.keras.callbacks import EarlyStopping\n",
        "\n",
        "# learning rate, dropout, dense layers, xception(another pretrained model), cosine decay\n",
        "\n",
        "es = EarlyStopping(monitor=\"val_loss\",patience=5,restore_best_weights=True,verbose=1)\n",
        "\n",
        "# Load the VGG-16 model (pre-trained on ImageNet)\n",
        "base_model = VGG16(weights='imagenet', include_top=False, input_shape=(224, 224, 3))\n",
        "\n",
        "# Freeze the convolutional layers\n",
        "for layer in base_model.layers:\n",
        "    layer.trainable = False\n",
        "\n",
        "# Add custom layers for your specific task (e.g., fine-tuning for a different dataset)\n",
        "x = Flatten()(base_model.output)\n",
        "x = Dense(256, activation='relu')(x)\n",
        "x = Dropout(0.2)(x)\n",
        "output = Dense(5, activation='softmax')(x)  # Replace num_classes with your number of classes\n",
        "\n",
        "# Create the custom model\n",
        "model = Model(inputs=base_model.input, outputs=output)\n",
        "\n",
        "# Compile the model\n",
        "model.compile(optimizer=Adam(learning_rate=0.0001), loss='categorical_crossentropy', metrics=['accuracy'])\n",
        "\n",
        "# Train the model\n",
        "history = model.fit(\n",
        "    X_train,\n",
        "    y_train,\n",
        "    validation_data = (X_val, y_val),\n",
        "    epochs = 300,\n",
        "    batch_size = 16,\n",
        "    callbacks=[es],\n",
        "    verbose=1\n",
        ")"
      ]
    },
    {
      "cell_type": "code",
      "source": [
        "history.history"
      ],
      "metadata": {
        "colab": {
          "base_uri": "https://localhost:8080/"
        },
        "id": "JvcJd2uhNV0u",
        "outputId": "ab054679-4963-47ef-db02-88ae0ad4c7fb"
      },
      "execution_count": 42,
      "outputs": [
        {
          "output_type": "execute_result",
          "data": {
            "text/plain": [
              "{'loss': [3.647512674331665,\n",
              "  0.6750267148017883,\n",
              "  0.07491713762283325,\n",
              "  0.06700719892978668,\n",
              "  0.15100513398647308,\n",
              "  0.02419031411409378,\n",
              "  0.052967846393585205,\n",
              "  0.0007219180115498602,\n",
              "  0.00013362521713133901,\n",
              "  4.313666795496829e-05,\n",
              "  1.0274704436596949e-05,\n",
              "  7.333452685998054e-06,\n",
              "  6.135745934443548e-06,\n",
              "  5.264060746412724e-06,\n",
              "  4.690120931627462e-06,\n",
              "  4.270313183951657e-06,\n",
              "  3.893729626724962e-06,\n",
              "  3.6681244637293275e-06,\n",
              "  3.3419776173104765e-06,\n",
              "  3.167684781146818e-06,\n",
              "  2.989734184666304e-06,\n",
              "  2.8509716685221065e-06,\n",
              "  2.6907935080089374e-06,\n",
              "  2.581915168775595e-06,\n",
              "  2.4655653305671876e-06,\n",
              "  2.3542622784589184e-06,\n",
              "  2.261138433823362e-06,\n",
              "  2.1740718239016132e-06,\n",
              "  2.0876116195722716e-06,\n",
              "  2.0146853785263374e-06,\n",
              "  1.9425656319072004e-06,\n",
              "  1.8759011481961352e-06,\n",
              "  1.8078213770422735e-06,\n",
              "  1.753275682858657e-06,\n",
              "  1.6864075860212324e-06,\n",
              "  1.6334774954884779e-06,\n",
              "  1.5847897429921431e-06,\n",
              "  1.5407482578666531e-06,\n",
              "  1.4993332797530456e-06,\n",
              "  1.4415542182177887e-06,\n",
              "  1.401351028107456e-06,\n",
              "  1.3635715276905103e-06,\n",
              "  1.3288225773067097e-06,\n",
              "  1.2888208402728196e-06,\n",
              "  1.255284018952807e-06,\n",
              "  1.2209384294692427e-06,\n",
              "  1.1888156450368115e-06,\n",
              "  1.1591167776714428e-06,\n",
              "  1.1354788966855267e-06,\n",
              "  1.1005271289832308e-06],\n",
              " 'accuracy': [0.7474576234817505,\n",
              "  0.9271186590194702,\n",
              "  0.9813559055328369,\n",
              "  0.9847457408905029,\n",
              "  0.9745762944221497,\n",
              "  0.993220329284668,\n",
              "  0.9796609878540039,\n",
              "  1.0,\n",
              "  1.0,\n",
              "  1.0,\n",
              "  1.0,\n",
              "  1.0,\n",
              "  1.0,\n",
              "  1.0,\n",
              "  1.0,\n",
              "  1.0,\n",
              "  1.0,\n",
              "  1.0,\n",
              "  1.0,\n",
              "  1.0,\n",
              "  1.0,\n",
              "  1.0,\n",
              "  1.0,\n",
              "  1.0,\n",
              "  1.0,\n",
              "  1.0,\n",
              "  1.0,\n",
              "  1.0,\n",
              "  1.0,\n",
              "  1.0,\n",
              "  1.0,\n",
              "  1.0,\n",
              "  1.0,\n",
              "  1.0,\n",
              "  1.0,\n",
              "  1.0,\n",
              "  1.0,\n",
              "  1.0,\n",
              "  1.0,\n",
              "  1.0,\n",
              "  1.0,\n",
              "  1.0,\n",
              "  1.0,\n",
              "  1.0,\n",
              "  1.0,\n",
              "  1.0,\n",
              "  1.0,\n",
              "  1.0,\n",
              "  1.0,\n",
              "  1.0],\n",
              " 'val_loss': [34.08345413208008,\n",
              "  30.470739364624023,\n",
              "  25.883577346801758,\n",
              "  26.174047470092773,\n",
              "  26.069664001464844,\n",
              "  25.9730224609375,\n",
              "  28.524587631225586,\n",
              "  28.81283187866211,\n",
              "  28.560604095458984,\n",
              "  28.571592330932617,\n",
              "  28.58340835571289,\n",
              "  28.58878517150879,\n",
              "  28.594284057617188,\n",
              "  28.597383499145508,\n",
              "  28.60071563720703,\n",
              "  28.605201721191406,\n",
              "  28.60652732849121,\n",
              "  28.61113739013672,\n",
              "  28.61341667175293,\n",
              "  28.615758895874023,\n",
              "  28.61764144897461,\n",
              "  28.62003517150879,\n",
              "  28.62154769897461,\n",
              "  28.62364959716797,\n",
              "  28.624229431152344,\n",
              "  28.62554168701172,\n",
              "  28.62640953063965,\n",
              "  28.62777328491211,\n",
              "  28.62872886657715,\n",
              "  28.630558013916016,\n",
              "  28.6315975189209,\n",
              "  28.631683349609375,\n",
              "  28.631685256958008,\n",
              "  28.633567810058594,\n",
              "  28.634098052978516,\n",
              "  28.634729385375977,\n",
              "  28.63580894470215,\n",
              "  28.6370906829834,\n",
              "  28.636629104614258,\n",
              "  28.637184143066406,\n",
              "  28.638233184814453,\n",
              "  28.63849449157715,\n",
              "  28.639013290405273,\n",
              "  28.63896942138672,\n",
              "  28.64015769958496,\n",
              "  28.64030647277832,\n",
              "  28.640108108520508,\n",
              "  28.64016342163086,\n",
              "  28.64125633239746,\n",
              "  28.641807556152344],\n",
              " 'val_accuracy': [0.037837836891412735,\n",
              "  0.1459459513425827,\n",
              "  0.3513513505458832,\n",
              "  0.32972973585128784,\n",
              "  0.20540539920330048,\n",
              "  0.34594595432281494,\n",
              "  0.31351351737976074,\n",
              "  0.3027026951313019,\n",
              "  0.318918913602829,\n",
              "  0.318918913602829,\n",
              "  0.31351351737976074,\n",
              "  0.31351351737976074,\n",
              "  0.31351351737976074,\n",
              "  0.31351351737976074,\n",
              "  0.31351351737976074,\n",
              "  0.31351351737976074,\n",
              "  0.31351351737976074,\n",
              "  0.31351351737976074,\n",
              "  0.31351351737976074,\n",
              "  0.31351351737976074,\n",
              "  0.31351351737976074,\n",
              "  0.31351351737976074,\n",
              "  0.31351351737976074,\n",
              "  0.31351351737976074,\n",
              "  0.31351351737976074,\n",
              "  0.31351351737976074,\n",
              "  0.31351351737976074,\n",
              "  0.31351351737976074,\n",
              "  0.31351351737976074,\n",
              "  0.31351351737976074,\n",
              "  0.31351351737976074,\n",
              "  0.31351351737976074,\n",
              "  0.31351351737976074,\n",
              "  0.31351351737976074,\n",
              "  0.31351351737976074,\n",
              "  0.31351351737976074,\n",
              "  0.31351351737976074,\n",
              "  0.31351351737976074,\n",
              "  0.31351351737976074,\n",
              "  0.31351351737976074,\n",
              "  0.31351351737976074,\n",
              "  0.31351351737976074,\n",
              "  0.31351351737976074,\n",
              "  0.31351351737976074,\n",
              "  0.31351351737976074,\n",
              "  0.31351351737976074,\n",
              "  0.31351351737976074,\n",
              "  0.31351351737976074,\n",
              "  0.31351351737976074,\n",
              "  0.31351351737976074]}"
            ]
          },
          "metadata": {},
          "execution_count": 42
        }
      ]
    },
    {
      "cell_type": "code",
      "source": [
        "model.evaluate(X_test, y_test)"
      ],
      "metadata": {
        "colab": {
          "base_uri": "https://localhost:8080/"
        },
        "id": "xGD0G8QTRHXO",
        "outputId": "73ed50d9-5a20-40fc-c1f1-c3e68ee746a0"
      },
      "execution_count": 43,
      "outputs": [
        {
          "output_type": "stream",
          "name": "stdout",
          "text": [
            "5/5 [==============================] - 10s 1s/step - loss: 54.2825 - accuracy: 0.0000e+00\n"
          ]
        },
        {
          "output_type": "execute_result",
          "data": {
            "text/plain": [
              "[54.28248596191406, 0.0]"
            ]
          },
          "metadata": {},
          "execution_count": 43
        }
      ]
    }
  ]
}