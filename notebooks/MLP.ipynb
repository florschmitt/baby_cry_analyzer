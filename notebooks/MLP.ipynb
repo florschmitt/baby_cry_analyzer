{
 "cells": [
  {
   "cell_type": "code",
   "execution_count": 1,
   "id": "e30c682f",
   "metadata": {},
   "outputs": [],
   "source": [
    "import os\n",
    "import numpy as np\n",
    "import librosa\n",
    "from sklearn.model_selection import train_test_split\n",
    "from sklearn.metrics import classification_report, confusion_matrix, accuracy_score\n",
    "import seaborn as sns\n",
    "import matplotlib.pyplot as plt\n",
    "import pandas as pd\n",
    "from sklearn.neural_network import MLPClassifier\n",
    "from sklearn.preprocessing import StandardScaler\n",
    "from sklearn.utils.class_weight import compute_class_weight\n",
    "from tqdm import tqdm\n",
    "from imblearn.over_sampling import RandomOverSampler\n",
    "import seaborn as sns"
   ]
  },
  {
   "cell_type": "code",
   "execution_count": 2,
   "id": "63fea818",
   "metadata": {},
   "outputs": [],
   "source": [
    "def extract_features(audio_file):\n",
    "    # Load the audio file using librosa\n",
    "    y, sr = librosa.load(audio_file)\n",
    "\n",
    "    # Apply pre-emphasis to the audio signal\n",
    "    pre_emphasis = 0.97\n",
    "    y = np.append(y[0], y[1:] - pre_emphasis * y[:-1])\n",
    "\n",
    "    # Extract MFCC (Mel-Frequency Cepstral Coefficients) features\n",
    "    mfccs = librosa.feature.mfcc(y=y, sr=sr, n_mfcc=13)\n",
    "\n",
    "    return np.mean(mfccs.T, axis=0)"
   ]
  },
  {
   "cell_type": "code",
   "execution_count": 3,
   "id": "0e8bc044",
   "metadata": {},
   "outputs": [
    {
     "name": "stderr",
     "output_type": "stream",
     "text": [
      "Processing awake: 100%|██████████| 156/156 [00:07<00:00, 20.96it/s]\n",
      "Processing belly_pain: 100%|██████████| 20/20 [00:00<00:00, 56.18it/s]\n",
      "Processing burping: 100%|██████████| 22/22 [00:00<00:00, 53.01it/s]\n",
      "Processing discomfort: 100%|██████████| 325/325 [00:10<00:00, 30.09it/s]\n",
      "Processing hug: 100%|██████████| 157/157 [00:06<00:00, 22.65it/s]\n",
      "Processing hungry: 100%|██████████| 537/537 [00:12<00:00, 42.16it/s]\n",
      "Processing tired: 100%|██████████| 184/184 [00:06<00:00, 30.49it/s]\n"
     ]
    }
   ],
   "source": [
    "features = []\n",
    "labels = []\n",
    "data_folder = 'data_set'\n",
    "subfolders = ['awake', 'belly_pain', 'burping', 'discomfort', 'hug', 'hungry', 'tired']\n",
    "\n",
    "for label, subfolder in enumerate(subfolders):\n",
    "    path = os.path.join(data_folder, subfolder)\n",
    "    \n",
    "    if not os.path.isdir(path):\n",
    "        print(f\"Subfolder {path} not found.\")\n",
    "        continue\n",
    "\n",
    "    for file_name in tqdm(os.listdir(path), desc=f\"Processing {subfolder}\"):\n",
    "        if file_name.endswith('.wav'):\n",
    "            audio_file = os.path.join(path, file_name)\n",
    "            mfccs = extract_features(audio_file)\n",
    "            features.append(mfccs)\n",
    "            labels.append(label)"
   ]
  },
  {
   "cell_type": "code",
   "execution_count": 4,
   "id": "f5d10567",
   "metadata": {},
   "outputs": [],
   "source": [
    "features = np.array(features)\n",
    "labels = np.array(labels)\n",
    "ros = RandomOverSampler(random_state=42)\n",
    "X_res, y_res = ros.fit_resample(features, labels)\n",
    "X_train, X_test, y_train, y_test = train_test_split(X_res, y_res, test_size=0.2, random_state=42)"
   ]
  },
  {
   "cell_type": "code",
   "execution_count": 5,
   "id": "26e639a7",
   "metadata": {},
   "outputs": [],
   "source": [
    "scaler = StandardScaler()\n",
    "X_train_scaled = scaler.fit_transform(X_train)\n",
    "X_test_scaled = scaler.transform(X_test)"
   ]
  },
  {
   "cell_type": "code",
   "execution_count": 6,
   "id": "af98a814",
   "metadata": {},
   "outputs": [],
   "source": [
    "#Create an instance of MLPClassifier\n",
    "mlp = MLPClassifier(\n",
    "    alpha=0.01,\n",
    "    max_iter=2000,\n",
    "    hidden_layer_sizes=(12,), \n",
    "    solver='lbfgs',\n",
    "    random_state=1,\n",
    "    early_stopping=True,\n",
    "    validation_fraction=0.1\n",
    ")"
   ]
  },
  {
   "cell_type": "code",
   "execution_count": 7,
   "id": "93c04fba",
   "metadata": {},
   "outputs": [],
   "source": [
    "# Fit the model to the training data\n",
    "mlp.fit(X_train_scaled, y_train)\n",
    "\n",
    "# Predict labels of the test set\n",
    "y_pred = mlp.predict(X_test_scaled)"
   ]
  },
  {
   "cell_type": "code",
   "execution_count": 8,
   "id": "275a8781",
   "metadata": {},
   "outputs": [
    {
     "name": "stdout",
     "output_type": "stream",
     "text": [
      "Classification Report:\n",
      "              precision    recall  f1-score   support\n",
      "\n",
      "           0       0.52      0.59      0.55       110\n",
      "           1       0.97      1.00      0.99        99\n",
      "           2       0.96      1.00      0.98       114\n",
      "           3       0.74      0.52      0.61       119\n",
      "           4       0.59      0.78      0.67       107\n",
      "           5       0.68      0.59      0.63       105\n",
      "           6       0.55      0.50      0.52        98\n",
      "\n",
      "    accuracy                           0.71       752\n",
      "   macro avg       0.71      0.71      0.71       752\n",
      "weighted avg       0.72      0.71      0.71       752\n",
      "\n",
      "\n",
      "Confusion Matrix:\n",
      " [[ 65   0   0   8  28   0   9]\n",
      " [  0  99   0   0   0   0   0]\n",
      " [  0   0 114   0   0   0   0]\n",
      " [ 19   1   1  62  11   9  16]\n",
      " [ 14   0   0   5  83   0   5]\n",
      " [ 11   1   4   7  10  62  10]\n",
      " [ 17   1   0   2   9  20  49]]\n",
      "Accuracy Score:\n",
      "0.7101063829787234\n"
     ]
    }
   ],
   "source": [
    "# Print classification report\n",
    "print(\"Classification Report:\")\n",
    "print(classification_report(y_test, y_pred))\n",
    "\n",
    "# Print confusion matrix\n",
    "conf_matrix = confusion_matrix(y_test, y_pred)\n",
    "print(\"\\nConfusion Matrix:\\n\", conf_matrix)\n",
    "\n",
    "# Print accuracy score\n",
    "print(\"Accuracy Score:\")\n",
    "print(accuracy_score(y_test, y_pred))"
   ]
  },
  {
   "cell_type": "code",
   "execution_count": 9,
   "id": "ba41e378",
   "metadata": {},
   "outputs": [
    {
     "data": {
      "image/png": "[encoded data removed]",
      "text/plain": [
       "<Figure size 800x600 with 2 Axes>"
      ]
     },
     "metadata": {},
     "output_type": "display_data"
    }
   ],
   "source": [
    "plt.figure(figsize=(8, 6))\n",
    "yellow = (255 / 255, 223 / 255, 0 / 255)\n",
    "blue = (0 / 255, 56 / 255, 168 / 255)\n",
    "custom_cmap = sns.color_palette([blue, yellow])\n",
    "sns.heatmap(conf_matrix, annot=True, fmt='g', cmap=custom_cmap, xticklabels=subfolders, yticklabels=subfolders)\n",
    "plt.xlabel('Predicted')\n",
    "plt.ylabel('Actual')\n",
    "plt.title('Confusion Matrix')\n",
    "plt.show()"
   ]
  },
  {
   "cell_type": "code",
   "execution_count": 10,
   "id": "54b71810",
   "metadata": {},
   "outputs": [
    {
     "name": "stdout",
     "output_type": "stream",
     "text": [
      "Processing subfolder: awake\n",
      "File: a_p\\awake\\awake_0.wav | Predicted category: discomfort\n",
      "File: a_p\\awake\\awake_130.wav | Predicted category: discomfort\n",
      "File: a_p\\awake\\awake_16.wav | Predicted category: discomfort\n",
      "File: a_p\\awake\\awake_83.wav | Predicted category: discomfort\n",
      "Processing subfolder: belly_pain\n",
      "File: a_p\\belly_pain\\549a46d8-9c84-430e-ade8-97eae2bef787-1430130772174-1.7-m-48-bp.wav | Predicted category: discomfort\n",
      "File: a_p\\belly_pain\\BellyPain02.wav | Predicted category: discomfort\n",
      "Processing subfolder: burping\n",
      "File: a_p\\burping\\7E4B9C14-F955-4BED-9B03-7F3096A6CBFF-1430540826-1.0-f-26-bu.wav | Predicted category: discomfort\n",
      "File: a_p\\burping\\Burping-10.wav | Predicted category: discomfort\n",
      "Processing subfolder: discomfort\n",
      "File: a_p\\discomfort\\2294E2B2-8E36-4DA6-A898-B947CB9446AB-1436462707-1.1-m-26-dc.wav | Predicted category: discomfort\n",
      "File: a_p\\discomfort\\Cold_Hot09.wav | Predicted category: discomfort\n",
      "File: a_p\\discomfort\\diaper_6.wav | Predicted category: discomfort\n",
      "File: a_p\\discomfort\\diaper_91.wav | Predicted category: discomfort\n",
      "File: a_p\\discomfort\\uncomfortable_151.wav | Predicted category: tired\n",
      "File: a_p\\discomfort\\uncomfortable_16.wav | Predicted category: discomfort\n",
      "Processing subfolder: hug\n",
      "File: a_p\\hug\\hug_128.wav | Predicted category: discomfort\n",
      "File: a_p\\hug\\hug_156.wav | Predicted category: discomfort\n",
      "File: a_p\\hug\\hug_90.wav | Predicted category: discomfort\n",
      "Processing subfolder: hungry\n",
      "File: a_p\\hungry\\0c8f14a9-6999-485b-97a2-913c1cbf099c-1430760394426-1.7-m-26-hu.wav | Predicted category: discomfort\n",
      "File: a_p\\hungry\\4cefc13c-e7c0-4b5a-bddb-c40c103e640a-1431583459308-1.7-f-26-hu.wav | Predicted category: discomfort\n",
      "File: a_p\\hungry\\ae5a462b-5424-4b5b-82d5-07ccb61654ab-1430405436291-1.7-f-04-hu.wav | Predicted category: discomfort\n",
      "File: a_p\\hungry\\hungry_18.wav | Predicted category: discomfort\n",
      "File: a_p\\hungry\\hungry_39.wav | Predicted category: discomfort\n",
      "Processing subfolder: tired\n",
      "File: a_p\\tired\\06c4cfa2-7fa6-4fda-91a1-ea186a4acc64-1430029237378-1.7-f-26-ti.wav | Predicted category: discomfort\n",
      "File: a_p\\tired\\d6cda191-4962-4308-9a36-46d5648a95ed-1431587899682-1.7-m-04-ti.wav | Predicted category: discomfort\n",
      "File: a_p\\tired\\sleepy_63.wav | Predicted category: discomfort\n"
     ]
    }
   ],
   "source": [
    "# Define a function to predict the category of an audio file using the model\n",
    "def predict_audio_file(file_path, model):\n",
    "    try:\n",
    "        # Extract MFCC features from the audio file\n",
    "        mfccs = extract_features(file_path)\n",
    "        \n",
    "        # Reshape the MFCC features for prediction\n",
    "        mfccs = mfccs.reshape(1, -1)\n",
    "        \n",
    "        # Make a prediction using the provided model\n",
    "        prediction = model.predict(mfccs)\n",
    "        \n",
    "        # Print the predicted category\n",
    "        print(f\"File: {file_path} | Predicted category: {subfolders[prediction[0]]}\")\n",
    "    except Exception as e:\n",
    "        print(f\"Can't load file {file_path}: {e}\")\n",
    "\n",
    "# Define the path to the folder containing subfolders with audio files\n",
    "folder_path = \"a_p\"\n",
    "\n",
    "# Iterate through each subfolder in the main folder\n",
    "for subfolder in subfolders:\n",
    "    subfolder_path = os.path.join(folder_path, subfolder)\n",
    "    \n",
    "    # Check if the subfolder exists\n",
    "    if not os.path.exists(subfolder_path):\n",
    "        print(f\"Subfolder {subfolder_path} not found.\")\n",
    "        continue\n",
    "\n",
    "    # Print the name of the subfolder being processed\n",
    "    print(f\"Processing subfolder: {subfolder}\")\n",
    "    \n",
    "    # Iterate through each audio file in the subfolder and make predictions\n",
    "    for new_file in os.listdir(subfolder_path):\n",
    "        file_path = os.path.join(subfolder_path, new_file)\n",
    "        predict_audio_file(file_path, mlp)  # Pass the model 'knn' for prediction"
   ]
  },
  {
   "cell_type": "code",
   "execution_count": null,
   "id": "c7989f72",
   "metadata": {},
   "outputs": [],
   "source": []
  }
 ],
 "metadata": {
  "kernelspec": {
   "display_name": "Python 3 (ipykernel)",
   "language": "python",
   "name": "python3"
  },
  "language_info": {
   "codemirror_mode": {
    "name": "ipython",
    "version": 3
   },
   "file_extension": ".py",
   "mimetype": "text/x-python",
   "name": "python",
   "nbconvert_exporter": "python",
   "pygments_lexer": "ipython3",
   "version": "3.10.8"
  }
 },
 "nbformat": 4,
 "nbformat_minor": 5
}
