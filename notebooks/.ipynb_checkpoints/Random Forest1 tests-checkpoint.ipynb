{
 "cells": [
  {
   "cell_type": "code",
   "execution_count": 7,
   "id": "9c03806b",
   "metadata": {},
   "outputs": [],
   "source": [
    "import os\n",
    "import numpy as np\n",
    "import librosa\n",
    "from sklearn.ensemble import RandomForestClassifier\n",
    "from sklearn.model_selection import train_test_split\n",
    "from sklearn.metrics import classification_report, confusion_matrix, accuracy_score\n",
    "import seaborn as sns\n",
    "import matplotlib.pyplot as plt\n",
    "from tqdm import tqdm"
   ]
  },
  {
   "cell_type": "code",
   "execution_count": 2,
   "id": "b8210364",
   "metadata": {},
   "outputs": [],
   "source": [
    "data_folder = 'data_set'\n",
    "subfolders = ['awake', 'belly_pain', 'burping', 'discomfort', 'hug', 'hungry', 'tired']"
   ]
  },
  {
   "cell_type": "code",
   "execution_count": 3,
   "id": "12612a55",
   "metadata": {},
   "outputs": [],
   "source": [
    "features = []\n",
    "labels = []"
   ]
  },
  {
   "cell_type": "code",
   "execution_count": 4,
   "id": "37cc488f",
   "metadata": {},
   "outputs": [],
   "source": [
    "def extract_features(audio_file):\n",
    "\n",
    "    y, sr = librosa.load(audio_file)\n",
    "    \n",
    "\n",
    "    pre_emphasis = 0.97\n",
    "    y = np.append(y[0], y[1:] - pre_emphasis * y[:-1])\n",
    "\n",
    "    mfccs = librosa.feature.mfcc(y=y, sr=sr, n_mfcc=13)\n",
    "    \n",
    "    return np.mean(mfccs.T, axis=0)"
   ]
  },
  {
   "cell_type": "code",
   "execution_count": 5,
   "id": "88615968",
   "metadata": {
    "scrolled": false
   },
   "outputs": [],
   "source": [
    "# for label, subfolder in enumerate(subfolders):\n",
    "#     path = os.path.join(data_folder, subfolder)\n",
    "    \n",
    "#     if not os.path.isdir(path):\n",
    "#         print(f\"Subfolder {path} not found.\")\n",
    "#         continue\n",
    "\n",
    "#     for file_name in os.listdir(path):\n",
    "#         if file_name.endswith('.wav'):\n",
    "#             audio_file = os.path.join(path, file_name)\n",
    "#             mfccs = extract_features(audio_file)\n",
    "#             features.append(mfccs)\n",
    "#             labels.append(label)"
   ]
  },
  {
   "cell_type": "code",
   "execution_count": 8,
   "id": "d0bad2b5",
   "metadata": {},
   "outputs": [
    {
     "name": "stderr",
     "output_type": "stream",
     "text": [
      "Processing awake: 100%|██████████| 156/156 [00:05<00:00, 30.16it/s]\n",
      "Processing belly_pain: 100%|██████████| 20/20 [00:00<00:00, 61.72it/s]\n",
      "Processing burping: 100%|██████████| 22/22 [00:00<00:00, 65.87it/s]\n",
      "Processing discomfort: 100%|██████████| 325/325 [00:09<00:00, 33.12it/s]\n",
      "Processing hug: 100%|██████████| 157/157 [00:05<00:00, 27.08it/s]\n",
      "Processing hungry: 100%|██████████| 537/537 [00:11<00:00, 46.01it/s]\n",
      "Processing tired: 100%|██████████| 184/184 [00:05<00:00, 31.49it/s]\n"
     ]
    }
   ],
   "source": [
    "for label, subfolder in enumerate(subfolders):\n",
    "    path = os.path.join(data_folder, subfolder)\n",
    "    \n",
    "    if not os.path.isdir(path):\n",
    "        print(f\"Subfolder {path} not found.\")\n",
    "        continue\n",
    "\n",
    "    for file_name in tqdm(os.listdir(path), desc=f\"Processing {subfolder}\"):\n",
    "        if file_name.endswith('.wav'):\n",
    "            audio_file = os.path.join(path, file_name)\n",
    "            mfccs = extract_features(audio_file)\n",
    "            features.append(mfccs)\n",
    "            labels.append(label)"
   ]
  },
  {
   "cell_type": "code",
   "execution_count": 9,
   "id": "ad38f427",
   "metadata": {},
   "outputs": [],
   "source": [
    "features = np.array(features)\n",
    "labels = np.array(labels)"
   ]
  },
  {
   "cell_type": "code",
   "execution_count": 10,
   "id": "040d914f",
   "metadata": {},
   "outputs": [],
   "source": [
    "X_train, X_test, y_train, y_test = train_test_split(features, labels, test_size=0.2, random_state=42)"
   ]
  },
  {
   "cell_type": "code",
   "execution_count": 11,
   "id": "e6d721f2",
   "metadata": {},
   "outputs": [],
   "source": [
    "from sklearn.utils.class_weight import compute_class_weight\n",
    "class_weights = compute_class_weight('balanced', classes=np.unique(y_train), y=y_train)\n",
    "\n",
    "weights_dict = {class_label: weight for class_label, weight in zip(np.unique(y_train), class_weights)}\n"
   ]
  },
  {
   "cell_type": "code",
   "execution_count": 12,
   "id": "04b242e9",
   "metadata": {},
   "outputs": [],
   "source": [
    "# model = RandomForestClassifier(n_estimators=100, random_state=42)\n",
    "# model.fit(X_train, y_train)"
   ]
  },
  {
   "cell_type": "code",
   "execution_count": 13,
   "id": "5389801e",
   "metadata": {},
   "outputs": [
    {
     "data": {
      "text/html": [
       "<style>#sk-container-id-1 {color: black;}#sk-container-id-1 pre{padding: 0;}#sk-container-id-1 div.sk-toggleable {background-color: white;}#sk-container-id-1 label.sk-toggleable__label {cursor: pointer;display: block;width: 100%;margin-bottom: 0;padding: 0.3em;box-sizing: border-box;text-align: center;}#sk-container-id-1 label.sk-toggleable__label-arrow:before {content: \"▸\";float: left;margin-right: 0.25em;color: #696969;}#sk-container-id-1 label.sk-toggleable__label-arrow:hover:before {color: black;}#sk-container-id-1 div.sk-estimator:hover label.sk-toggleable__label-arrow:before {color: black;}#sk-container-id-1 div.sk-toggleable__content {max-height: 0;max-width: 0;overflow: hidden;text-align: left;background-color: #f0f8ff;}#sk-container-id-1 div.sk-toggleable__content pre {margin: 0.2em;color: black;border-radius: 0.25em;background-color: #f0f8ff;}#sk-container-id-1 input.sk-toggleable__control:checked~div.sk-toggleable__content {max-height: 200px;max-width: 100%;overflow: auto;}#sk-container-id-1 input.sk-toggleable__control:checked~label.sk-toggleable__label-arrow:before {content: \"▾\";}#sk-container-id-1 div.sk-estimator input.sk-toggleable__control:checked~label.sk-toggleable__label {background-color: #d4ebff;}#sk-container-id-1 div.sk-label input.sk-toggleable__control:checked~label.sk-toggleable__label {background-color: #d4ebff;}#sk-container-id-1 input.sk-hidden--visually {border: 0;clip: rect(1px 1px 1px 1px);clip: rect(1px, 1px, 1px, 1px);height: 1px;margin: -1px;overflow: hidden;padding: 0;position: absolute;width: 1px;}#sk-container-id-1 div.sk-estimator {font-family: monospace;background-color: #f0f8ff;border: 1px dotted black;border-radius: 0.25em;box-sizing: border-box;margin-bottom: 0.5em;}#sk-container-id-1 div.sk-estimator:hover {background-color: #d4ebff;}#sk-container-id-1 div.sk-parallel-item::after {content: \"\";width: 100%;border-bottom: 1px solid gray;flex-grow: 1;}#sk-container-id-1 div.sk-label:hover label.sk-toggleable__label {background-color: #d4ebff;}#sk-container-id-1 div.sk-serial::before {content: \"\";position: absolute;border-left: 1px solid gray;box-sizing: border-box;top: 0;bottom: 0;left: 50%;z-index: 0;}#sk-container-id-1 div.sk-serial {display: flex;flex-direction: column;align-items: center;background-color: white;padding-right: 0.2em;padding-left: 0.2em;position: relative;}#sk-container-id-1 div.sk-item {position: relative;z-index: 1;}#sk-container-id-1 div.sk-parallel {display: flex;align-items: stretch;justify-content: center;background-color: white;position: relative;}#sk-container-id-1 div.sk-item::before, #sk-container-id-1 div.sk-parallel-item::before {content: \"\";position: absolute;border-left: 1px solid gray;box-sizing: border-box;top: 0;bottom: 0;left: 50%;z-index: -1;}#sk-container-id-1 div.sk-parallel-item {display: flex;flex-direction: column;z-index: 1;position: relative;background-color: white;}#sk-container-id-1 div.sk-parallel-item:first-child::after {align-self: flex-end;width: 50%;}#sk-container-id-1 div.sk-parallel-item:last-child::after {align-self: flex-start;width: 50%;}#sk-container-id-1 div.sk-parallel-item:only-child::after {width: 0;}#sk-container-id-1 div.sk-dashed-wrapped {border: 1px dashed gray;margin: 0 0.4em 0.5em 0.4em;box-sizing: border-box;padding-bottom: 0.4em;background-color: white;}#sk-container-id-1 div.sk-label label {font-family: monospace;font-weight: bold;display: inline-block;line-height: 1.2em;}#sk-container-id-1 div.sk-label-container {text-align: center;}#sk-container-id-1 div.sk-container {/* jupyter's `normalize.less` sets `[hidden] { display: none; }` but bootstrap.min.css set `[hidden] { display: none !important; }` so we also need the `!important` here to be able to override the default hidden behavior on the sphinx rendered scikit-learn.org. See: https://github.com/scikit-learn/scikit-learn/issues/21755 */display: inline-block !important;position: relative;}#sk-container-id-1 div.sk-text-repr-fallback {display: none;}</style><div id=\"sk-container-id-1\" class=\"sk-top-container\"><div class=\"sk-text-repr-fallback\"><pre>RandomForestClassifier(class_weight={0: 1.2653867871259175,\n",
       "                                     1: 10.004464285714286,\n",
       "                                     2: 8.892857142857142,\n",
       "                                     3: 0.6216366158113731,\n",
       "                                     4: 1.2408637873754154,\n",
       "                                     5: 0.37312687312687315,\n",
       "                                     6: 1.1077607513593672},\n",
       "                       random_state=42)</pre><b>In a Jupyter environment, please rerun this cell to show the HTML representation or trust the notebook. <br />On GitHub, the HTML representation is unable to render, please try loading this page with nbviewer.org.</b></div><div class=\"sk-container\" hidden><div class=\"sk-item\"><div class=\"sk-estimator sk-toggleable\"><input class=\"sk-toggleable__control sk-hidden--visually\" id=\"sk-estimator-id-1\" type=\"checkbox\" checked><label for=\"sk-estimator-id-1\" class=\"sk-toggleable__label sk-toggleable__label-arrow\">RandomForestClassifier</label><div class=\"sk-toggleable__content\"><pre>RandomForestClassifier(class_weight={0: 1.2653867871259175,\n",
       "                                     1: 10.004464285714286,\n",
       "                                     2: 8.892857142857142,\n",
       "                                     3: 0.6216366158113731,\n",
       "                                     4: 1.2408637873754154,\n",
       "                                     5: 0.37312687312687315,\n",
       "                                     6: 1.1077607513593672},\n",
       "                       random_state=42)</pre></div></div></div></div></div>"
      ],
      "text/plain": [
       "RandomForestClassifier(class_weight={0: 1.2653867871259175,\n",
       "                                     1: 10.004464285714286,\n",
       "                                     2: 8.892857142857142,\n",
       "                                     3: 0.6216366158113731,\n",
       "                                     4: 1.2408637873754154,\n",
       "                                     5: 0.37312687312687315,\n",
       "                                     6: 1.1077607513593672},\n",
       "                       random_state=42)"
      ]
     },
     "execution_count": 13,
     "metadata": {},
     "output_type": "execute_result"
    }
   ],
   "source": [
    "model = RandomForestClassifier(n_estimators=100, class_weight=weights_dict, random_state=42)\n",
    "model.fit(X_train, y_train)"
   ]
  },
  {
   "cell_type": "code",
   "execution_count": 14,
   "id": "3b559135",
   "metadata": {},
   "outputs": [
    {
     "name": "stdout",
     "output_type": "stream",
     "text": [
      "Accuracy: 0.9358288770053476\n",
      "\n",
      "Classification Report:\n",
      "               precision    recall  f1-score   support\n",
      "\n",
      "       awake       0.88      0.97      0.92        59\n",
      "  belly_pain       1.00      1.00      1.00         8\n",
      "     burping       1.00      1.00      1.00         8\n",
      "  discomfort       0.90      0.96      0.93       135\n",
      "         hug       0.92      0.86      0.89        56\n",
      "      hungry       0.97      0.94      0.95       216\n",
      "       tired       0.95      0.92      0.94        79\n",
      "\n",
      "    accuracy                           0.94       561\n",
      "   macro avg       0.95      0.95      0.95       561\n",
      "weighted avg       0.94      0.94      0.94       561\n",
      "\n"
     ]
    }
   ],
   "source": [
    "y_pred = model.predict(X_test)\n",
    "print(\"Accuracy:\", accuracy_score(y_test, y_pred))\n",
    "print(\"\\nClassification Report:\\n\", classification_report(y_test, y_pred, target_names=subfolders))"
   ]
  },
  {
   "cell_type": "code",
   "execution_count": 15,
   "id": "780b6027",
   "metadata": {},
   "outputs": [
    {
     "name": "stdout",
     "output_type": "stream",
     "text": [
      "\n",
      "Confusion Matrix:\n",
      " [[ 57   0   0   2   0   0   0]\n",
      " [  0   8   0   0   0   0   0]\n",
      " [  0   0   8   0   0   0   0]\n",
      " [  2   0   0 129   0   4   0]\n",
      " [  0   0   0   4  48   0   4]\n",
      " [  4   0   0   6   4 202   0]\n",
      " [  2   0   0   2   0   2  73]]\n"
     ]
    }
   ],
   "source": [
    "conf_matrix = confusion_matrix(y_test, y_pred)\n",
    "print(\"\\nConfusion Matrix:\\n\", conf_matrix)"
   ]
  },
  {
   "cell_type": "code",
   "execution_count": 16,
   "id": "27c0dd5b",
   "metadata": {},
   "outputs": [
    {
     "data": {
      "image/png": "[encoded data removed]",
      "text/plain": [
       "<Figure size 800x600 with 2 Axes>"
      ]
     },
     "metadata": {},
     "output_type": "display_data"
    }
   ],
   "source": [
    "plt.figure(figsize=(8, 6))\n",
    "sns.heatmap(conf_matrix, annot=True, fmt='g', cmap='Blues', xticklabels=subfolders, yticklabels=subfolders)\n",
    "plt.xlabel('Predicted')\n",
    "plt.ylabel('Actual')\n",
    "plt.title('Confusion Matrix')\n",
    "plt.show()"
   ]
  },
  {
   "cell_type": "code",
   "execution_count": 17,
   "id": "b8f85ee2",
   "metadata": {},
   "outputs": [],
   "source": [
    "def predict_audio_file(file_path):\n",
    "    mfccs = extract_features(file_path)\n",
    "    mfccs = mfccs.reshape(1, -1)\n",
    "    prediction = model.predict(mfccs)\n",
    "    print(f\"Prediction for  {file_path}: {subfolders[prediction[0]]}\")"
   ]
  },
  {
   "cell_type": "code",
   "execution_count": 18,
   "id": "6a2e2bce",
   "metadata": {},
   "outputs": [
    {
     "name": "stdout",
     "output_type": "stream",
     "text": [
      "Processing subfolder: awake\n",
      "File: a_p\\awake\\awake_0.wav | Predict category: hungry\n",
      "File: a_p\\awake\\awake_130.wav | Predict category: hungry\n",
      "File: a_p\\awake\\awake_16.wav | Predict category: awake\n",
      "File: a_p\\awake\\awake_83.wav | Predict category: awake\n",
      "Processing subfolder: belly_pain\n",
      "File: a_p\\belly_pain\\549a46d8-9c84-430e-ade8-97eae2bef787-1430130772174-1.7-m-48-bp.wav | Predict category: hungry\n",
      "File: a_p\\belly_pain\\BellyPain02.wav | Predict category: belly_pain\n",
      "Processing subfolder: burping\n",
      "File: a_p\\burping\\7E4B9C14-F955-4BED-9B03-7F3096A6CBFF-1430540826-1.0-f-26-bu.wav | Predict category: hungry\n",
      "File: a_p\\burping\\Burping-10.wav | Predict category: burping\n",
      "Processing subfolder: discomfort\n",
      "File: a_p\\discomfort\\2294E2B2-8E36-4DA6-A898-B947CB9446AB-1436462707-1.1-m-26-dc.wav | Predict category: hungry\n",
      "File: a_p\\discomfort\\Cold_Hot09.wav | Predict category: discomfort\n",
      "File: a_p\\discomfort\\diaper_6.wav | Predict category: discomfort\n",
      "File: a_p\\discomfort\\diaper_91.wav | Predict category: discomfort\n",
      "File: a_p\\discomfort\\uncomfortable_151.wav | Predict category: discomfort\n",
      "File: a_p\\discomfort\\uncomfortable_16.wav | Predict category: discomfort\n",
      "Processing subfolder: hug\n",
      "File: a_p\\hug\\hug_128.wav | Predict category: awake\n",
      "File: a_p\\hug\\hug_156.wav | Predict category: hug\n",
      "File: a_p\\hug\\hug_90.wav | Predict category: hug\n",
      "Processing subfolder: hungry\n",
      "File: a_p\\hungry\\0c8f14a9-6999-485b-97a2-913c1cbf099c-1430760394426-1.7-m-26-hu.wav | Predict category: hungry\n",
      "File: a_p\\hungry\\4cefc13c-e7c0-4b5a-bddb-c40c103e640a-1431583459308-1.7-f-26-hu.wav | Predict category: hungry\n",
      "File: a_p\\hungry\\ae5a462b-5424-4b5b-82d5-07ccb61654ab-1430405436291-1.7-f-04-hu.wav | Predict category: hungry\n",
      "File: a_p\\hungry\\hungry_18.wav | Predict category: hungry\n",
      "File: a_p\\hungry\\hungry_39.wav | Predict category: tired\n",
      "Processing subfolder: tired\n",
      "File: a_p\\tired\\06c4cfa2-7fa6-4fda-91a1-ea186a4acc64-1430029237378-1.7-f-26-ti.wav | Predict category: hungry\n",
      "File: a_p\\tired\\d6cda191-4962-4308-9a36-46d5648a95ed-1431587899682-1.7-m-04-ti.wav | Predict category: tired\n",
      "File: a_p\\tired\\sleepy_63.wav | Predict category: tired\n"
     ]
    }
   ],
   "source": [
    "def predict_audio_file(file_path):\n",
    "    try:\n",
    "        mfccs = extract_features(file_path)\n",
    "        mfccs = mfccs.reshape(1, -1)\n",
    "        prediction = model.predict(mfccs)\n",
    "        print(f\"File: {file_path} | Predict category: {subfolders[prediction[0]]}\")\n",
    "    except Exception as e:\n",
    "        print(f\"Can't load file {file_path}: {e}\")\n",
    "\n",
    "folder_path = \"a_p\"\n",
    "\n",
    "# Если есть подкаталоги, итерируемся по ним\n",
    "for subfolder in subfolders:\n",
    "    subfolder_path = os.path.join(folder_path, subfolder)\n",
    "    \n",
    "    if not os.path.exists(subfolder_path):\n",
    "        print(f\"Subfolder {subfolder_path} not found.\")\n",
    "        continue\n",
    "\n",
    "    print(f\"Processing subfolder: {subfolder}\")\n",
    "    \n",
    "    for new_file in os.listdir(subfolder_path):\n",
    "        file_path = os.path.join(subfolder_path, new_file)\n",
    "        predict_audio_file(file_path)"
   ]
  },
  {
   "cell_type": "code",
   "execution_count": null,
   "id": "005914fa",
   "metadata": {},
   "outputs": [],
   "source": [
    "awake = 156\n",
    "tired = 184\n",
    "belly_pain = 20\n",
    "burping = 22\n",
    "discomfort = 325\n",
    "hug = 157\n",
    "hungry = 537\n",
    "\n",
    "# forest = RandomForestClassifier(\n",
    "#     max_depth=32,\n",
    "#     criterion=\"entropy\",\n",
    "#     n_estimators=100\n",
    "# )"
   ]
  }
 ],
 "metadata": {
  "kernelspec": {
   "display_name": "Python 3 (ipykernel)",
   "language": "python",
   "name": "python3"
  },
  "language_info": {
   "codemirror_mode": {
    "name": "ipython",
    "version": 3
   },
   "file_extension": ".py",
   "mimetype": "text/x-python",
   "name": "python",
   "nbconvert_exporter": "python",
   "pygments_lexer": "ipython3",
   "version": "3.10.8"
  },
  "toc": {
   "base_numbering": 1,
   "nav_menu": {},
   "number_sections": true,
   "sideBar": true,
   "skip_h1_title": false,
   "title_cell": "Table of Contents",
   "title_sidebar": "Contents",
   "toc_cell": false,
   "toc_position": {},
   "toc_section_display": true,
   "toc_window_display": false
  }
 },
 "nbformat": 4,
 "nbformat_minor": 5
}
