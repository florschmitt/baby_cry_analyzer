{
 "cells": [
  {
   "cell_type": "code",
   "execution_count": 1,
   "id": "3fcaf039",
   "metadata": {},
   "outputs": [],
   "source": [
    "import os\n",
    "import numpy as np\n",
    "import librosa\n",
    "from sklearn.ensemble import RandomForestClassifier\n",
    "from sklearn.model_selection import train_test_split, GridSearchCV\n",
    "from sklearn.metrics import classification_report, confusion_matrix, accuracy_score\n",
    "import seaborn as sns\n",
    "import matplotlib.pyplot as plt\n",
    "from sklearn.svm import SVC"
   ]
  },
  {
   "cell_type": "code",
   "execution_count": 2,
   "id": "1d5b4f4b",
   "metadata": {},
   "outputs": [],
   "source": [
    "data_folder = 'data_set'\n",
    "subfolders = ['awake', 'belly_pain', 'burping', 'discomfort', 'hug', 'hungry', 'tired']"
   ]
  },
  {
   "cell_type": "code",
   "execution_count": 3,
   "id": "b2961292",
   "metadata": {},
   "outputs": [],
   "source": [
    "features = []\n",
    "labels = []"
   ]
  },
  {
   "cell_type": "code",
   "execution_count": 4,
   "id": "0287062a",
   "metadata": {},
   "outputs": [],
   "source": [
    "def pre_emphasis_filter(signal, alpha=0.95):\n",
    "    return np.append(signal[0], signal[1:] - alpha * signal[:-1])"
   ]
  },
  {
   "cell_type": "code",
   "execution_count": 5,
   "id": "1a8b0254",
   "metadata": {},
   "outputs": [],
   "source": [
    "def mfcc_extraction(file_path, n_mfcc=13):\n",
    "    # Load the audio file\n",
    "    signal, sr = librosa.load(file_path, sr=None)  # Corrected sr value\n",
    "\n",
    "    # Apply a pre-emphasis filter\n",
    "    filtered_signal = pre_emphasis_filter(signal)\n",
    "\n",
    "    # Frame the signal into short frames\n",
    "    frames = librosa.util.frame(filtered_signal, frame_length=int(sr*0.025), hop_length=int(sr*0.01))\n",
    "\n",
    "    # Compute the periodogram estimate of the power spectrum\n",
    "    power_spectra = np.abs(np.fft.rfft(frames, axis=0))**2\n",
    "\n",
    "    # Apply Mel filterbank\n",
    "    mel_filterbank = librosa.filters.mel(sr=sr, n_fft=int(sr*0.025), n_mels=n_mfcc)\n",
    "    mel_spectra = np.dot(mel_filterbank, power_spectra)\n",
    "\n",
    "    # Take the logarithm of filterbank energies\n",
    "    log_mel_spectra = np.log(mel_spectra + 1e-10)\n",
    "\n",
    "    # Apply DCT to get MFCCs\n",
    "    mfccs = librosa.feature.mfcc(S=log_mel_spectra, n_mfcc=n_mfcc)\n",
    "    \n",
    "    return mfccs.T"
   ]
  },
  {
   "cell_type": "code",
   "execution_count": null,
   "id": "b5fb5479",
   "metadata": {},
   "outputs": [],
   "source": [
    "# Iterating over the dataset folder and extracting features and labels\n",
    "for subfolder in subfolders:\n",
    "    for file_name in os.listdir(os.path.join(data_folder, subfolder)):\n",
    "        file_path = os.path.join(data_folder, subfolder, file_name)\n",
    "        if os.path.isfile(file_path):\n",
    "            # Extracting MFCCs from the audio file\n",
    "            mfccs = mfcc_extraction(file_path)\n",
    "            \n",
    "            # Averaging the MFCCs along time axis to get a fixed size feature vector\n",
    "            avg_mfccs = np.mean(mfccs, axis=0)\n",
    "            \n",
    "            features.append(avg_mfccs.tolist())\n",
    "            labels.append(subfolders.index(subfolder))"
   ]
  },
  {
   "cell_type": "code",
   "execution_count": null,
   "id": "03b15b5a",
   "metadata": {},
   "outputs": [],
   "source": [
    "features = np.array(features)\n",
    "labels = np.array(labels)"
   ]
  },
  {
   "cell_type": "code",
   "execution_count": null,
   "id": "6d9c1644",
   "metadata": {},
   "outputs": [],
   "source": [
    "X_train, X_test, y_train, y_test = train_test_split(features, labels, test_size=0.2, random_state=42)"
   ]
  },
  {
   "cell_type": "code",
   "execution_count": null,
   "id": "9f32bafb",
   "metadata": {},
   "outputs": [],
   "source": [
    "# SVM with GridSearchCV\n",
    "param_grid = {'C': [0.1, 1, 10], 'kernel': ['linear', 'rbf'], 'gamma': ['scale', 'auto']}\n",
    "grid_search = GridSearchCV(SVC(class_weight='balanced'), param_grid, cv=5)\n",
    "grid_search.fit(X_train, y_train)"
   ]
  },
  {
   "cell_type": "code",
   "execution_count": null,
   "id": "dbce3aa9",
   "metadata": {
    "scrolled": false
   },
   "outputs": [],
   "source": [
    "# Predicting and Evaluating\n",
    "y_pred_svm = grid_search.best_estimator_.predict(X_test)\n",
    "print(\"\\nSVM Classification Report:\\n\", classification_report(y_test, y_pred_svm, target_names=subfolders))\n",
    "print(\"\\nSVM Confusion Matrix:\\n\", confusion_matrix(y_test, y_pred_svm))\n",
    "print(\"\\nSVM Accuracy:\", accuracy_score(y_test, y_pred_svm))\n",
    "print(\"\\nBest SVM Parameters:\", grid_search.best_params_)"
   ]
  },
  {
   "cell_type": "code",
   "execution_count": null,
   "id": "41492cb2",
   "metadata": {},
   "outputs": [],
   "source": [
    "def predict_audio_file(file_path, model):\n",
    "    try:\n",
    "        mfccs = mfcc_extraction(file_path)\n",
    "        avg_mfccs = np.mean(mfccs, axis=0).reshape(1, -1)  # Added this line to average MFCCs\n",
    "        prediction = model.predict(avg_mfccs)\n",
    "        print(f\"File: {file_path} | Predicted category: {subfolders[prediction[0]]}\")\n",
    "    except Exception as e:\n",
    "        print(f\"Can't load file {file_path}: {e}\")"
   ]
  },
  {
   "cell_type": "code",
   "execution_count": null,
   "id": "ffc90b85",
   "metadata": {},
   "outputs": [],
   "source": [
    "svc_best_model = grid_search.best_estimator_  \n",
    "svc_best_model"
   ]
  },
  {
   "cell_type": "code",
   "execution_count": null,
   "id": "2fbbf55c",
   "metadata": {},
   "outputs": [],
   "source": [
    "folder_path = \"a_p\"\n",
    "for subfolder in subfolders:\n",
    "    subfolder_path = os.path.join(folder_path, subfolder)\n",
    "    \n",
    "    if not os.path.exists(subfolder_path):\n",
    "        print(f\"Subfolder {subfolder_path} not found.\")\n",
    "        continue\n",
    "\n",
    "    print(f\"Processing subfolder: {subfolder}\")\n",
    "    \n",
    "    for new_file in os.listdir(subfolder_path):\n",
    "        file_path = os.path.join(subfolder_path, new_file)\n",
    "        predict_audio_file(file_path, svc_best_model)  "
   ]
  },
  {
   "cell_type": "code",
   "execution_count": null,
   "id": "e2ef930f",
   "metadata": {},
   "outputs": [],
   "source": []
  }
 ],
 "metadata": {
  "kernelspec": {
   "display_name": "Python 3 (ipykernel)",
   "language": "python",
   "name": "python3"
  },
  "language_info": {
   "codemirror_mode": {
    "name": "ipython",
    "version": 3
   },
   "file_extension": ".py",
   "mimetype": "text/x-python",
   "name": "python",
   "nbconvert_exporter": "python",
   "pygments_lexer": "ipython3",
   "version": "3.10.8"
  }
 },
 "nbformat": 4,
 "nbformat_minor": 5
}
