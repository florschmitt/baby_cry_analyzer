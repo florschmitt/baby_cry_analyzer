{
 "cells": [
  {
   "cell_type": "code",
   "execution_count": 16,
   "id": "e30c682f",
   "metadata": {},
   "outputs": [],
   "source": [
    "import os\n",
    "import numpy as np\n",
    "import librosa\n",
    "from sklearn.model_selection import train_test_split\n",
    "from sklearn.metrics import classification_report, confusion_matrix, accuracy_score\n",
    "import seaborn as sns\n",
    "import matplotlib.pyplot as plt\n",
    "import pandas as pd\n",
    "from sklearn.neural_network import MLPClassifier\n",
    "from sklearn.preprocessing import StandardScaler\n",
    "from sklearn.utils.class_weight import compute_class_weight"
   ]
  },
  {
   "cell_type": "code",
   "execution_count": 17,
   "id": "430f5b35",
   "metadata": {},
   "outputs": [],
   "source": [
    "data_folder = 'data_set'\n",
    "subfolders = ['awake', 'belly_pain', 'burping', 'discomfort', 'hug', 'hungry', 'tired']"
   ]
  },
  {
   "cell_type": "code",
   "execution_count": 18,
   "id": "e4e8021e",
   "metadata": {},
   "outputs": [],
   "source": [
    "features = []\n",
    "labels = []"
   ]
  },
  {
   "cell_type": "code",
   "execution_count": 19,
   "id": "cb19d91e",
   "metadata": {},
   "outputs": [],
   "source": [
    "def pre_emphasis_filter(signal, alpha=0.95):\n",
    "    return np.append(signal[0], signal[1:] - alpha * signal[:-1])"
   ]
  },
  {
   "cell_type": "code",
   "execution_count": 20,
   "id": "178fd286",
   "metadata": {},
   "outputs": [],
   "source": [
    "def mfcc_extraction(file_path, n_mfcc=13):\n",
    "    # Load the audio file\n",
    "    signal, sr = librosa.load(file_path, sr=None)  # Corrected sr value\n",
    "\n",
    "    # Apply a pre-emphasis filter\n",
    "    filtered_signal = pre_emphasis_filter(signal)\n",
    "\n",
    "    # Frame the signal into short frames\n",
    "    frames = librosa.util.frame(filtered_signal, frame_length=int(sr*0.025), hop_length=int(sr*0.01))\n",
    "\n",
    "    # Compute the periodogram estimate of the power spectrum\n",
    "    power_spectra = np.abs(np.fft.rfft(frames, axis=0))**2\n",
    "\n",
    "    # Apply Mel filterbank\n",
    "    mel_filterbank = librosa.filters.mel(sr=sr, n_fft=int(sr*0.025), n_mels=n_mfcc)\n",
    "    mel_spectra = np.dot(mel_filterbank, power_spectra)\n",
    "\n",
    "    # Take the logarithm of filterbank energies\n",
    "    log_mel_spectra = np.log(mel_spectra + 1e-10)\n",
    "\n",
    "    # Apply DCT to get MFCCs\n",
    "    mfccs = librosa.feature.mfcc(S=log_mel_spectra, n_mfcc=n_mfcc)\n",
    "    \n",
    "    return mfccs.T"
   ]
  },
  {
   "cell_type": "code",
   "execution_count": 21,
   "id": "91105bef",
   "metadata": {},
   "outputs": [],
   "source": [
    "# Iterating over the dataset folder and extracting features and labels\n",
    "for subfolder in subfolders:\n",
    "    for file_name in os.listdir(os.path.join(data_folder, subfolder)):\n",
    "        file_path = os.path.join(data_folder, subfolder, file_name)\n",
    "        if os.path.isfile(file_path):\n",
    "            # Extracting MFCCs from the audio file\n",
    "            mfccs = mfcc_extraction(file_path)\n",
    "            \n",
    "            # Averaging the MFCCs along time axis to get a fixed size feature vector\n",
    "            avg_mfccs = np.mean(mfccs, axis=0)\n",
    "            \n",
    "            features.append(avg_mfccs.tolist())\n",
    "            labels.append(subfolders.index(subfolder))"
   ]
  },
  {
   "cell_type": "code",
   "execution_count": 22,
   "id": "58265e3e",
   "metadata": {},
   "outputs": [],
   "source": [
    "features = np.array(features)\n",
    "labels = np.array(labels)"
   ]
  },
  {
   "cell_type": "code",
   "execution_count": 23,
   "id": "c3b83903",
   "metadata": {},
   "outputs": [],
   "source": [
    "X_train, X_test, y_train, y_test = train_test_split(features, labels, test_size=0.2, random_state=42)"
   ]
  },
  {
   "cell_type": "code",
   "execution_count": 24,
   "id": "fd22f300",
   "metadata": {},
   "outputs": [],
   "source": [
    "scaler = StandardScaler()\n",
    "X_train_scaled = scaler.fit_transform(X_train)\n",
    "X_test_scaled = scaler.transform(X_test)"
   ]
  },
  {
   "cell_type": "code",
   "execution_count": 25,
   "id": "3a27a28d",
   "metadata": {},
   "outputs": [],
   "source": [
    "# Compute Class Weights\n",
    "class_weights = compute_class_weight('balanced', classes=np.unique(y_train), y=y_train)\n",
    "weights_dict = {i : class_weights[i] for i in range(len(class_weights))}\n"
   ]
  },
  {
   "cell_type": "code",
   "execution_count": 26,
   "id": "af98a814",
   "metadata": {},
   "outputs": [],
   "source": [
    "#Create an instance of MLPClassifier\n",
    "mlp = MLPClassifier(\n",
    "    alpha=0.01,\n",
    "    max_iter=600,\n",
    "    hidden_layer_sizes=(12,), \n",
    "    solver='lbfgs',\n",
    "    random_state=1\n",
    ")"
   ]
  },
  {
   "cell_type": "code",
   "execution_count": 27,
   "id": "93c04fba",
   "metadata": {},
   "outputs": [
    {
     "name": "stderr",
     "output_type": "stream",
     "text": [
      "C:\\Users\\Buga\\AppData\\Local\\Programs\\Python\\Python310\\lib\\site-packages\\sklearn\\neural_network\\_multilayer_perceptron.py:546: ConvergenceWarning: lbfgs failed to converge (status=1):\n",
      "STOP: TOTAL NO. of ITERATIONS REACHED LIMIT.\n",
      "\n",
      "Increase the number of iterations (max_iter) or scale the data as shown in:\n",
      "    https://scikit-learn.org/stable/modules/preprocessing.html\n",
      "  self.n_iter_ = _check_optimize_result(\"lbfgs\", opt_res, self.max_iter)\n"
     ]
    }
   ],
   "source": [
    "# Fit the model to the training data\n",
    "mlp.fit(X_train_scaled, y_train)\n",
    "\n",
    "# Predict labels of the test set\n",
    "y_pred = mlp.predict(X_test_scaled)\n"
   ]
  },
  {
   "cell_type": "code",
   "execution_count": 28,
   "id": "275a8781",
   "metadata": {},
   "outputs": [
    {
     "name": "stdout",
     "output_type": "stream",
     "text": [
      "Classification Report:\n",
      "              precision    recall  f1-score   support\n",
      "\n",
      "           0       0.33      0.35      0.34        26\n",
      "           1       0.00      0.00      0.00         4\n",
      "           2       0.17      0.25      0.20         4\n",
      "           3       0.55      0.41      0.47        64\n",
      "           4       0.38      0.37      0.38        35\n",
      "           5       0.56      0.64      0.60       118\n",
      "           6       0.29      0.30      0.30        30\n",
      "\n",
      "    accuracy                           0.48       281\n",
      "   macro avg       0.33      0.33      0.33       281\n",
      "weighted avg       0.47      0.48      0.47       281\n",
      "\n",
      "Confusion Matrix:\n",
      "[[ 9  0  0  2  1 10  4]\n",
      " [ 0  0  0  0  0  4  0]\n",
      " [ 0  0  1  0  0  3  0]\n",
      " [ 3  0  1 26  4 24  6]\n",
      " [ 4  0  0  5 13  7  6]\n",
      " [ 8  0  4 13 11 76  6]\n",
      " [ 3  0  0  1  5 12  9]]\n",
      "Accuracy Score:\n",
      "0.47686832740213525\n"
     ]
    },
    {
     "name": "stderr",
     "output_type": "stream",
     "text": [
      "C:\\Users\\Buga\\AppData\\Local\\Programs\\Python\\Python310\\lib\\site-packages\\sklearn\\metrics\\_classification.py:1469: UndefinedMetricWarning: Precision and F-score are ill-defined and being set to 0.0 in labels with no predicted samples. Use `zero_division` parameter to control this behavior.\n",
      "  _warn_prf(average, modifier, msg_start, len(result))\n",
      "C:\\Users\\Buga\\AppData\\Local\\Programs\\Python\\Python310\\lib\\site-packages\\sklearn\\metrics\\_classification.py:1469: UndefinedMetricWarning: Precision and F-score are ill-defined and being set to 0.0 in labels with no predicted samples. Use `zero_division` parameter to control this behavior.\n",
      "  _warn_prf(average, modifier, msg_start, len(result))\n",
      "C:\\Users\\Buga\\AppData\\Local\\Programs\\Python\\Python310\\lib\\site-packages\\sklearn\\metrics\\_classification.py:1469: UndefinedMetricWarning: Precision and F-score are ill-defined and being set to 0.0 in labels with no predicted samples. Use `zero_division` parameter to control this behavior.\n",
      "  _warn_prf(average, modifier, msg_start, len(result))\n"
     ]
    }
   ],
   "source": [
    "# Print classification report\n",
    "print(\"Classification Report:\")\n",
    "print(classification_report(y_test, y_pred))\n",
    "\n",
    "# Print confusion matrix\n",
    "print(\"Confusion Matrix:\")\n",
    "print(confusion_matrix(y_test, y_pred))\n",
    "\n",
    "# Print accuracy score\n",
    "print(\"Accuracy Score:\")\n",
    "print(accuracy_score(y_test, y_pred))"
   ]
  },
  {
   "cell_type": "code",
   "execution_count": 29,
   "id": "2f0f56e4",
   "metadata": {},
   "outputs": [],
   "source": [
    "def predict_audio_file(file_path, model):\n",
    "    try:\n",
    "        mfccs = mfcc_extraction(file_path)\n",
    "        avg_mfccs = np.mean(mfccs, axis=0).reshape(1, -1)\n",
    "        prediction = model.predict(avg_mfccs)\n",
    "        print(f\"File: {file_path} | Predicted category: {subfolders[prediction[0]]}\")\n",
    "    except Exception as e:\n",
    "        print(f\"Can't load file {file_path}: {e}\")"
   ]
  },
  {
   "cell_type": "code",
   "execution_count": 30,
   "id": "2de3e043",
   "metadata": {},
   "outputs": [
    {
     "name": "stdout",
     "output_type": "stream",
     "text": [
      "Processing subfolder: awake\n",
      "File: a_p\\awake\\awake_0.wav | Predicted category: tired\n",
      "File: a_p\\awake\\awake_130.wav | Predicted category: tired\n",
      "File: a_p\\awake\\awake_16.wav | Predicted category: tired\n",
      "File: a_p\\awake\\awake_83.wav | Predicted category: tired\n",
      "Processing subfolder: belly_pain\n",
      "File: a_p\\belly_pain\\549a46d8-9c84-430e-ade8-97eae2bef787-1430130772174-1.7-m-48-bp.wav | Predicted category: tired\n",
      "File: a_p\\belly_pain\\BellyPain02.wav | Predicted category: tired\n",
      "Processing subfolder: burping\n",
      "File: a_p\\burping\\7E4B9C14-F955-4BED-9B03-7F3096A6CBFF-1430540826-1.0-f-26-bu.wav | Predicted category: tired\n",
      "File: a_p\\burping\\Burping-10.wav | Predicted category: tired\n",
      "Processing subfolder: discomfort\n",
      "File: a_p\\discomfort\\2294E2B2-8E36-4DA6-A898-B947CB9446AB-1436462707-1.1-m-26-dc.wav | Predicted category: tired\n",
      "File: a_p\\discomfort\\Cold_Hot09.wav | Predicted category: tired\n",
      "File: a_p\\discomfort\\diaper_6.wav | Predicted category: discomfort\n",
      "File: a_p\\discomfort\\diaper_91.wav | Predicted category: tired\n",
      "File: a_p\\discomfort\\uncomfortable_151.wav | Predicted category: tired\n",
      "File: a_p\\discomfort\\uncomfortable_16.wav | Predicted category: tired\n",
      "Processing subfolder: hug\n",
      "File: a_p\\hug\\hug_128.wav | Predicted category: tired\n",
      "File: a_p\\hug\\hug_156.wav | Predicted category: tired\n",
      "File: a_p\\hug\\hug_90.wav | Predicted category: tired\n",
      "Processing subfolder: hungry\n",
      "File: a_p\\hungry\\0c8f14a9-6999-485b-97a2-913c1cbf099c-1430760394426-1.7-m-26-hu.wav | Predicted category: tired\n",
      "File: a_p\\hungry\\4cefc13c-e7c0-4b5a-bddb-c40c103e640a-1431583459308-1.7-f-26-hu.wav | Predicted category: tired\n",
      "File: a_p\\hungry\\ae5a462b-5424-4b5b-82d5-07ccb61654ab-1430405436291-1.7-f-04-hu.wav | Predicted category: tired\n",
      "File: a_p\\hungry\\hungry_18.wav | Predicted category: tired\n",
      "File: a_p\\hungry\\hungry_39.wav | Predicted category: tired\n",
      "Processing subfolder: tired\n",
      "File: a_p\\tired\\06c4cfa2-7fa6-4fda-91a1-ea186a4acc64-1430029237378-1.7-f-26-ti.wav | Predicted category: tired\n",
      "File: a_p\\tired\\d6cda191-4962-4308-9a36-46d5648a95ed-1431587899682-1.7-m-04-ti.wav | Predicted category: tired\n",
      "File: a_p\\tired\\sleepy_63.wav | Predicted category: tired\n"
     ]
    }
   ],
   "source": [
    "folder_path = \"a_p\"\n",
    "for subfolder in subfolders:\n",
    "    subfolder_path = os.path.join(folder_path, subfolder)\n",
    "    \n",
    "    if not os.path.exists(subfolder_path):\n",
    "        print(f\"Subfolder {subfolder_path} not found.\")\n",
    "        continue\n",
    "\n",
    "    print(f\"Processing subfolder: {subfolder}\")\n",
    "    \n",
    "    for new_file in os.listdir(subfolder_path):\n",
    "        file_path = os.path.join(subfolder_path, new_file)\n",
    "        predict_audio_file(file_path, mlp)"
   ]
  },
  {
   "cell_type": "code",
   "execution_count": null,
   "id": "54b71810",
   "metadata": {},
   "outputs": [],
   "source": []
  }
 ],
 "metadata": {
  "kernelspec": {
   "display_name": "Python 3 (ipykernel)",
   "language": "python",
   "name": "python3"
  },
  "language_info": {
   "codemirror_mode": {
    "name": "ipython",
    "version": 3
   },
   "file_extension": ".py",
   "mimetype": "text/x-python",
   "name": "python",
   "nbconvert_exporter": "python",
   "pygments_lexer": "ipython3",
   "version": "3.10.8"
  }
 },
 "nbformat": 4,
 "nbformat_minor": 5
}
